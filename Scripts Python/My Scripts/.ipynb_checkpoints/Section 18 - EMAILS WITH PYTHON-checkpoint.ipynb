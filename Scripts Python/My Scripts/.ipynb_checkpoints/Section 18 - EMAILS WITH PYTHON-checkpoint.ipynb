{
 "cells": [
  {
   "cell_type": "markdown",
   "id": "a971ac06-6457-4358-92e5-5df7eecdb288",
   "metadata": {},
   "source": [
    "##### 135. Sending Emails with Python"
   ]
  },
  {
   "cell_type": "code",
   "execution_count": 1,
   "id": "d4399bd3-59aa-4880-bf36-d13888bed32c",
   "metadata": {},
   "outputs": [],
   "source": [
    "import smtplib"
   ]
  },
  {
   "cell_type": "code",
   "execution_count": 2,
   "id": "eaec145c-6870-4f97-b5fb-5d332daa3c17",
   "metadata": {},
   "outputs": [],
   "source": [
    "import getpass"
   ]
  },
  {
   "cell_type": "code",
   "execution_count": 18,
   "id": "c464da20-b020-45b7-a468-5e51d2132381",
   "metadata": {},
   "outputs": [],
   "source": [
    "smtp_object = smtplib.SMTP('smtp.gmail.com',587)"
   ]
  },
  {
   "cell_type": "code",
   "execution_count": 19,
   "id": "9851b3e3-4eba-49f3-9793-51f990699f1b",
   "metadata": {},
   "outputs": [
    {
     "data": {
      "text/plain": [
       "(250,\n",
       " b'smtp.gmail.com at your service, [187.73.25.177]\\nSIZE 35882577\\n8BITMIME\\nSTARTTLS\\nENHANCEDSTATUSCODES\\nPIPELINING\\nCHUNKING\\nSMTPUTF8')"
      ]
     },
     "execution_count": 19,
     "metadata": {},
     "output_type": "execute_result"
    }
   ],
   "source": [
    "# MUST BE MADE RIGHT AFTER CREATING SMTP OBJECT\n",
    "smtp_object.ehlo()"
   ]
  },
  {
   "cell_type": "code",
   "execution_count": 20,
   "id": "09548040-f1b3-4e39-8042-5abe4972f5b1",
   "metadata": {},
   "outputs": [
    {
     "data": {
      "text/plain": [
       "(220, b'2.0.0 Ready to start TLS')"
      ]
     },
     "execution_count": 20,
     "metadata": {},
     "output_type": "execute_result"
    }
   ],
   "source": [
    "smtp_object.starttls()"
   ]
  },
  {
   "cell_type": "code",
   "execution_count": 21,
   "id": "b9cfcf98-81da-4aa6-af6a-61e303767b6e",
   "metadata": {},
   "outputs": [
    {
     "name": "stdin",
     "output_type": "stream",
     "text": [
      "Email:  gustavo.lage.dev@gmail.com\n",
      "Password please:  ········\n"
     ]
    },
    {
     "data": {
      "text/plain": [
       "(235, b'2.7.0 Accepted')"
      ]
     },
     "execution_count": 21,
     "metadata": {},
     "output_type": "execute_result"
    }
   ],
   "source": [
    "email = input(\"Email: \")\n",
    "password = getpass.getpass(\"Password please: \") #gmail --> app password\n",
    "smtp_object.login(email,password)"
   ]
  },
  {
   "cell_type": "code",
   "execution_count": 22,
   "id": "af924531-911f-4a70-ae54-97e3763912d6",
   "metadata": {},
   "outputs": [
    {
     "name": "stdin",
     "output_type": "stream",
     "text": [
      "Enter the subject line here:  RED FOX TAIL\n",
      "Enter the message here:  Unique animal for a search through my email box.\n"
     ]
    },
    {
     "data": {
      "text/plain": [
       "{}"
      ]
     },
     "execution_count": 22,
     "metadata": {},
     "output_type": "execute_result"
    }
   ],
   "source": [
    "from_adress = email\n",
    "to_adress = email\n",
    "subject = input(\"Enter the subject line here: \")\n",
    "message = input(\"Enter the message here: \")\n",
    "\n",
    "msg = f\"Subject:{subject}\\n\\n{message}\"\n",
    "\n",
    "smtp_object.sendmail(from_adress,to_adress,msg)"
   ]
  },
  {
   "cell_type": "code",
   "execution_count": 23,
   "id": "496afddc-2eff-4b75-9f14-ee9f2de8ce91",
   "metadata": {},
   "outputs": [
    {
     "data": {
      "text/plain": [
       "(221,\n",
       " b'2.0.0 closing connection 98e67ed59e1d1-2cf28e43df5sm1640132a91.55 - gsmtp')"
      ]
     },
     "execution_count": 23,
     "metadata": {},
     "output_type": "execute_result"
    }
   ],
   "source": [
    "smtp_object.quit()"
   ]
  },
  {
   "cell_type": "markdown",
   "id": "0d2996dc-33c7-4526-9c0e-a7ef5b932da0",
   "metadata": {},
   "source": [
    "##### 136. Receiving Emails with Python\r\n"
   ]
  },
  {
   "cell_type": "markdown",
   "id": "e1d0e83d-8de4-4d1b-9c3a-838e919ae235",
   "metadata": {},
   "source": [
    "###### Viewing Emails"
   ]
  },
  {
   "cell_type": "code",
   "execution_count": 3,
   "id": "0178f760-72e9-476b-9e54-5074216426f1",
   "metadata": {},
   "outputs": [],
   "source": [
    "import imaplib"
   ]
  },
  {
   "cell_type": "code",
   "execution_count": null,
   "id": "0e74200c-e651-4864-b0f1-1897bacbfd44",
   "metadata": {},
   "outputs": [],
   "source": [
    "import getpass"
   ]
  },
  {
   "cell_type": "code",
   "execution_count": 4,
   "id": "750e7f20-6430-4584-a37f-977cbc14a195",
   "metadata": {},
   "outputs": [],
   "source": [
    "M = imaplib.IMAP4_SSL(\"imap.gmail.com\")"
   ]
  },
  {
   "cell_type": "code",
   "execution_count": 5,
   "id": "12f6ace7-17b5-46d5-b2de-f18d51648d53",
   "metadata": {},
   "outputs": [
    {
     "name": "stdin",
     "output_type": "stream",
     "text": [
      "Email:  gustavo.lage.dev@gmail.com\n",
      "Password please:  ········\n"
     ]
    }
   ],
   "source": [
    "email = input(\"Email: \")\n",
    "password = getpass.getpass(\"Password please: \")"
   ]
  },
  {
   "cell_type": "code",
   "execution_count": 6,
   "id": "09695ce0-6056-49d1-b5dc-6faf3d866e3c",
   "metadata": {},
   "outputs": [
    {
     "data": {
      "text/plain": [
       "('OK', [b'gustavo.lage.dev@gmail.com authenticated (Success)'])"
      ]
     },
     "execution_count": 6,
     "metadata": {},
     "output_type": "execute_result"
    }
   ],
   "source": [
    "M.login(email,password)"
   ]
  },
  {
   "cell_type": "code",
   "execution_count": 7,
   "id": "fb969453-c763-478e-989a-c8e4ee9e4cc5",
   "metadata": {},
   "outputs": [
    {
     "data": {
      "text/plain": [
       "('OK',\n",
       " [b'(\\\\HasNoChildren) \"/\" \"INBOX\"',\n",
       "  b'(\\\\HasChildren \\\\Noselect) \"/\" \"[Gmail]\"',\n",
       "  b'(\\\\All \\\\HasNoChildren) \"/\" \"[Gmail]/All Mail\"',\n",
       "  b'(\\\\Drafts \\\\HasNoChildren) \"/\" \"[Gmail]/Drafts\"',\n",
       "  b'(\\\\HasNoChildren \\\\Important) \"/\" \"[Gmail]/Important\"',\n",
       "  b'(\\\\HasNoChildren \\\\Sent) \"/\" \"[Gmail]/Sent Mail\"',\n",
       "  b'(\\\\HasNoChildren \\\\Junk) \"/\" \"[Gmail]/Spam\"',\n",
       "  b'(\\\\Flagged \\\\HasNoChildren) \"/\" \"[Gmail]/Starred\"',\n",
       "  b'(\\\\HasNoChildren \\\\Trash) \"/\" \"[Gmail]/Trash\"'])"
      ]
     },
     "execution_count": 7,
     "metadata": {},
     "output_type": "execute_result"
    }
   ],
   "source": [
    "M.list()"
   ]
  },
  {
   "cell_type": "code",
   "execution_count": 8,
   "id": "d7191fc0-a060-4817-9177-dfa9e1a19d3d",
   "metadata": {},
   "outputs": [
    {
     "data": {
      "text/plain": [
       "('OK', [b'42'])"
      ]
     },
     "execution_count": 8,
     "metadata": {},
     "output_type": "execute_result"
    }
   ],
   "source": [
    "M.select('inbox')"
   ]
  },
  {
   "cell_type": "code",
   "execution_count": 9,
   "id": "fc8dd2f1-a1e2-4a63-9909-15134a1fbf84",
   "metadata": {},
   "outputs": [],
   "source": [
    "typ, data = M.search(None, 'SUBJECT \"RED FOX TAIL\"')"
   ]
  },
  {
   "cell_type": "code",
   "execution_count": 10,
   "id": "ff4420ae-f801-4df1-bc99-1f86c63464e0",
   "metadata": {},
   "outputs": [
    {
     "data": {
      "text/plain": [
       "'OK'"
      ]
     },
     "execution_count": 10,
     "metadata": {},
     "output_type": "execute_result"
    }
   ],
   "source": [
    "typ"
   ]
  },
  {
   "cell_type": "code",
   "execution_count": 11,
   "id": "eba8779e-1834-44e9-b064-974ff1ca8f13",
   "metadata": {},
   "outputs": [
    {
     "data": {
      "text/plain": [
       "[b'42']"
      ]
     },
     "execution_count": 11,
     "metadata": {},
     "output_type": "execute_result"
    }
   ],
   "source": [
    "data"
   ]
  },
  {
   "cell_type": "code",
   "execution_count": 12,
   "id": "a7456df2-6956-42fd-95ba-da2b98306af7",
   "metadata": {},
   "outputs": [],
   "source": [
    "email_id = data[0]"
   ]
  },
  {
   "cell_type": "code",
   "execution_count": 13,
   "id": "11123c77-ffbe-4a5e-89fd-7a1629c0b6d0",
   "metadata": {},
   "outputs": [],
   "source": [
    "result, email_data = M.fetch(email_id,\"(RFC822)\")"
   ]
  },
  {
   "cell_type": "code",
   "execution_count": 14,
   "id": "9a239d29-d5c3-4643-a8c3-a1d516e9ccd2",
   "metadata": {},
   "outputs": [
    {
     "data": {
      "text/plain": [
       "b'Bcc: gustavo.lage.dev@gmail.com\\r\\nReturn-Path: <gustavo.lage.dev@gmail.com>\\r\\nReceived: from [192.168.3.47] ([187.73.25.177])\\r\\n        by smtp.gmail.com with ESMTPSA id 98e67ed59e1d1-2cf28e43df5sm1640132a91.55.2024.07.25.07.58.34\\r\\n        for <gustavo.lage.dev@gmail.com>\\r\\n        (version=TLS1_3 cipher=TLS_AES_256_GCM_SHA384 bits=256/256);\\r\\n        Thu, 25 Jul 2024 07:58:35 -0700 (PDT)\\r\\nMessage-ID: <66a2681b.170a0220.cea25.40a2@mx.google.com>\\r\\nDate: Thu, 25 Jul 2024 07:58:35 -0700 (PDT)\\r\\nFrom: gustavo.lage.dev@gmail.com\\r\\nSubject:RED FOX TAIL\\r\\n\\r\\nUnique animal for a search through my email box.\\r\\n'"
      ]
     },
     "execution_count": 14,
     "metadata": {},
     "output_type": "execute_result"
    }
   ],
   "source": [
    "email_data[0][1]"
   ]
  },
  {
   "cell_type": "code",
   "execution_count": 15,
   "id": "7efe6bdd-381a-439e-aebb-e2e934563c2b",
   "metadata": {},
   "outputs": [],
   "source": [
    "raw_email = email_data[0][1]"
   ]
  },
  {
   "cell_type": "code",
   "execution_count": 16,
   "id": "d88c8092-a9b7-487e-a5ce-1c8baa4aef1a",
   "metadata": {},
   "outputs": [],
   "source": [
    "raw_email_string = raw_email.decode(\"utf-8\")"
   ]
  },
  {
   "cell_type": "code",
   "execution_count": 17,
   "id": "ba205a94-151e-43de-91c3-484ab72db3ad",
   "metadata": {},
   "outputs": [],
   "source": [
    "import email"
   ]
  },
  {
   "cell_type": "code",
   "execution_count": 18,
   "id": "4b4a2f47-07fd-432e-b198-94b6b4a74a64",
   "metadata": {},
   "outputs": [],
   "source": [
    "email_message = email.message_from_string(raw_email_string)"
   ]
  },
  {
   "cell_type": "code",
   "execution_count": 19,
   "id": "7e3ac1a1-27f9-46e0-9c50-ace5e7566bbd",
   "metadata": {},
   "outputs": [
    {
     "data": {
      "text/plain": [
       "<email.message.Message at 0x287d4722330>"
      ]
     },
     "execution_count": 19,
     "metadata": {},
     "output_type": "execute_result"
    }
   ],
   "source": [
    "email_message"
   ]
  },
  {
   "cell_type": "code",
   "execution_count": 21,
   "id": "2f471b8b-4031-442d-b76a-927b472a5133",
   "metadata": {},
   "outputs": [
    {
     "name": "stdout",
     "output_type": "stream",
     "text": [
      "b'Unique animal for a search through my email box.\\r\\n'\n"
     ]
    }
   ],
   "source": [
    "for part in email_message.walk():\n",
    "    if part.get_content_type() == \"text/plain\": # IF A LINK IS EXPECTED, SUB plain FOR html --> ex:\"text/html\"\n",
    "        body = part.get_payload(decode=True)\n",
    "        print(body)"
   ]
  },
  {
   "cell_type": "code",
   "execution_count": null,
   "id": "7858ebe6-f942-4296-8805-49949ac765f7",
   "metadata": {},
   "outputs": [],
   "source": []
  }
 ],
 "metadata": {
  "kernelspec": {
   "display_name": "Python 3 (ipykernel)",
   "language": "python",
   "name": "python3"
  },
  "language_info": {
   "codemirror_mode": {
    "name": "ipython",
    "version": 3
   },
   "file_extension": ".py",
   "mimetype": "text/x-python",
   "name": "python",
   "nbconvert_exporter": "python",
   "pygments_lexer": "ipython3",
   "version": "3.12.4"
  }
 },
 "nbformat": 4,
 "nbformat_minor": 5
}
