{
 "cells": [
  {
   "cell_type": "code",
   "execution_count": 1,
   "id": "870f9f5d-9511-40fa-9b57-936152e48f2f",
   "metadata": {},
   "outputs": [
    {
     "data": {
      "text/plain": [
       "2"
      ]
     },
     "execution_count": 1,
     "metadata": {},
     "output_type": "execute_result"
    }
   ],
   "source": [
    "1+1 #soma"
   ]
  },
  {
   "cell_type": "code",
   "execution_count": 2,
   "id": "95c8cb33-0476-4b7d-b4c6-85a510cf8f76",
   "metadata": {},
   "outputs": [
    {
     "name": "stdout",
     "output_type": "stream",
     "text": [
      "hello\n"
     ]
    }
   ],
   "source": [
    "print(\"hello\")"
   ]
  },
  {
   "cell_type": "code",
   "execution_count": 3,
   "id": "97790f5c-b5b9-4b9d-bcb6-25adce93171e",
   "metadata": {},
   "outputs": [
    {
     "data": {
      "text/plain": [
       "7"
      ]
     },
     "execution_count": 3,
     "metadata": {},
     "output_type": "execute_result"
    }
   ],
   "source": [
    "len(\"gustavo\")"
   ]
  },
  {
   "cell_type": "code",
   "execution_count": 4,
   "id": "1fae152a-c717-4709-b03d-92d99422f91e",
   "metadata": {},
   "outputs": [
    {
     "data": {
      "text/plain": [
       "2"
      ]
     },
     "execution_count": 4,
     "metadata": {},
     "output_type": "execute_result"
    }
   ],
   "source": [
    "1*2"
   ]
  },
  {
   "cell_type": "code",
   "execution_count": 5,
   "id": "b104cda5-622c-4454-90b9-2109ce5c01e4",
   "metadata": {},
   "outputs": [
    {
     "data": {
      "text/plain": [
       "2.5"
      ]
     },
     "execution_count": 5,
     "metadata": {},
     "output_type": "execute_result"
    }
   ],
   "source": [
    "5/2"
   ]
  },
  {
   "cell_type": "code",
   "execution_count": 6,
   "id": "aa54f873-b623-4acb-9505-9ff27ca7cd16",
   "metadata": {},
   "outputs": [],
   "source": [
    "a = 8/6"
   ]
  },
  {
   "cell_type": "code",
   "execution_count": 7,
   "id": "27de9c1e-bbaa-4f26-8115-53f1ef91c082",
   "metadata": {},
   "outputs": [
    {
     "data": {
      "text/plain": [
       "1.3333333333333333"
      ]
     },
     "execution_count": 7,
     "metadata": {},
     "output_type": "execute_result"
    }
   ],
   "source": [
    "a"
   ]
  },
  {
   "cell_type": "code",
   "execution_count": 8,
   "id": "82219b65-3c02-4a34-bebd-d1e8a6463c6b",
   "metadata": {},
   "outputs": [
    {
     "data": {
      "text/plain": [
       "float"
      ]
     },
     "execution_count": 8,
     "metadata": {},
     "output_type": "execute_result"
    }
   ],
   "source": [
    "type(a)"
   ]
  },
  {
   "cell_type": "code",
   "execution_count": 9,
   "id": "28f35604-0c34-4723-82ca-b8135b6787df",
   "metadata": {},
   "outputs": [],
   "source": [
    "mystring = \"Hello World\""
   ]
  },
  {
   "cell_type": "code",
   "execution_count": 10,
   "id": "8a53ecb9-41b9-47c2-a473-36876b45917b",
   "metadata": {},
   "outputs": [
    {
     "data": {
      "text/plain": [
       "'Hello World'"
      ]
     },
     "execution_count": 10,
     "metadata": {},
     "output_type": "execute_result"
    }
   ],
   "source": [
    "mystring"
   ]
  },
  {
   "cell_type": "code",
   "execution_count": 11,
   "id": "dd59f899-9099-40d6-97b4-6897c6eb1aa1",
   "metadata": {},
   "outputs": [
    {
     "data": {
      "text/plain": [
       "'l'"
      ]
     },
     "execution_count": 11,
     "metadata": {},
     "output_type": "execute_result"
    }
   ],
   "source": [
    "mystring[2]"
   ]
  },
  {
   "cell_type": "code",
   "execution_count": 12,
   "id": "0f6439fe-e9ee-4789-96f3-776bfe7f76bc",
   "metadata": {},
   "outputs": [
    {
     "data": {
      "text/plain": [
       "'d'"
      ]
     },
     "execution_count": 12,
     "metadata": {},
     "output_type": "execute_result"
    }
   ],
   "source": [
    "mystring[-1]"
   ]
  },
  {
   "cell_type": "code",
   "execution_count": 13,
   "id": "d20203fe-676e-4d18-8d8e-16e5b7fa2bb2",
   "metadata": {},
   "outputs": [
    {
     "data": {
      "text/plain": [
       "'Hello World'"
      ]
     },
     "execution_count": 13,
     "metadata": {},
     "output_type": "execute_result"
    }
   ],
   "source": [
    "mystring"
   ]
  },
  {
   "cell_type": "code",
   "execution_count": 14,
   "id": "ffee41ef-c5bb-4403-9aa9-a6f268b9b18f",
   "metadata": {},
   "outputs": [
    {
     "data": {
      "text/plain": [
       "'Hello'"
      ]
     },
     "execution_count": 14,
     "metadata": {},
     "output_type": "execute_result"
    }
   ],
   "source": [
    "mystring[:5]"
   ]
  },
  {
   "cell_type": "code",
   "execution_count": 15,
   "id": "d48a1822-e3ff-4e78-8999-c30b1de467ad",
   "metadata": {},
   "outputs": [
    {
     "data": {
      "text/plain": [
       "'lo Wo'"
      ]
     },
     "execution_count": 15,
     "metadata": {},
     "output_type": "execute_result"
    }
   ],
   "source": [
    "mystring[3:8]"
   ]
  },
  {
   "cell_type": "code",
   "execution_count": 16,
   "id": "89a0f83e-e496-44c0-add3-e0ff3c5d74bd",
   "metadata": {},
   "outputs": [
    {
     "data": {
      "text/plain": [
       "'Hello World'"
      ]
     },
     "execution_count": 16,
     "metadata": {},
     "output_type": "execute_result"
    }
   ],
   "source": [
    "mystring"
   ]
  },
  {
   "cell_type": "code",
   "execution_count": 17,
   "id": "23aab6cf-5c76-4de9-bfe4-eb9c92f75a47",
   "metadata": {},
   "outputs": [
    {
     "data": {
      "text/plain": [
       "'HloWrd'"
      ]
     },
     "execution_count": 17,
     "metadata": {},
     "output_type": "execute_result"
    }
   ],
   "source": [
    "mystring[::2]"
   ]
  },
  {
   "cell_type": "code",
   "execution_count": 1,
   "id": "6d6165f7-6be0-4c73-94f9-49719a72df1a",
   "metadata": {},
   "outputs": [],
   "source": [
    "name = \"gustavo\""
   ]
  },
  {
   "cell_type": "code",
   "execution_count": 3,
   "id": "f7a07764-8bec-49a5-8cfa-6c7d222e9439",
   "metadata": {},
   "outputs": [
    {
     "data": {
      "text/plain": [
       "'Gustavo'"
      ]
     },
     "execution_count": 3,
     "metadata": {},
     "output_type": "execute_result"
    }
   ],
   "source": [
    "name.capitalize()"
   ]
  },
  {
   "cell_type": "code",
   "execution_count": 7,
   "id": "32efbefa-1076-4b7e-924b-7e32a61deb35",
   "metadata": {},
   "outputs": [
    {
     "data": {
      "text/plain": [
       "'GUSTAVO'"
      ]
     },
     "execution_count": 7,
     "metadata": {},
     "output_type": "execute_result"
    }
   ],
   "source": [
    "name.replace()"
   ]
  },
  {
   "cell_type": "code",
   "execution_count": 9,
   "id": "261cc8b0-ac22-4346-a61f-73a40183b9f9",
   "metadata": {},
   "outputs": [],
   "source": [
    "last_name = \"lage\""
   ]
  },
  {
   "cell_type": "code",
   "execution_count": 11,
   "id": "daac14fa-3d67-469d-9e84-4e40bc47b8dd",
   "metadata": {},
   "outputs": [
    {
     "ename": "NameError",
     "evalue": "name 'first_name' is not defined",
     "output_type": "error",
     "traceback": [
      "\u001b[1;31m---------------------------------------------------------------------------\u001b[0m",
      "\u001b[1;31mNameError\u001b[0m                                 Traceback (most recent call last)",
      "Cell \u001b[1;32mIn[11], line 1\u001b[0m\n\u001b[1;32m----> 1\u001b[0m name \u001b[38;5;241m=\u001b[39m first_name \u001b[38;5;241m+\u001b[39m \u001b[38;5;124m\"\u001b[39m\u001b[38;5;124m \u001b[39m\u001b[38;5;124m\"\u001b[39m \u001b[38;5;241m+\u001b[39m last_name\n",
      "\u001b[1;31mNameError\u001b[0m: name 'first_name' is not defined"
     ]
    }
   ],
   "source": [
    "name = first_name + \" \" + last_name"
   ]
  },
  {
   "cell_type": "code",
   "execution_count": 13,
   "id": "ddecc7ef-ca7b-44b7-8caf-c7a3e3c29120",
   "metadata": {},
   "outputs": [
    {
     "data": {
      "text/plain": [
       "'gustavo'"
      ]
     },
     "execution_count": 13,
     "metadata": {},
     "output_type": "execute_result"
    }
   ],
   "source": [
    "name"
   ]
  },
  {
   "cell_type": "code",
   "execution_count": 15,
   "id": "a484ddf5-c1b3-4feb-a3fc-f76dc460f0bf",
   "metadata": {},
   "outputs": [
    {
     "data": {
      "text/plain": [
       "'Gustavo'"
      ]
     },
     "execution_count": 15,
     "metadata": {},
     "output_type": "execute_result"
    }
   ],
   "source": [
    "name.capitalize()"
   ]
  },
  {
   "cell_type": "code",
   "execution_count": 17,
   "id": "8c76fe60-e3f0-4288-b66f-7e1cdd7c849b",
   "metadata": {},
   "outputs": [],
   "source": [
    "name = name.capitalize()"
   ]
  },
  {
   "cell_type": "code",
   "execution_count": 19,
   "id": "64386144-9627-45ab-9e7f-ad57e6fa52a7",
   "metadata": {},
   "outputs": [
    {
     "data": {
      "text/plain": [
       "'Gustavo'"
      ]
     },
     "execution_count": 19,
     "metadata": {},
     "output_type": "execute_result"
    }
   ],
   "source": [
    "name"
   ]
  },
  {
   "cell_type": "code",
   "execution_count": 25,
   "id": "b52282cc-c08c-45ed-a47e-f25989dc07bc",
   "metadata": {},
   "outputs": [
    {
     "data": {
      "text/plain": [
       "['Gustavo']"
      ]
     },
     "execution_count": 25,
     "metadata": {},
     "output_type": "execute_result"
    }
   ],
   "source": [
    "name.split()"
   ]
  },
  {
   "cell_type": "code",
   "execution_count": 49,
   "id": "40611674-f642-4fe8-9d96-b6e778919cf6",
   "metadata": {},
   "outputs": [
    {
     "data": {
      "text/plain": [
       "['Gust', 'vo l', 'ge']"
      ]
     },
     "execution_count": 49,
     "metadata": {},
     "output_type": "execute_result"
    }
   ],
   "source": [
    "name.split(\"a\")"
   ]
  },
  {
   "cell_type": "code",
   "execution_count": 51,
   "id": "500a6e84-3451-4179-bd76-10e684bd7927",
   "metadata": {},
   "outputs": [
    {
     "name": "stdout",
     "output_type": "stream",
     "text": [
      "Meu nome é Gustavo\n"
     ]
    }
   ],
   "source": [
    "print(\"Meu nome é {}\" .format(\"Gustavo\"))"
   ]
  },
  {
   "cell_type": "code",
   "execution_count": 53,
   "id": "97b55733-41c5-45e8-9bc7-0c91ad648556",
   "metadata": {},
   "outputs": [
    {
     "name": "stdout",
     "output_type": "stream",
     "text": [
      "Meu nome é Gustavo Lage Silveira \n"
     ]
    }
   ],
   "source": [
    "print(\"Meu nome é {} {} {} \" .format(\"Gustavo\", \"Lage\", \"Silveira\"))"
   ]
  },
  {
   "cell_type": "code",
   "execution_count": 55,
   "id": "5ce4e396-64c5-4f72-849c-c3ab98d0673c",
   "metadata": {},
   "outputs": [
    {
     "name": "stdout",
     "output_type": "stream",
     "text": [
      "Meu nome é Gustavo Silveira Lage \n"
     ]
    }
   ],
   "source": [
    "print(\"Meu nome é {0} {2} {1} \" .format(\"Gustavo\", \"Lage\", \"Silveira\"))"
   ]
  },
  {
   "cell_type": "code",
   "execution_count": 57,
   "id": "6a863b58-0414-4af7-8ea8-da08a9845470",
   "metadata": {},
   "outputs": [
    {
     "name": "stdout",
     "output_type": "stream",
     "text": [
      "Meu nome é Gustavo Silveira Lage \n"
     ]
    }
   ],
   "source": [
    "print(\"Meu nome é {first} {second} {last} \" .format(first= \"Gustavo\",last= \"Lage\",second= \"Silveira\"))"
   ]
  },
  {
   "cell_type": "code",
   "execution_count": 59,
   "id": "c71a5ae0-5cca-4a36-b25e-5603c76791af",
   "metadata": {},
   "outputs": [],
   "source": [
    "result= 10/852"
   ]
  },
  {
   "cell_type": "code",
   "execution_count": 61,
   "id": "b5be0d29-a6a6-4d53-aa37-de1d52ab9364",
   "metadata": {},
   "outputs": [
    {
     "data": {
      "text/plain": [
       "0.011737089201877934"
      ]
     },
     "execution_count": 61,
     "metadata": {},
     "output_type": "execute_result"
    }
   ],
   "source": [
    "result"
   ]
  },
  {
   "cell_type": "markdown",
   "id": "6abdde3f-b9b4-40c5-adf9-71704f9b7664",
   "metadata": {},
   "source": [
    "Float Formatting \"{valor:tamanho.precisao f}\""
   ]
  },
  {
   "cell_type": "code",
   "execution_count": 64,
   "id": "0bf95683-4730-4170-9a28-380153b828e3",
   "metadata": {},
   "outputs": [
    {
     "name": "stdout",
     "output_type": "stream",
     "text": [
      "Resultado é 0.011737089201877934\n"
     ]
    }
   ],
   "source": [
    "print(\"Resultado é {r}\".format(r=result))"
   ]
  },
  {
   "cell_type": "code",
   "execution_count": 66,
   "id": "4e0c8b82-e0a4-44a1-a796-8274c59aba50",
   "metadata": {},
   "outputs": [
    {
     "name": "stdout",
     "output_type": "stream",
     "text": [
      "Resultado é 0.01174\n"
     ]
    }
   ],
   "source": [
    "print(\"Resultado é {r:1.4}\".format(r=result))"
   ]
  },
  {
   "cell_type": "code",
   "execution_count": 68,
   "id": "cd2c1e28-218b-44f7-94cf-adebdf3ccb61",
   "metadata": {},
   "outputs": [
    {
     "name": "stdout",
     "output_type": "stream",
     "text": [
      "Meu nome é Gustavo lage\n"
     ]
    }
   ],
   "source": [
    "print(f\"Meu nome é {name}\") # f strings"
   ]
  },
  {
   "cell_type": "code",
   "execution_count": 1,
   "id": "08b37353-a0e8-452a-b77c-9ad257af3b33",
   "metadata": {},
   "outputs": [],
   "source": [
    "my_list = [1,2,3]"
   ]
  },
  {
   "cell_type": "code",
   "execution_count": 3,
   "id": "483fd35b-e074-4942-8d6f-f9d0deeac0eb",
   "metadata": {},
   "outputs": [
    {
     "data": {
      "text/plain": [
       "[1, 2, 3]"
      ]
     },
     "execution_count": 3,
     "metadata": {},
     "output_type": "execute_result"
    }
   ],
   "source": [
    "my_list"
   ]
  },
  {
   "cell_type": "code",
   "execution_count": 74,
   "id": "bbf5a3b8-1aee-4e1b-b817-3f6c618ca3e0",
   "metadata": {},
   "outputs": [
    {
     "data": {
      "text/plain": [
       "3"
      ]
     },
     "execution_count": 74,
     "metadata": {},
     "output_type": "execute_result"
    }
   ],
   "source": [
    "len(my_list)"
   ]
  },
  {
   "cell_type": "code",
   "execution_count": 76,
   "id": "1e06f353-05c4-4c32-8111-eed4683fb0db",
   "metadata": {},
   "outputs": [
    {
     "data": {
      "text/plain": [
       "1"
      ]
     },
     "execution_count": 76,
     "metadata": {},
     "output_type": "execute_result"
    }
   ],
   "source": [
    "my_list[0]"
   ]
  },
  {
   "cell_type": "code",
   "execution_count": 78,
   "id": "f444c0a0-6549-4443-bd1f-edd3b3f32ad1",
   "metadata": {},
   "outputs": [],
   "source": [
    "your_list = [4,5]"
   ]
  },
  {
   "cell_type": "code",
   "execution_count": 80,
   "id": "9fb254cc-2b8b-4c2f-b933-830997db96e3",
   "metadata": {},
   "outputs": [
    {
     "data": {
      "text/plain": [
       "[1, 2, 3, 4, 5]"
      ]
     },
     "execution_count": 80,
     "metadata": {},
     "output_type": "execute_result"
    }
   ],
   "source": [
    "my_list + your_list"
   ]
  },
  {
   "cell_type": "code",
   "execution_count": 82,
   "id": "fd0f5108-5369-4aa9-8390-5908fe0919f4",
   "metadata": {},
   "outputs": [],
   "source": [
    "our_list = my_list + your_list"
   ]
  },
  {
   "cell_type": "code",
   "execution_count": 84,
   "id": "b6777630-f834-4a0d-88dd-e5cd7caa3cbb",
   "metadata": {},
   "outputs": [
    {
     "data": {
      "text/plain": [
       "[1, 2, 3, 4, 5]"
      ]
     },
     "execution_count": 84,
     "metadata": {},
     "output_type": "execute_result"
    }
   ],
   "source": [
    "our_list"
   ]
  },
  {
   "cell_type": "code",
   "execution_count": 86,
   "id": "25ef1e47-5692-470a-8192-0025a21dbdea",
   "metadata": {},
   "outputs": [],
   "source": [
    "our_list[0] = 10"
   ]
  },
  {
   "cell_type": "code",
   "execution_count": 88,
   "id": "da2c6033-e680-44fc-950c-87da09b23304",
   "metadata": {},
   "outputs": [
    {
     "data": {
      "text/plain": [
       "[10, 2, 3, 4, 5]"
      ]
     },
     "execution_count": 88,
     "metadata": {},
     "output_type": "execute_result"
    }
   ],
   "source": [
    "our_list"
   ]
  },
  {
   "cell_type": "code",
   "execution_count": 90,
   "id": "6e9a4340-cf88-4974-b2ec-69ec14f158a0",
   "metadata": {},
   "outputs": [],
   "source": [
    "our_list.append(6)"
   ]
  },
  {
   "cell_type": "code",
   "execution_count": 92,
   "id": "43558857-5287-4ae5-8552-4c1985305ddf",
   "metadata": {},
   "outputs": [
    {
     "data": {
      "text/plain": [
       "[10, 2, 3, 4, 5, 6]"
      ]
     },
     "execution_count": 92,
     "metadata": {},
     "output_type": "execute_result"
    }
   ],
   "source": [
    "our_list"
   ]
  },
  {
   "cell_type": "code",
   "execution_count": 94,
   "id": "58cc98fb-9b35-4e46-b0b9-772e4dfc323e",
   "metadata": {},
   "outputs": [
    {
     "data": {
      "text/plain": [
       "6"
      ]
     },
     "execution_count": 94,
     "metadata": {},
     "output_type": "execute_result"
    }
   ],
   "source": [
    "our_list.pop()"
   ]
  },
  {
   "cell_type": "code",
   "execution_count": 97,
   "id": "94fc7c06-1064-4e28-841f-0eefcb89102d",
   "metadata": {},
   "outputs": [
    {
     "data": {
      "text/plain": [
       "[10, 2, 3, 4, 5]"
      ]
     },
     "execution_count": 97,
     "metadata": {},
     "output_type": "execute_result"
    }
   ],
   "source": [
    "our_list"
   ]
  },
  {
   "cell_type": "code",
   "execution_count": 99,
   "id": "73b878f3-8622-44b6-9dc4-5a46661ed2e5",
   "metadata": {},
   "outputs": [
    {
     "data": {
      "text/plain": [
       "10"
      ]
     },
     "execution_count": 99,
     "metadata": {},
     "output_type": "execute_result"
    }
   ],
   "source": [
    "our_list.pop(0)"
   ]
  },
  {
   "cell_type": "code",
   "execution_count": 105,
   "id": "9319ac25-86bc-485f-a62d-bd6dc5ab51c7",
   "metadata": {},
   "outputs": [],
   "source": [
    "our_list.insert(0,1)"
   ]
  },
  {
   "cell_type": "code",
   "execution_count": 109,
   "id": "6572373b-9ce4-43a9-a6b4-a40bae584018",
   "metadata": {},
   "outputs": [
    {
     "data": {
      "text/plain": [
       "[1, 2, 3, 4, 5]"
      ]
     },
     "execution_count": 109,
     "metadata": {},
     "output_type": "execute_result"
    }
   ],
   "source": [
    "our_list"
   ]
  },
  {
   "cell_type": "code",
   "execution_count": 121,
   "id": "aa07651f-6ffa-426c-be38-285325f7d659",
   "metadata": {},
   "outputs": [
    {
     "name": "stdout",
     "output_type": "stream",
     "text": [
      "None\n"
     ]
    }
   ],
   "source": [
    "print(our_list.reverse())"
   ]
  },
  {
   "cell_type": "code",
   "execution_count": 119,
   "id": "e642db6d-3358-491f-aeaf-e870a3f51b05",
   "metadata": {},
   "outputs": [
    {
     "data": {
      "text/plain": [
       "[1, 2, 3, 4, 5]"
      ]
     },
     "execution_count": 119,
     "metadata": {},
     "output_type": "execute_result"
    }
   ],
   "source": [
    "our_list"
   ]
  },
  {
   "cell_type": "code",
   "execution_count": 123,
   "id": "c64c6060-e4c3-43e4-ad75-89c0cd81289c",
   "metadata": {},
   "outputs": [],
   "source": [
    "num_list = [2,5,9,7,10,365,4]"
   ]
  },
  {
   "cell_type": "code",
   "execution_count": 125,
   "id": "3c6fcde9-b606-4404-9f26-18ca4d90d6a3",
   "metadata": {},
   "outputs": [
    {
     "data": {
      "text/plain": [
       "[2, 5, 9, 7, 10, 365, 4]"
      ]
     },
     "execution_count": 125,
     "metadata": {},
     "output_type": "execute_result"
    }
   ],
   "source": [
    "num_list"
   ]
  },
  {
   "cell_type": "code",
   "execution_count": 129,
   "id": "9e6d06fe-ba95-4b5c-b7ec-4b73c13e782b",
   "metadata": {},
   "outputs": [],
   "source": [
    "num_list.sort()"
   ]
  },
  {
   "cell_type": "code",
   "execution_count": 131,
   "id": "50a6fbca-8241-40b0-ada3-401601e6e63f",
   "metadata": {},
   "outputs": [
    {
     "data": {
      "text/plain": [
       "[2, 4, 5, 7, 9, 10, 365]"
      ]
     },
     "execution_count": 131,
     "metadata": {},
     "output_type": "execute_result"
    }
   ],
   "source": [
    "num_list"
   ]
  },
  {
   "cell_type": "code",
   "execution_count": 133,
   "id": "a17075e7-b7f2-425d-8fc3-c0b75c6e34bf",
   "metadata": {},
   "outputs": [],
   "source": [
    "num_list.reverse()"
   ]
  },
  {
   "cell_type": "code",
   "execution_count": 135,
   "id": "9eafa55a-6113-4823-a452-6037c7c55a8f",
   "metadata": {},
   "outputs": [
    {
     "data": {
      "text/plain": [
       "[365, 10, 9, 7, 5, 4, 2]"
      ]
     },
     "execution_count": 135,
     "metadata": {},
     "output_type": "execute_result"
    }
   ],
   "source": [
    "num_list"
   ]
  },
  {
   "cell_type": "code",
   "execution_count": 1,
   "id": "485d2ab1-bb99-4fa9-9b84-dbfa53f586d3",
   "metadata": {},
   "outputs": [],
   "source": [
    "defesas_time = {\"gustavo\":3,\"luan\":4, \"william\": \"nao defende, só mata\"}"
   ]
  },
  {
   "cell_type": "code",
   "execution_count": 3,
   "id": "015f6c12-aa19-49dd-ab38-c2c51ab2ad10",
   "metadata": {},
   "outputs": [
    {
     "ename": "KeyError",
     "evalue": "3",
     "output_type": "error",
     "traceback": [
      "\u001b[1;31m---------------------------------------------------------------------------\u001b[0m",
      "\u001b[1;31mKeyError\u001b[0m                                  Traceback (most recent call last)",
      "Cell \u001b[1;32mIn[3], line 1\u001b[0m\n\u001b[1;32m----> 1\u001b[0m defesas_time[\u001b[38;5;241m3\u001b[39m]\n",
      "\u001b[1;31mKeyError\u001b[0m: 3"
     ]
    }
   ],
   "source": [
    "defesas_time[3]"
   ]
  },
  {
   "cell_type": "code",
   "execution_count": 145,
   "id": "0ccb3ade-c176-4131-b15a-f0d56855dcf9",
   "metadata": {},
   "outputs": [
    {
     "data": {
      "text/plain": [
       "4"
      ]
     },
     "execution_count": 145,
     "metadata": {},
     "output_type": "execute_result"
    }
   ],
   "source": [
    "defesas_time[\"luan\"]"
   ]
  },
  {
   "cell_type": "code",
   "execution_count": 147,
   "id": "4fdb61a1-e9ec-4d75-b060-86774320df27",
   "metadata": {},
   "outputs": [],
   "source": [
    "precos = {\"arroz\":5,\"feijao\":8,\"farinha\":4}"
   ]
  },
  {
   "cell_type": "code",
   "execution_count": 149,
   "id": "43a39932-032c-4cb0-bed8-36a57fb685e7",
   "metadata": {},
   "outputs": [
    {
     "data": {
      "text/plain": [
       "{'arroz': 5, 'feijao': 8, 'farinha': 4}"
      ]
     },
     "execution_count": 149,
     "metadata": {},
     "output_type": "execute_result"
    }
   ],
   "source": [
    "precos"
   ]
  },
  {
   "cell_type": "code",
   "execution_count": 171,
   "id": "ee762cd5-53e9-4f32-940a-465f8cdb1032",
   "metadata": {},
   "outputs": [],
   "source": [
    "lista_precos = list(precos.keys())"
   ]
  },
  {
   "cell_type": "code",
   "execution_count": 177,
   "id": "e8eb7fca-f490-455e-a7a8-2c8d5db3c61a",
   "metadata": {},
   "outputs": [],
   "source": [
    "lista_precos.sort()"
   ]
  },
  {
   "cell_type": "code",
   "execution_count": 181,
   "id": "fa21abc8-948c-4c53-ab96-d41c5aa8a9c0",
   "metadata": {},
   "outputs": [
    {
     "data": {
      "text/plain": [
       "['arroz', 'farinha', 'feijao']"
      ]
     },
     "execution_count": 181,
     "metadata": {},
     "output_type": "execute_result"
    }
   ],
   "source": [
    "lista_precos"
   ]
  },
  {
   "cell_type": "markdown",
   "id": "7dbcf552-0c2b-4be8-a335-226587520f7e",
   "metadata": {},
   "source": [
    "### TULIPAS "
   ]
  },
  {
   "cell_type": "code",
   "execution_count": 186,
   "id": "c17a1faa-87d2-4eb0-882a-26a30b50d7b0",
   "metadata": {},
   "outputs": [],
   "source": [
    "t = (1,2,3)"
   ]
  },
  {
   "cell_type": "code",
   "execution_count": 188,
   "id": "ecfc2482-0227-47da-9fb9-37ac03297756",
   "metadata": {},
   "outputs": [],
   "source": [
    "mylist = [1,2,3]"
   ]
  },
  {
   "cell_type": "code",
   "execution_count": 190,
   "id": "3cd1285e-3abf-4413-aad5-8bca6fc93563",
   "metadata": {},
   "outputs": [
    {
     "data": {
      "text/plain": [
       "tuple"
      ]
     },
     "execution_count": 190,
     "metadata": {},
     "output_type": "execute_result"
    }
   ],
   "source": [
    "type(t)"
   ]
  },
  {
   "cell_type": "code",
   "execution_count": 192,
   "id": "a87af704-8960-4bc8-9642-b49b5bd05d06",
   "metadata": {},
   "outputs": [
    {
     "data": {
      "text/plain": [
       "list"
      ]
     },
     "execution_count": 192,
     "metadata": {},
     "output_type": "execute_result"
    }
   ],
   "source": [
    "type(mylist)"
   ]
  },
  {
   "cell_type": "code",
   "execution_count": 196,
   "id": "c06bdfa4-8c2e-440d-a6bf-703090cd7dc0",
   "metadata": {},
   "outputs": [],
   "source": [
    "t = (1,1,1,2,3)"
   ]
  },
  {
   "cell_type": "code",
   "execution_count": 198,
   "id": "8eb42130-b477-4711-bdf8-7c3e98ec33a5",
   "metadata": {},
   "outputs": [
    {
     "data": {
      "text/plain": [
       "3"
      ]
     },
     "execution_count": 198,
     "metadata": {},
     "output_type": "execute_result"
    }
   ],
   "source": [
    "t.count(1)"
   ]
  },
  {
   "cell_type": "code",
   "execution_count": 202,
   "id": "d72e94db-1b74-4b51-b0b3-5be43c5e7a94",
   "metadata": {},
   "outputs": [
    {
     "data": {
      "text/plain": [
       "3"
      ]
     },
     "execution_count": 202,
     "metadata": {},
     "output_type": "execute_result"
    }
   ],
   "source": [
    "t.index(2)"
   ]
  },
  {
   "cell_type": "code",
   "execution_count": 206,
   "id": "e8405409-2831-48eb-9f50-718aaf98eb06",
   "metadata": {},
   "outputs": [],
   "source": [
    "mylist[0] = \"NEW\""
   ]
  },
  {
   "cell_type": "code",
   "execution_count": 208,
   "id": "76958c2f-46e8-45b6-a16e-689eee6dc053",
   "metadata": {},
   "outputs": [
    {
     "data": {
      "text/plain": [
       "['NEW', 2, 3]"
      ]
     },
     "execution_count": 208,
     "metadata": {},
     "output_type": "execute_result"
    }
   ],
   "source": [
    "mylist"
   ]
  },
  {
   "cell_type": "code",
   "execution_count": 212,
   "id": "3f24689f-0d0b-41e0-85e6-f8c5ff6b0e60",
   "metadata": {},
   "outputs": [
    {
     "ename": "TypeError",
     "evalue": "'tuple' object does not support item assignment",
     "output_type": "error",
     "traceback": [
      "\u001b[1;31m---------------------------------------------------------------------------\u001b[0m",
      "\u001b[1;31mTypeError\u001b[0m                                 Traceback (most recent call last)",
      "Cell \u001b[1;32mIn[212], line 1\u001b[0m\n\u001b[1;32m----> 1\u001b[0m t[\u001b[38;5;241m0\u001b[39m] \u001b[38;5;241m=\u001b[39m \u001b[38;5;124m\"\u001b[39m\u001b[38;5;124mNEW\u001b[39m\u001b[38;5;124m\"\u001b[39m\n",
      "\u001b[1;31mTypeError\u001b[0m: 'tuple' object does not support item assignment"
     ]
    }
   ],
   "source": [
    "t[0] = \"NEW\""
   ]
  },
  {
   "cell_type": "code",
   "execution_count": 218,
   "id": "bc9b446f-e895-4edb-a40e-233521fe17c7",
   "metadata": {},
   "outputs": [],
   "source": [
    "myset = set()"
   ]
  },
  {
   "cell_type": "code",
   "execution_count": 220,
   "id": "3d4458cd-16ab-484e-a999-5bb08333c5da",
   "metadata": {},
   "outputs": [],
   "source": [
    "myset.add(1)"
   ]
  },
  {
   "cell_type": "code",
   "execution_count": 222,
   "id": "98569f3d-d081-43d2-9906-4fe33bf96c05",
   "metadata": {},
   "outputs": [
    {
     "data": {
      "text/plain": [
       "{1}"
      ]
     },
     "execution_count": 222,
     "metadata": {},
     "output_type": "execute_result"
    }
   ],
   "source": [
    "myset"
   ]
  },
  {
   "cell_type": "code",
   "execution_count": 224,
   "id": "6e43b58f-8e6e-45b0-a08c-8efb2b6858fa",
   "metadata": {},
   "outputs": [],
   "source": [
    "myset.add(2)"
   ]
  },
  {
   "cell_type": "code",
   "execution_count": 226,
   "id": "c9978b69-4bf7-4e9a-b7ac-4f136ff89c80",
   "metadata": {},
   "outputs": [
    {
     "data": {
      "text/plain": [
       "{1, 2}"
      ]
     },
     "execution_count": 226,
     "metadata": {},
     "output_type": "execute_result"
    }
   ],
   "source": [
    "myset"
   ]
  },
  {
   "cell_type": "code",
   "execution_count": 228,
   "id": "2cbeb9df-f25f-4318-92e3-269427c42b01",
   "metadata": {},
   "outputs": [],
   "source": [
    "myset.add(2)"
   ]
  },
  {
   "cell_type": "code",
   "execution_count": 230,
   "id": "a247d2f2-fafc-42f3-b8e6-defef269fa1a",
   "metadata": {},
   "outputs": [],
   "source": [
    "mylist = [1,1,1,1,1,2,2,2,5,5,5,4,4,4,4,3,3,3]"
   ]
  },
  {
   "cell_type": "code",
   "execution_count": 232,
   "id": "09c4878e-9f25-4780-b5d0-196e56bdeec5",
   "metadata": {},
   "outputs": [
    {
     "data": {
      "text/plain": [
       "{1, 2, 3, 4, 5}"
      ]
     },
     "execution_count": 232,
     "metadata": {},
     "output_type": "execute_result"
    }
   ],
   "source": [
    "set(mylist)"
   ]
  },
  {
   "cell_type": "code",
   "execution_count": 234,
   "id": "d0e3072a-4540-49fb-95ea-071a634e468c",
   "metadata": {},
   "outputs": [
    {
     "data": {
      "text/plain": [
       "True"
      ]
     },
     "execution_count": 234,
     "metadata": {},
     "output_type": "execute_result"
    }
   ],
   "source": [
    "True"
   ]
  },
  {
   "cell_type": "code",
   "execution_count": 236,
   "id": "dec3fa91-0730-4cfe-9b93-18d1d566ea81",
   "metadata": {},
   "outputs": [
    {
     "data": {
      "text/plain": [
       "False"
      ]
     },
     "execution_count": 236,
     "metadata": {},
     "output_type": "execute_result"
    }
   ],
   "source": [
    "False"
   ]
  },
  {
   "cell_type": "code",
   "execution_count": 238,
   "id": "dda6c8be-3c2f-4303-a425-44b7ae2add22",
   "metadata": {},
   "outputs": [
    {
     "data": {
      "text/plain": [
       "False"
      ]
     },
     "execution_count": 238,
     "metadata": {},
     "output_type": "execute_result"
    }
   ],
   "source": [
    "1 >2"
   ]
  },
  {
   "cell_type": "code",
   "execution_count": 240,
   "id": "a7422eda-7fe8-4c87-961e-acfcc5c6f28e",
   "metadata": {},
   "outputs": [
    {
     "data": {
      "text/plain": [
       "False"
      ]
     },
     "execution_count": 240,
     "metadata": {},
     "output_type": "execute_result"
    }
   ],
   "source": [
    "2 > 2 \n"
   ]
  },
  {
   "cell_type": "code",
   "execution_count": 244,
   "id": "dc9cddf4-e7d5-425b-b2ea-3a5853d80fc9",
   "metadata": {},
   "outputs": [
    {
     "data": {
      "text/plain": [
       "True"
      ]
     },
     "execution_count": 244,
     "metadata": {},
     "output_type": "execute_result"
    }
   ],
   "source": [
    "2 == 2"
   ]
  },
  {
   "cell_type": "code",
   "execution_count": 5,
   "id": "3a3d17c4-4b0c-4f4a-9c58-c3fc6b7f5972",
   "metadata": {},
   "outputs": [],
   "source": [
    "myletters = [\"s\",\"d\",\"f\"]"
   ]
  },
  {
   "cell_type": "code",
   "execution_count": 7,
   "id": "8579b420-e6d9-44d5-b038-9912abee2ae3",
   "metadata": {},
   "outputs": [
    {
     "data": {
      "text/plain": [
       "'s--d--f'"
      ]
     },
     "execution_count": 7,
     "metadata": {},
     "output_type": "execute_result"
    }
   ],
   "source": [
    " '--'.join(myletters)"
   ]
  }
 ],
 "metadata": {
  "kernelspec": {
   "display_name": "Python 3 (ipykernel)",
   "language": "python",
   "name": "python3"
  },
  "language_info": {
   "codemirror_mode": {
    "name": "ipython",
    "version": 3
   },
   "file_extension": ".py",
   "mimetype": "text/x-python",
   "name": "python",
   "nbconvert_exporter": "python",
   "pygments_lexer": "ipython3",
   "version": "3.12.4"
  }
 },
 "nbformat": 4,
 "nbformat_minor": 5
}
