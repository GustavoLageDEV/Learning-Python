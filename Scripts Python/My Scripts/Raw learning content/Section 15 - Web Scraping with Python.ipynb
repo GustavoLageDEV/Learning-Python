{
 "cells": [
  {
   "cell_type": "markdown",
   "id": "d25298eb-98e6-400c-83bf-642d8c0ff905",
   "metadata": {},
   "source": [
    "##### 118. Python Web Scraping - Grabbing a Title\n"
   ]
  },
  {
   "cell_type": "code",
   "execution_count": 1,
   "id": "85d9a087-2320-4e4b-ad22-2aefd932ded2",
   "metadata": {},
   "outputs": [],
   "source": [
    "import requests"
   ]
  },
  {
   "cell_type": "code",
   "execution_count": 2,
   "id": "20fad87d-0c26-4055-93e0-c360b6c3947d",
   "metadata": {},
   "outputs": [],
   "source": [
    "result = requests.get(\"http://www.example.com\")"
   ]
  },
  {
   "cell_type": "code",
   "execution_count": 5,
   "id": "667c9e78-1419-4a44-a32e-3f7e80a2e71d",
   "metadata": {},
   "outputs": [
    {
     "data": {
      "text/plain": [
       "requests.models.Response"
      ]
     },
     "execution_count": 5,
     "metadata": {},
     "output_type": "execute_result"
    }
   ],
   "source": [
    "type(result)"
   ]
  },
  {
   "cell_type": "code",
   "execution_count": 6,
   "id": "f58a2cd1-fe4c-4e37-995d-21fb33dd57ee",
   "metadata": {},
   "outputs": [
    {
     "data": {
      "text/plain": [
       "'<!doctype html>\\n<html>\\n<head>\\n    <title>Example Domain</title>\\n\\n    <meta charset=\"utf-8\" />\\n    <meta http-equiv=\"Content-type\" content=\"text/html; charset=utf-8\" />\\n    <meta name=\"viewport\" content=\"width=device-width, initial-scale=1\" />\\n    <style type=\"text/css\">\\n    body {\\n        background-color: #f0f0f2;\\n        margin: 0;\\n        padding: 0;\\n        font-family: -apple-system, system-ui, BlinkMacSystemFont, \"Segoe UI\", \"Open Sans\", \"Helvetica Neue\", Helvetica, Arial, sans-serif;\\n        \\n    }\\n    div {\\n        width: 600px;\\n        margin: 5em auto;\\n        padding: 2em;\\n        background-color: #fdfdff;\\n        border-radius: 0.5em;\\n        box-shadow: 2px 3px 7px 2px rgba(0,0,0,0.02);\\n    }\\n    a:link, a:visited {\\n        color: #38488f;\\n        text-decoration: none;\\n    }\\n    @media (max-width: 700px) {\\n        div {\\n            margin: 0 auto;\\n            width: auto;\\n        }\\n    }\\n    </style>    \\n</head>\\n\\n<body>\\n<div>\\n    <h1>Example Domain</h1>\\n    <p>This domain is for use in illustrative examples in documents. You may use this\\n    domain in literature without prior coordination or asking for permission.</p>\\n    <p><a href=\"https://www.iana.org/domains/example\">More information...</a></p>\\n</div>\\n</body>\\n</html>\\n'"
      ]
     },
     "execution_count": 6,
     "metadata": {},
     "output_type": "execute_result"
    }
   ],
   "source": [
    "result.text"
   ]
  },
  {
   "cell_type": "code",
   "execution_count": 7,
   "id": "83fd0a40-3842-4252-a095-8c4a1c06d266",
   "metadata": {},
   "outputs": [],
   "source": [
    "import bs4"
   ]
  },
  {
   "cell_type": "code",
   "execution_count": 8,
   "id": "c716163b-e5b9-47e6-ae54-560ec32776aa",
   "metadata": {},
   "outputs": [],
   "source": [
    "soup = bs4.BeautifulSoup(result.text,\"lxml\")"
   ]
  },
  {
   "cell_type": "code",
   "execution_count": 9,
   "id": "62d3fbad-6197-41e5-bc78-d8733d4521bd",
   "metadata": {},
   "outputs": [
    {
     "data": {
      "text/plain": [
       "<!DOCTYPE html>\n",
       "<html>\n",
       "<head>\n",
       "<title>Example Domain</title>\n",
       "<meta charset=\"utf-8\"/>\n",
       "<meta content=\"text/html; charset=utf-8\" http-equiv=\"Content-type\"/>\n",
       "<meta content=\"width=device-width, initial-scale=1\" name=\"viewport\"/>\n",
       "<style type=\"text/css\">\n",
       "    body {\n",
       "        background-color: #f0f0f2;\n",
       "        margin: 0;\n",
       "        padding: 0;\n",
       "        font-family: -apple-system, system-ui, BlinkMacSystemFont, \"Segoe UI\", \"Open Sans\", \"Helvetica Neue\", Helvetica, Arial, sans-serif;\n",
       "        \n",
       "    }\n",
       "    div {\n",
       "        width: 600px;\n",
       "        margin: 5em auto;\n",
       "        padding: 2em;\n",
       "        background-color: #fdfdff;\n",
       "        border-radius: 0.5em;\n",
       "        box-shadow: 2px 3px 7px 2px rgba(0,0,0,0.02);\n",
       "    }\n",
       "    a:link, a:visited {\n",
       "        color: #38488f;\n",
       "        text-decoration: none;\n",
       "    }\n",
       "    @media (max-width: 700px) {\n",
       "        div {\n",
       "            margin: 0 auto;\n",
       "            width: auto;\n",
       "        }\n",
       "    }\n",
       "    </style>\n",
       "</head>\n",
       "<body>\n",
       "<div>\n",
       "<h1>Example Domain</h1>\n",
       "<p>This domain is for use in illustrative examples in documents. You may use this\n",
       "    domain in literature without prior coordination or asking for permission.</p>\n",
       "<p><a href=\"https://www.iana.org/domains/example\">More information...</a></p>\n",
       "</div>\n",
       "</body>\n",
       "</html>"
      ]
     },
     "execution_count": 9,
     "metadata": {},
     "output_type": "execute_result"
    }
   ],
   "source": [
    "soup"
   ]
  },
  {
   "cell_type": "code",
   "execution_count": 13,
   "id": "31e1ab48-b42f-46f9-9f8a-a3c1c52a7440",
   "metadata": {},
   "outputs": [
    {
     "data": {
      "text/plain": [
       "[<title>Example Domain</title>]"
      ]
     },
     "execution_count": 13,
     "metadata": {},
     "output_type": "execute_result"
    }
   ],
   "source": [
    "soup.select(\"title\") # Retorna uma lista com todos titulos"
   ]
  },
  {
   "cell_type": "code",
   "execution_count": 15,
   "id": "fb6381ee-a07d-4d70-b2d4-5a537f170033",
   "metadata": {},
   "outputs": [
    {
     "data": {
      "text/plain": [
       "<title>Example Domain</title>"
      ]
     },
     "execution_count": 15,
     "metadata": {},
     "output_type": "execute_result"
    }
   ],
   "source": [
    "soup.select(\"title\")[0] # Selecionado primeiro titulo"
   ]
  },
  {
   "cell_type": "code",
   "execution_count": 16,
   "id": "4f9cdcd7-d869-4cb7-9a92-aa5547b63c28",
   "metadata": {},
   "outputs": [
    {
     "data": {
      "text/plain": [
       "'Example Domain'"
      ]
     },
     "execution_count": 16,
     "metadata": {},
     "output_type": "execute_result"
    }
   ],
   "source": [
    "soup.select(\"title\")[0].getText() # \"Pego a string\""
   ]
  },
  {
   "cell_type": "code",
   "execution_count": 17,
   "id": "5a8ddc2b-80cc-451f-b9dc-0aadbc89c4f1",
   "metadata": {},
   "outputs": [],
   "source": [
    "site_paragraphs = soup.select(\"p\")"
   ]
  },
  {
   "cell_type": "code",
   "execution_count": 20,
   "id": "5c440a5d-bbf3-4914-9b82-8c076c337cb3",
   "metadata": {},
   "outputs": [
    {
     "data": {
      "text/plain": [
       "bs4.element.Tag"
      ]
     },
     "execution_count": 20,
     "metadata": {},
     "output_type": "execute_result"
    }
   ],
   "source": [
    "type(site_paragraphs[0])"
   ]
  },
  {
   "cell_type": "code",
   "execution_count": 21,
   "id": "c243c1d1-52b4-41ba-9d36-4bc72fc0b6b2",
   "metadata": {},
   "outputs": [
    {
     "data": {
      "text/plain": [
       "'This domain is for use in illustrative examples in documents. You may use this\\n    domain in literature without prior coordination or asking for permission.'"
      ]
     },
     "execution_count": 21,
     "metadata": {},
     "output_type": "execute_result"
    }
   ],
   "source": [
    "site_paragraphs[0].getText()"
   ]
  },
  {
   "cell_type": "markdown",
   "id": "55d7affd-28e2-4680-b746-89b52089909f",
   "metadata": {},
   "source": [
    "##### 119. Python Web Scraping - Grabbing a Class\n"
   ]
  },
  {
   "cell_type": "code",
   "execution_count": 23,
   "id": "4ec72520-5041-4865-90af-3dbd8a66a769",
   "metadata": {},
   "outputs": [],
   "source": [
    "sp_site = requests.get(\"https://pt.wikipedia.org/wiki/S%C3%A3o_Paulo_Futebol_Clube\")"
   ]
  },
  {
   "cell_type": "code",
   "execution_count": 24,
   "id": "e69a279e-6d84-4abe-b6ca-935f8335d4fc",
   "metadata": {},
   "outputs": [
    {
     "data": {
      "text/plain": [
       "requests.models.Response"
      ]
     },
     "execution_count": 24,
     "metadata": {},
     "output_type": "execute_result"
    }
   ],
   "source": [
    "type(sp_site)"
   ]
  },
  {
   "cell_type": "code",
   "execution_count": 27,
   "id": "7c57a1ae-ed1b-4480-836a-300fbaa62d28",
   "metadata": {},
   "outputs": [],
   "source": [
    "sp_soup = bs4.BeautifulSoup(sp_site.text,\"lxml\")"
   ]
  },
  {
   "cell_type": "code",
   "execution_count": 43,
   "id": "6bef2f2e-9d71-4217-8a82-5fc1af9adc3a",
   "metadata": {},
   "outputs": [],
   "source": [
    "# sp_soup.select(\".vector-toc-text\")"
   ]
  },
  {
   "cell_type": "code",
   "execution_count": 47,
   "id": "5dc05996-8a23-439d-aa69-baca19fa2ddb",
   "metadata": {},
   "outputs": [],
   "source": [
    "first_element = sp_soup.select(\".vector-toc-text\")[2]"
   ]
  },
  {
   "cell_type": "code",
   "execution_count": 52,
   "id": "6be3ec51-0e41-4b63-8a48-8e83251fb6f3",
   "metadata": {},
   "outputs": [
    {
     "data": {
      "text/plain": [
       "'\\n2\\nSímbolos\\n'"
      ]
     },
     "execution_count": 52,
     "metadata": {},
     "output_type": "execute_result"
    }
   ],
   "source": [
    "first_element.text"
   ]
  },
  {
   "cell_type": "code",
   "execution_count": 44,
   "id": "3b0a4d97-58d8-4cd4-9364-7ac9edb12ae7",
   "metadata": {},
   "outputs": [
    {
     "name": "stdout",
     "output_type": "stream",
     "text": [
      "Início\n",
      "\n",
      "1\n",
      "História\n",
      "\n",
      "\n",
      "2\n",
      "Símbolos\n",
      "\n",
      "\n",
      "2.1\n",
      "Escudo\n",
      "\n",
      "\n",
      "2.2\n",
      "Mascote\n",
      "\n",
      "\n",
      "2.3\n",
      "Hino\n",
      "\n",
      "\n",
      "3\n",
      "Uniformes\n",
      "\n",
      "\n",
      "3.1\n",
      "Uniformes atuais\n",
      "\n",
      "\n",
      "3.1.1\n",
      "Jogadores\n",
      "\n",
      "\n",
      "3.1.2\n",
      "Goleiros\n",
      "\n",
      "\n",
      "3.1.3\n",
      "Treino\n",
      "\n",
      "\n",
      "4\n",
      "Patrocinadores\n",
      "\n",
      "\n",
      "5\n",
      "Estrutura\n",
      "\n",
      "\n",
      "5.1\n",
      "Estádio do Morumbi\n",
      "\n",
      "\n",
      "5.2\n",
      "Centro de Treinamento\n",
      "\n",
      "\n",
      "5.2.1\n",
      "REFFIS\n",
      "\n",
      "\n",
      "5.3\n",
      "Centro de Formação de Atletas\n",
      "\n",
      "\n",
      "5.4\n",
      "Centro de Treinamento de Guarapiranga\n",
      "\n",
      "\n",
      "6\n",
      "Futebolistas\n",
      "\n",
      "\n",
      "6.1\n",
      "Elenco masculino\n",
      "\n",
      "\n",
      "6.2\n",
      "Grandes ídolos\n",
      "\n",
      "\n",
      "7\n",
      "Títulos\n",
      "\n",
      "\n",
      "7.1\n",
      "Futebol\n",
      "\n",
      "\n",
      "7.1.1\n",
      "Outras conquistas\n",
      "\n",
      "\n",
      "7.1.2\n",
      "Categorias de base\n",
      "\n",
      "\n",
      "7.1.3\n",
      "Futebol feminino\n",
      "\n",
      "\n",
      "7.2\n",
      "Atletismo\n",
      "\n",
      "\n",
      "7.3\n",
      "Boxe\n",
      "\n",
      "\n",
      "8\n",
      "Campanhas de destaque\n",
      "\n",
      "\n",
      "9\n",
      "Estatísticas\n",
      "\n",
      "\n",
      "9.1\n",
      "Participações\n",
      "\n",
      "\n",
      "9.2\n",
      "Clássicos, rivalidades e confrontos tradicionais\n",
      "\n",
      "\n",
      "10\n",
      "Torcida\n",
      "\n",
      "\n",
      "10.1\n",
      "Torcidas organizadas\n",
      "\n",
      "\n",
      "11\n",
      "Rivalidades históricas\n",
      "\n",
      "\n",
      "12\n",
      "Recordes\n",
      "\n",
      "\n",
      "13\n",
      "Marketing\n",
      "\n",
      "\n",
      "14\n",
      "Projetos sociais\n",
      "\n",
      "\n",
      "15\n",
      "Outras modalidades esportivas\n",
      "\n",
      "\n",
      "15.1\n",
      "Atletismo\n",
      "\n",
      "\n",
      "15.2\n",
      "Basquetebol\n",
      "\n",
      "\n",
      "15.3\n",
      "Elenco (temporada 2021-2022)\n",
      "\n",
      "\n",
      "15.4\n",
      "Futebol Feminino\n",
      "\n",
      "\n",
      "15.5\n",
      "Futsal\n",
      "\n",
      "\n",
      "15.6\n",
      "Ginástica aeróbica\n",
      "\n",
      "\n",
      "15.7\n",
      "Handebol\n",
      "\n",
      "\n",
      "15.8\n",
      "Hóquei\n",
      "\n",
      "\n",
      "15.9\n",
      "Judô\n",
      "\n",
      "\n",
      "15.10\n",
      "Natação\n",
      "\n",
      "\n",
      "15.11\n",
      "Patinação artística\n",
      "\n",
      "\n",
      "15.12\n",
      "Pugilismo\n",
      "\n",
      "\n",
      "15.13\n",
      "Tênis\n",
      "\n",
      "\n",
      "15.14\n",
      "Voleibol\n",
      "\n",
      "\n",
      "16\n",
      "Ver também\n",
      "\n",
      "\n",
      "17\n",
      "Notas\n",
      "\n",
      "\n",
      "18\n",
      "Referências\n",
      "\n",
      "\n",
      "19\n",
      "Bibliografia\n",
      "\n",
      "\n",
      "20\n",
      "Ligações externas\n",
      "\n"
     ]
    }
   ],
   "source": [
    "contents = sp_soup.select(\".vector-toc-text\")\n",
    "\n",
    "for item in contents:\n",
    "    print(item.text)"
   ]
  },
  {
   "cell_type": "markdown",
   "id": "9c2517ca-8365-46c2-9bcb-b217482e0076",
   "metadata": {},
   "source": [
    "##### 120. Python Web Scraping - Grabbing an Image\n"
   ]
  },
  {
   "cell_type": "code",
   "execution_count": 80,
   "id": "f933b48d-0788-4d9f-9331-65dafe57c631",
   "metadata": {},
   "outputs": [
    {
     "data": {
      "text/plain": [
       "<a class=\"mw-file-description\" href=\"/wiki/Ficheiro:Brasao_do_Sao_Paulo_Futebol_Clube.svg\" title=\"São Paulo Futebol Clube\"><img alt=\"São Paulo Futebol Clube\" class=\"mw-file-element\" data-file-height=\"349\" data-file-width=\"350\" decoding=\"async\" height=\"120\" src=\"//upload.wikimedia.org/wikipedia/commons/thumb/6/6f/Brasao_do_Sao_Paulo_Futebol_Clube.svg/120px-Brasao_do_Sao_Paulo_Futebol_Clube.svg.png\" srcset=\"//upload.wikimedia.org/wikipedia/commons/thumb/6/6f/Brasao_do_Sao_Paulo_Futebol_Clube.svg/180px-Brasao_do_Sao_Paulo_Futebol_Clube.svg.png 1.5x, //upload.wikimedia.org/wikipedia/commons/thumb/6/6f/Brasao_do_Sao_Paulo_Futebol_Clube.svg/240px-Brasao_do_Sao_Paulo_Futebol_Clube.svg.png 2x\" width=\"120\"/></a>"
      ]
     },
     "execution_count": 80,
     "metadata": {},
     "output_type": "execute_result"
    }
   ],
   "source": [
    "sp_soup.select(\".mw-file-description\")[0]"
   ]
  },
  {
   "cell_type": "code",
   "execution_count": 74,
   "id": "92a05dd9-84f4-440b-b050-f2b3e0d47438",
   "metadata": {},
   "outputs": [],
   "source": [
    "escudo_spfc = sp_soup.select(\".mw-file-description > img\")[0]"
   ]
  },
  {
   "cell_type": "code",
   "execution_count": 75,
   "id": "ea8de61f-2145-487a-b45a-5ee8f27f2a85",
   "metadata": {},
   "outputs": [
    {
     "data": {
      "text/plain": [
       "<img alt=\"São Paulo Futebol Clube\" class=\"mw-file-element\" data-file-height=\"349\" data-file-width=\"350\" decoding=\"async\" height=\"120\" src=\"//upload.wikimedia.org/wikipedia/commons/thumb/6/6f/Brasao_do_Sao_Paulo_Futebol_Clube.svg/120px-Brasao_do_Sao_Paulo_Futebol_Clube.svg.png\" srcset=\"//upload.wikimedia.org/wikipedia/commons/thumb/6/6f/Brasao_do_Sao_Paulo_Futebol_Clube.svg/180px-Brasao_do_Sao_Paulo_Futebol_Clube.svg.png 1.5x, //upload.wikimedia.org/wikipedia/commons/thumb/6/6f/Brasao_do_Sao_Paulo_Futebol_Clube.svg/240px-Brasao_do_Sao_Paulo_Futebol_Clube.svg.png 2x\" width=\"120\"/>"
      ]
     },
     "execution_count": 75,
     "metadata": {},
     "output_type": "execute_result"
    }
   ],
   "source": [
    "escudo_spfc"
   ]
  },
  {
   "cell_type": "code",
   "execution_count": 71,
   "id": "9c173453-7a66-4f4f-be09-a4e8b0489aee",
   "metadata": {},
   "outputs": [
    {
     "data": {
      "text/plain": [
       "'//upload.wikimedia.org/wikipedia/commons/thumb/6/6f/Brasao_do_Sao_Paulo_Futebol_Clube.svg/120px-Brasao_do_Sao_Paulo_Futebol_Clube.svg.png'"
      ]
     },
     "execution_count": 71,
     "metadata": {},
     "output_type": "execute_result"
    }
   ],
   "source": [
    "escudo_spfc['src']"
   ]
  },
  {
   "cell_type": "markdown",
   "id": "6edc0fae-2abf-41e3-87c2-7bc2c901202f",
   "metadata": {},
   "source": [
    "##### img src='//upload.wikimedia.org/wikipedia/commons/thumb/6/6f/Brasao_do_Sao_Paulo_Futebol_Clube.svg/120px-Brasao_do_Sao_Paulo_Futebol_Clube.svg.png' (entre <>)\n",
    "\n",
    "<img src='//upload.wikimedia.org/wikipedia/commons/thumb/6/6f/Brasao_do_Sao_Paulo_Futebol_Clube.svg/120px-Brasao_do_Sao_Paulo_Futebol_Clube.svg.png'>\r\n"
   ]
  },
  {
   "cell_type": "code",
   "execution_count": 83,
   "id": "9fdca287-73c2-49bd-9869-bb2b498a7ab2",
   "metadata": {},
   "outputs": [],
   "source": [
    "escudo_link = requests.get('https://upload.wikimedia.org/wikipedia/commons/thumb/6/6f/Brasao_do_Sao_Paulo_Futebol_Clube.svg/120px-Brasao_do_Sao_Paulo_Futebol_Clube.svg.png'\n",
    ")"
   ]
  },
  {
   "cell_type": "code",
   "execution_count": 85,
   "id": "9f0eab2a-5b1d-4ffa-93d0-12619b3f7481",
   "metadata": {},
   "outputs": [],
   "source": [
    "# escudo_link.content"
   ]
  },
  {
   "cell_type": "code",
   "execution_count": 89,
   "id": "cb7f8ad7-e799-4681-9a5f-2273f345d4f9",
   "metadata": {},
   "outputs": [],
   "source": [
    "f = open(\"escudo_spfc.png\",\"wb\") # wb = write binary"
   ]
  },
  {
   "cell_type": "code",
   "execution_count": 87,
   "id": "a5459027-f1fe-4f61-96bb-f8be60357bae",
   "metadata": {},
   "outputs": [
    {
     "data": {
      "text/plain": [
       "4068"
      ]
     },
     "execution_count": 87,
     "metadata": {},
     "output_type": "execute_result"
    }
   ],
   "source": [
    "f.write(escudo_link.content)"
   ]
  },
  {
   "cell_type": "code",
   "execution_count": 88,
   "id": "da1d31e5-6795-4bcb-8e63-3268ff73203c",
   "metadata": {},
   "outputs": [],
   "source": [
    "f.close()"
   ]
  },
  {
   "cell_type": "code",
   "execution_count": null,
   "id": "fa2f6b73-1c9b-4b5c-9ca3-24c1d06a78d6",
   "metadata": {},
   "outputs": [],
   "source": []
  }
 ],
 "metadata": {
  "kernelspec": {
   "display_name": "Python 3 (ipykernel)",
   "language": "python",
   "name": "python3"
  },
  "language_info": {
   "codemirror_mode": {
    "name": "ipython",
    "version": 3
   },
   "file_extension": ".py",
   "mimetype": "text/x-python",
   "name": "python",
   "nbconvert_exporter": "python",
   "pygments_lexer": "ipython3",
   "version": "3.12.4"
  }
 },
 "nbformat": 4,
 "nbformat_minor": 5
}
