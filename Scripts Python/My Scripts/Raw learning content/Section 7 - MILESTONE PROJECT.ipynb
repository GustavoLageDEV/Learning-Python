{
 "cells": [
  {
   "cell_type": "code",
   "execution_count": 1,
   "id": "10383e72-1574-4038-a64d-e9991f75a8ff",
   "metadata": {},
   "outputs": [],
   "source": [
    "row1 = [\" \",\" \",\" \"]\n",
    "row2 = [\" \",\" \",\" \"]\n",
    "row3 = [\" \",\" \",\" \"]"
   ]
  },
  {
   "cell_type": "code",
   "execution_count": 3,
   "id": "ac0adc7a-d52a-4736-a531-1f297f944d98",
   "metadata": {},
   "outputs": [],
   "source": [
    "def display_game(row1,row2,row3):\n",
    "    print(row1)\n",
    "    print(row2)\n",
    "    print(row3)"
   ]
  },
  {
   "cell_type": "code",
   "execution_count": 5,
   "id": "da423d9d-893f-4bd3-88eb-f037d553a8de",
   "metadata": {},
   "outputs": [
    {
     "data": {
      "text/plain": [
       "[' ', ' ', ' ']"
      ]
     },
     "metadata": {},
     "output_type": "display_data"
    },
    {
     "data": {
      "text/plain": [
       "[' ', ' ', ' ']"
      ]
     },
     "metadata": {},
     "output_type": "display_data"
    },
    {
     "data": {
      "text/plain": [
       "[' ', ' ', ' ']"
      ]
     },
     "metadata": {},
     "output_type": "display_data"
    }
   ],
   "source": [
    "display(row1,row2,row3)"
   ]
  },
  {
   "cell_type": "code",
   "execution_count": 13,
   "id": "d4faef6e-d77a-4a7e-9942-19154100d9e6",
   "metadata": {},
   "outputs": [
    {
     "name": "stdin",
     "output_type": "stream",
     "text": [
      "Jogador 1(X). Escolha onde colocar X:  5\n"
     ]
    }
   ],
   "source": [
    "result = int(input(\"Jogador 1(X). Escolha onde colocar X: \"))"
   ]
  },
  {
   "cell_type": "code",
   "execution_count": 75,
   "id": "77109397-7de1-4252-9797-74342f9a7f30",
   "metadata": {},
   "outputs": [],
   "source": [
    "def user_choice():\n",
    "    choice = \"Wrong!\"\n",
    "\n",
    "    while not choice.isdigit():\n",
    "        choice = input(\"Digite um número (0-9): \")\n",
    "\n",
    "        if not choice.isdigit():\n",
    "            print(\"Erro, preciso que digite um número\")\n",
    "            continue\n",
    "        if int(choice) not in range(0,10):\n",
    "            print(\"Erro, número precisa estar entre 0 e 9\")\n",
    "            choice = \"Wrong!\"\n",
    "    return int(choice)"
   ]
  },
  {
   "cell_type": "code",
   "execution_count": 77,
   "id": "3b323627-97f0-4117-9120-f9750c7dba52",
   "metadata": {},
   "outputs": [
    {
     "name": "stdin",
     "output_type": "stream",
     "text": [
      "Digite um número (0-9):  a\n"
     ]
    },
    {
     "name": "stdout",
     "output_type": "stream",
     "text": [
      "Erro, preciso que digite um número\n"
     ]
    },
    {
     "name": "stdin",
     "output_type": "stream",
     "text": [
      "Digite um número (0-9):  a\n"
     ]
    },
    {
     "name": "stdout",
     "output_type": "stream",
     "text": [
      "Erro, preciso que digite um número\n"
     ]
    },
    {
     "name": "stdin",
     "output_type": "stream",
     "text": [
      "Digite um número (0-9):  22\n"
     ]
    },
    {
     "name": "stdout",
     "output_type": "stream",
     "text": [
      "Erro, número precisa estar entre 0 e 9\n"
     ]
    },
    {
     "name": "stdin",
     "output_type": "stream",
     "text": [
      "Digite um número (0-9):  12\n"
     ]
    },
    {
     "name": "stdout",
     "output_type": "stream",
     "text": [
      "Erro, número precisa estar entre 0 e 9\n"
     ]
    },
    {
     "name": "stdin",
     "output_type": "stream",
     "text": [
      "Digite um número (0-9):  1\n"
     ]
    },
    {
     "data": {
      "text/plain": [
       "1"
      ]
     },
     "execution_count": 77,
     "metadata": {},
     "output_type": "execute_result"
    }
   ],
   "source": [
    "user_choice()"
   ]
  },
  {
   "cell_type": "code",
   "execution_count": 19,
   "id": "6d9e0ac2-572c-43d2-a03e-449c2687961f",
   "metadata": {},
   "outputs": [],
   "source": [
    "def position_choice():\n",
    "    choice = \"Wrong!\"\n",
    "    acceptable_range = range(0,3)\n",
    "    within_range = False\n",
    "\n",
    "    while not choice.isdigit() or not within_range:\n",
    "        choice = input(\"Escolha uma posição: 0, 1 ou 2 \")\n",
    "\n",
    "        if not choice.isdigit():\n",
    "            print(\"Erro, preciso que digite um dos números anteriores\")\n",
    "            continue\n",
    "        if int(choice) not in acceptable_range:\n",
    "            print(\"Erro, preciso que digite um dos números anteriores\")\n",
    "        else:\n",
    "            within_range = True\n",
    "            \n",
    "    return int(choice)"
   ]
  },
  {
   "cell_type": "code",
   "execution_count": 35,
   "id": "ffb75884-16d2-4299-985b-b653684b491f",
   "metadata": {},
   "outputs": [
    {
     "name": "stdin",
     "output_type": "stream",
     "text": [
      "Escolha uma posição: 0, 1 ou 2  2\n"
     ]
    },
    {
     "data": {
      "text/plain": [
       "2"
      ]
     },
     "execution_count": 35,
     "metadata": {},
     "output_type": "execute_result"
    }
   ],
   "source": [
    "position_choice()\n"
   ]
  },
  {
   "cell_type": "code",
   "execution_count": 37,
   "id": "54dff8ba-0d7d-4ee3-a468-bc836b834991",
   "metadata": {},
   "outputs": [],
   "source": [
    "def display_game_new(game_list):\n",
    "    print(game_list)"
   ]
  },
  {
   "cell_type": "code",
   "execution_count": 21,
   "id": "0757c9b6-18d0-42b7-9477-d3d8fa9f3b8a",
   "metadata": {},
   "outputs": [],
   "source": [
    "def replacement_choice(game_list,position):\n",
    "\n",
    "    user_placement = input(\"Digite uma string para colocar em tal posição: \")\n",
    "\n",
    "    game_list[position] = user_placement\n",
    "\n",
    "    return game_list"
   ]
  },
  {
   "cell_type": "code",
   "execution_count": 57,
   "id": "297db874-e039-49b6-a6d4-a4d387985d36",
   "metadata": {},
   "outputs": [],
   "source": [
    "def gameon_choice():\n",
    "    choice = \"Wrong!\"\n",
    "    choice_list = [\"Y\",\"N\"]\n",
    "\n",
    "    while choice not in choice_list:\n",
    "        choice = input(\"Gostaria de continuar jogando? Y ou N\")\n",
    "        choice = choice.upper()\n",
    "        if choice not in choice_list:\n",
    "            print(\"Erro, escolha Y ou N\")\n",
    "\n",
    "    if choice == \"Y\":\n",
    "        return True\n",
    "    else:\n",
    "        return False "
   ]
  },
  {
   "cell_type": "code",
   "execution_count": 61,
   "id": "5229358f-9c82-49a7-b1e7-64d6633e1cba",
   "metadata": {},
   "outputs": [
    {
     "name": "stdin",
     "output_type": "stream",
     "text": [
      "Gostaria de continuar jogando? Y ou N a\n"
     ]
    },
    {
     "name": "stdout",
     "output_type": "stream",
     "text": [
      "Erro, escolha Y ou N\n"
     ]
    },
    {
     "name": "stdin",
     "output_type": "stream",
     "text": [
      "Gostaria de continuar jogando? Y ou N a\n"
     ]
    },
    {
     "name": "stdout",
     "output_type": "stream",
     "text": [
      "Erro, escolha Y ou N\n"
     ]
    },
    {
     "name": "stdin",
     "output_type": "stream",
     "text": [
      "Gostaria de continuar jogando? Y ou N a\n"
     ]
    },
    {
     "name": "stdout",
     "output_type": "stream",
     "text": [
      "Erro, escolha Y ou N\n"
     ]
    },
    {
     "name": "stdin",
     "output_type": "stream",
     "text": [
      "Gostaria de continuar jogando? Y ou N a\n"
     ]
    },
    {
     "name": "stdout",
     "output_type": "stream",
     "text": [
      "Erro, escolha Y ou N\n"
     ]
    },
    {
     "name": "stdin",
     "output_type": "stream",
     "text": [
      "Gostaria de continuar jogando? Y ou N k\n"
     ]
    },
    {
     "name": "stdout",
     "output_type": "stream",
     "text": [
      "Erro, escolha Y ou N\n"
     ]
    },
    {
     "name": "stdin",
     "output_type": "stream",
     "text": [
      "Gostaria de continuar jogando? Y ou N n\n"
     ]
    },
    {
     "data": {
      "text/plain": [
       "False"
      ]
     },
     "execution_count": 61,
     "metadata": {},
     "output_type": "execute_result"
    }
   ],
   "source": [
    "gameon_choice()"
   ]
  },
  {
   "cell_type": "code",
   "execution_count": 63,
   "id": "f698c4d6-bc30-4678-9d74-2d6eab73f2bc",
   "metadata": {},
   "outputs": [
    {
     "name": "stdout",
     "output_type": "stream",
     "text": [
      "[1, 2, 3]\n"
     ]
    },
    {
     "name": "stdin",
     "output_type": "stream",
     "text": [
      "Escolha uma posição: 0, 1 ou 2  q\n"
     ]
    },
    {
     "name": "stdout",
     "output_type": "stream",
     "text": [
      "Erro, preciso que digite um dos números anteriores\n"
     ]
    },
    {
     "name": "stdin",
     "output_type": "stream",
     "text": [
      "Escolha uma posição: 0, 1 ou 2  1\n",
      "Digite uma string para colocar em tal posição:  OLA\n"
     ]
    },
    {
     "name": "stdout",
     "output_type": "stream",
     "text": [
      "[1, 'OLA', 3]\n"
     ]
    },
    {
     "name": "stdin",
     "output_type": "stream",
     "text": [
      "Gostaria de continuar jogando? Y ou N a\n"
     ]
    },
    {
     "name": "stdout",
     "output_type": "stream",
     "text": [
      "Erro, escolha Y ou N\n"
     ]
    },
    {
     "name": "stdin",
     "output_type": "stream",
     "text": [
      "Gostaria de continuar jogando? Y ou N y\n"
     ]
    },
    {
     "name": "stdout",
     "output_type": "stream",
     "text": [
      "[1, 'OLA', 3]\n"
     ]
    },
    {
     "name": "stdin",
     "output_type": "stream",
     "text": [
      "Escolha uma posição: 0, 1 ou 2  0\n",
      "Digite uma string para colocar em tal posição:  OI\n"
     ]
    },
    {
     "name": "stdout",
     "output_type": "stream",
     "text": [
      "['OI', 'OLA', 3]\n"
     ]
    },
    {
     "name": "stdin",
     "output_type": "stream",
     "text": [
      "Gostaria de continuar jogando? Y ou N n\n"
     ]
    }
   ],
   "source": [
    "game_on = True\n",
    "game_list = [1,2,3]\n",
    "\n",
    "while game_on:\n",
    "    display_game_new(game_list)\n",
    "\n",
    "    position = position_choice()\n",
    "\n",
    "    game_list = replacement_choice(game_list,position)\n",
    "\n",
    "    display_game_new(game_list)\n",
    "\n",
    "    game_on = gameon_choice()"
   ]
  },
  {
   "cell_type": "code",
   "execution_count": null,
   "id": "6b01456d-1363-440b-bb53-35cea28fc0c2",
   "metadata": {},
   "outputs": [],
   "source": []
  }
 ],
 "metadata": {
  "kernelspec": {
   "display_name": "Python 3 (ipykernel)",
   "language": "python",
   "name": "python3"
  },
  "language_info": {
   "codemirror_mode": {
    "name": "ipython",
    "version": 3
   },
   "file_extension": ".py",
   "mimetype": "text/x-python",
   "name": "python",
   "nbconvert_exporter": "python",
   "pygments_lexer": "ipython3",
   "version": "3.11.7"
  }
 },
 "nbformat": 4,
 "nbformat_minor": 5
}
