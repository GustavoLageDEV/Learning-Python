{
 "cells": [
  {
   "cell_type": "code",
   "execution_count": 3,
   "id": "e4325ee2-46c9-4af9-87e8-a55db3bad069",
   "metadata": {},
   "outputs": [],
   "source": [
    "mylist = [1,2,3]"
   ]
  },
  {
   "cell_type": "code",
   "execution_count": 5,
   "id": "9a91774c-ffed-4b1c-a838-2842e2759b1f",
   "metadata": {},
   "outputs": [],
   "source": [
    "mylist.append(4)"
   ]
  },
  {
   "cell_type": "code",
   "execution_count": 7,
   "id": "cab2f66d-90ba-424f-934f-178719cf335c",
   "metadata": {},
   "outputs": [
    {
     "data": {
      "text/plain": [
       "[1, 2, 3, 4]"
      ]
     },
     "execution_count": 7,
     "metadata": {},
     "output_type": "execute_result"
    }
   ],
   "source": [
    "mylist"
   ]
  },
  {
   "cell_type": "code",
   "execution_count": 9,
   "id": "c9682aa1-cac4-4395-b056-056c364e67f3",
   "metadata": {},
   "outputs": [
    {
     "data": {
      "text/plain": [
       "4"
      ]
     },
     "execution_count": 9,
     "metadata": {},
     "output_type": "execute_result"
    }
   ],
   "source": [
    "mylist.pop()"
   ]
  },
  {
   "cell_type": "code",
   "execution_count": 11,
   "id": "2383e4e0-2189-4e28-92e6-aaf0f8c595be",
   "metadata": {},
   "outputs": [
    {
     "data": {
      "text/plain": [
       "[1, 2, 3]"
      ]
     },
     "execution_count": 11,
     "metadata": {},
     "output_type": "execute_result"
    }
   ],
   "source": [
    "mylist"
   ]
  },
  {
   "cell_type": "code",
   "execution_count": 20,
   "id": "2a8d97d6-7b6f-4f01-be03-b8916fcfde14",
   "metadata": {},
   "outputs": [],
   "source": [
    "# DESCOBRINDO E CONHECENDO MÉTODOS\n",
    "# AO DIGITA UM OBJETO (EX: mylist) . + tab PARA VER OS MÉTODOS BUILT IN\n",
    "# DENTRO DO MÉTODO/FUNÇAO, () CLICAR tab + shift PARA MAIS INFORMAÇOES SOBRE\n",
    "# UTILIZAR help() COM MÉTODO/FUNÇAO DENTRO () (EX: help(mylist.insert)\n",
    "# OU VER A DOCUMENTAÇAO OFICIAL DA LINGUAGEM"
   ]
  },
  {
   "cell_type": "code",
   "execution_count": 18,
   "id": "502a9220-4477-4651-ba31-59cec9ce751f",
   "metadata": {},
   "outputs": [
    {
     "name": "stdout",
     "output_type": "stream",
     "text": [
      "Help on built-in function insert:\n",
      "\n",
      "insert(index, object, /) method of builtins.list instance\n",
      "    Insert object before index.\n",
      "\n"
     ]
    }
   ],
   "source": [
    "help(mylist.insert)"
   ]
  },
  {
   "cell_type": "code",
   "execution_count": 31,
   "id": "54262980-264a-4698-b33d-22ebf2e459e0",
   "metadata": {},
   "outputs": [
    {
     "data": {
      "text/plain": [
       "'\\nDOCSTRING (PARA EXPLICAR A FUNÇAO CRIADA)\\n\\n'"
      ]
     },
     "execution_count": 31,
     "metadata": {},
     "output_type": "execute_result"
    }
   ],
   "source": [
    "'''\n",
    "DOCSTRING (PARA EXPLICAR A FUNÇAO CRIADA)\n",
    "\n",
    "'''"
   ]
  },
  {
   "cell_type": "code",
   "execution_count": 219,
   "id": "99c16eb6-3251-4f95-90f2-c29b09b17217",
   "metadata": {},
   "outputs": [],
   "source": [
    "def say_hello(nome=\"Default\"):\n",
    "    print(f\"Hello {nome}, \")\n",
    "    print(\"good\")\n",
    "    print(\"morning\")"
   ]
  },
  {
   "cell_type": "code",
   "execution_count": 221,
   "id": "d9066942-8d24-44a5-b53e-47d05a435f72",
   "metadata": {},
   "outputs": [
    {
     "ename": "TypeError",
     "evalue": "say_hello() missing 1 required positional argument: 'nome'",
     "output_type": "error",
     "traceback": [
      "\u001b[1;31m---------------------------------------------------------------------------\u001b[0m",
      "\u001b[1;31mTypeError\u001b[0m                                 Traceback (most recent call last)",
      "Cell \u001b[1;32mIn[221], line 1\u001b[0m\n\u001b[1;32m----> 1\u001b[0m say_hello()\n",
      "\u001b[1;31mTypeError\u001b[0m: say_hello() missing 1 required positional argument: 'nome'"
     ]
    }
   ],
   "source": [
    "say_hello()"
   ]
  },
  {
   "cell_type": "code",
   "execution_count": 59,
   "id": "d6a2f238-70cf-4cba-88d1-63dc325a6aae",
   "metadata": {},
   "outputs": [
    {
     "name": "stdout",
     "output_type": "stream",
     "text": [
      "Hello Default, \n",
      "good\n",
      "morning\n"
     ]
    }
   ],
   "source": [
    "say_hello() # PODE-SE COLOCAR UM VALOR PADRAO PARA O PARAMETRO CASO NAO SEJA INSERIDO"
   ]
  },
  {
   "cell_type": "code",
   "execution_count": 75,
   "id": "807bf623-193a-42e2-8b5a-a6077bb3a36d",
   "metadata": {},
   "outputs": [],
   "source": [
    "def add_num(num1,num2):\n",
    "    return num1+num2"
   ]
  },
  {
   "cell_type": "code",
   "execution_count": 77,
   "id": "1116a2e4-bdc4-4bc2-91dc-da4d90bf983e",
   "metadata": {},
   "outputs": [],
   "source": [
    "result = add_num(10,20)"
   ]
  },
  {
   "cell_type": "code",
   "execution_count": 79,
   "id": "5bf07e1a-c3bb-4a1b-81e5-5f6d11a282ea",
   "metadata": {},
   "outputs": [
    {
     "data": {
      "text/plain": [
       "30"
      ]
     },
     "execution_count": 79,
     "metadata": {},
     "output_type": "execute_result"
    }
   ],
   "source": [
    "result"
   ]
  },
  {
   "cell_type": "code",
   "execution_count": 83,
   "id": "65e6fb5c-d0c9-43c3-a6b2-b54ad6a7f5e5",
   "metadata": {},
   "outputs": [],
   "source": [
    "def sum_num(a,b):\n",
    "    print(a+b)\n",
    "    return a+b"
   ]
  },
  {
   "cell_type": "code",
   "execution_count": 91,
   "id": "ddab6657-06c3-4109-b044-55ae0ff4ce9e",
   "metadata": {},
   "outputs": [
    {
     "name": "stdout",
     "output_type": "stream",
     "text": [
      "1020\n"
     ]
    }
   ],
   "source": [
    "result = sum_num(\"10\",\"20\") #como os valores foram entrados como string, o resultado tambem, o que pode ser \"perigoso\""
   ]
  },
  {
   "cell_type": "code",
   "execution_count": 99,
   "id": "a2f177bc-d4e7-4120-bd7f-b9f82aab934f",
   "metadata": {},
   "outputs": [],
   "source": [
    "def even_check(num):\n",
    "    return num % 2 == 0"
   ]
  },
  {
   "cell_type": "code",
   "execution_count": 101,
   "id": "31e7440d-c900-41f3-b719-64fe869c49f3",
   "metadata": {},
   "outputs": [
    {
     "data": {
      "text/plain": [
       "True"
      ]
     },
     "execution_count": 101,
     "metadata": {},
     "output_type": "execute_result"
    }
   ],
   "source": [
    "even_check(20)"
   ]
  },
  {
   "cell_type": "code",
   "execution_count": 103,
   "id": "74061bd4-f8fa-4a01-a605-e78f306d5bd8",
   "metadata": {},
   "outputs": [
    {
     "data": {
      "text/plain": [
       "False"
      ]
     },
     "execution_count": 103,
     "metadata": {},
     "output_type": "execute_result"
    }
   ],
   "source": [
    "even_check(25)"
   ]
  },
  {
   "cell_type": "code",
   "execution_count": 149,
   "id": "205e2038-4304-4887-847b-039298a833ca",
   "metadata": {},
   "outputs": [],
   "source": [
    "# RETORNA TRUE SE QUALQUER NUMERO FOR PAR, DENTRO DE UMA LISTA\n",
    "\n",
    "def check_even_list(num_list):\n",
    "    for num in num_list:\n",
    "        if num % 2 == 0:\n",
    "            return True\n",
    "        else:\n",
    "            pass\n",
    "            \n",
    "    return False\n",
    "        "
   ]
  },
  {
   "cell_type": "code",
   "execution_count": 151,
   "id": "d502e1a1-03e9-4198-9969-15eb493c7712",
   "metadata": {},
   "outputs": [
    {
     "data": {
      "text/plain": [
       "False"
      ]
     },
     "execution_count": 151,
     "metadata": {},
     "output_type": "execute_result"
    }
   ],
   "source": [
    "check_even_list([1,1,1,1])"
   ]
  },
  {
   "cell_type": "code",
   "execution_count": 153,
   "id": "7f00673b-3247-4254-9a38-62dfa7bef23b",
   "metadata": {},
   "outputs": [
    {
     "data": {
      "text/plain": [
       "True"
      ]
     },
     "execution_count": 153,
     "metadata": {},
     "output_type": "execute_result"
    }
   ],
   "source": [
    "check_even_list([1,3,5,8])"
   ]
  },
  {
   "cell_type": "code",
   "execution_count": 223,
   "id": "fc674a48-3712-4f41-b698-fb2edaf86e07",
   "metadata": {},
   "outputs": [],
   "source": [
    "# RETORNA TODOS NUMEROS PARES DENTRO DE UMA LISTA\n",
    "\n",
    "def check_even_list(num_list):\n",
    "\n",
    "    #PLACEHOLDER VARIABLE\n",
    "    even_numbers = []\n",
    "    \n",
    "    for num in num_list:\n",
    "        if num % 2 == 0:\n",
    "            even_numbers.append(num)\n",
    "            \n",
    "        else:\n",
    "            pass\n",
    "    even_numbers.sort()        \n",
    "    return even_numbers"
   ]
  },
  {
   "cell_type": "code",
   "execution_count": 225,
   "id": "e0826c0b-91a4-4797-bb5e-f1be31eec052",
   "metadata": {},
   "outputs": [
    {
     "data": {
      "text/plain": [
       "[2, 6, 6]"
      ]
     },
     "execution_count": 225,
     "metadata": {},
     "output_type": "execute_result"
    }
   ],
   "source": [
    "check_even_list([1,2,3,5,6,6])"
   ]
  },
  {
   "cell_type": "code",
   "execution_count": 227,
   "id": "f3d784ba-9936-4337-97ba-0738556be331",
   "metadata": {},
   "outputs": [
    {
     "data": {
      "text/plain": [
       "[10, 36, 52]"
      ]
     },
     "execution_count": 227,
     "metadata": {},
     "output_type": "execute_result"
    }
   ],
   "source": [
    "check_even_list([10,52,23,75,36,67])"
   ]
  },
  {
   "cell_type": "markdown",
   "id": "0a6d2317-7975-4dc9-b806-df5aa2727e58",
   "metadata": {},
   "source": [
    "#### 46. TUPLE UNPACKING WITH PYTHON FUNCTIONS"
   ]
  },
  {
   "cell_type": "code",
   "execution_count": 231,
   "id": "2f545845-59eb-424d-a9ad-b1fa38338c30",
   "metadata": {},
   "outputs": [],
   "source": [
    "stock_prices = [(\"APPL\",500),(\"GOOG\",400),(\"MSFT\",600)]"
   ]
  },
  {
   "cell_type": "code",
   "execution_count": 233,
   "id": "66985723-7df7-4a66-9c32-12cf11416f02",
   "metadata": {},
   "outputs": [
    {
     "name": "stdout",
     "output_type": "stream",
     "text": [
      "('APPL', 500)\n",
      "('GOOG', 400)\n",
      "('MSFT', 600)\n"
     ]
    }
   ],
   "source": [
    "for item in stock_prices:\n",
    "    print(item)"
   ]
  },
  {
   "cell_type": "code",
   "execution_count": 235,
   "id": "26b609e3-5e67-4abb-9733-1a7f67096fa1",
   "metadata": {},
   "outputs": [
    {
     "name": "stdout",
     "output_type": "stream",
     "text": [
      "500\n",
      "400\n",
      "600\n"
     ]
    }
   ],
   "source": [
    "for ticker,price in stock_prices:\n",
    "    print(price)"
   ]
  },
  {
   "cell_type": "code",
   "execution_count": 319,
   "id": "78310c6a-920b-48ab-8fc9-ebe809bbb789",
   "metadata": {},
   "outputs": [],
   "source": [
    "work_hours = [(\"Gustavo\",20),(\"Luan\",40),(\"Will\",60)]"
   ]
  },
  {
   "cell_type": "code",
   "execution_count": 343,
   "id": "c7f70b6f-9755-45bb-b79f-8de04f5e9115",
   "metadata": {},
   "outputs": [],
   "source": [
    "def workhours_check(work_hours):\n",
    "\n",
    "    current_max = 0\n",
    "    current_min = 999999\n",
    "    hardwork = \"\"\n",
    "    softwork = \"\"\n",
    "\n",
    "    for guy, hours in work_hours:\n",
    "            if hours > current_max:\n",
    "                current_max = hours\n",
    "                hardwork = guy\n",
    "            if hours < current_min:\n",
    "                current_min = hours\n",
    "                softwork = guy\n",
    "            else:\n",
    "                pass\n",
    " \n",
    "    #print(f\"{hardwork} realmente é o funcionário do mês, parabéns! Trabalhou {current_max} horas na semana\")\n",
    "    #print(f\"{softwork} realmente precisa melhorar seu desempenho, só trabalhou {current_min} horas na semana\")\n",
    "    return (hardwork,current_max)       "
   ]
  },
  {
   "cell_type": "code",
   "execution_count": 345,
   "id": "fe1bcb2a-5efe-4f4d-b6c8-72706dd1dd90",
   "metadata": {},
   "outputs": [
    {
     "data": {
      "text/plain": [
       "('Will', 60)"
      ]
     },
     "execution_count": 345,
     "metadata": {},
     "output_type": "execute_result"
    }
   ],
   "source": [
    "workhours_check(work_hours)"
   ]
  },
  {
   "cell_type": "code",
   "execution_count": 347,
   "id": "a470797e-9ade-480a-8046-22754823938e",
   "metadata": {},
   "outputs": [],
   "source": [
    "result = workhours_check(work_hours)"
   ]
  },
  {
   "cell_type": "code",
   "execution_count": 349,
   "id": "cfa2622e-8fff-4902-9b40-f9e37ce999d3",
   "metadata": {},
   "outputs": [],
   "source": [
    "name,hours = workhours_check(work_hours)"
   ]
  },
  {
   "cell_type": "code",
   "execution_count": 351,
   "id": "be250b58-f2a9-4090-abfd-3de33b998e33",
   "metadata": {},
   "outputs": [
    {
     "data": {
      "text/plain": [
       "'Will'"
      ]
     },
     "execution_count": 351,
     "metadata": {},
     "output_type": "execute_result"
    }
   ],
   "source": [
    "name"
   ]
  },
  {
   "cell_type": "code",
   "execution_count": 355,
   "id": "753a7d07-6e9f-4e00-a781-e121f147ac38",
   "metadata": {},
   "outputs": [
    {
     "data": {
      "text/plain": [
       "60"
      ]
     },
     "execution_count": 355,
     "metadata": {},
     "output_type": "execute_result"
    }
   ],
   "source": [
    "hours"
   ]
  },
  {
   "cell_type": "code",
   "execution_count": 357,
   "id": "6c61b43c-1b41-4de9-90b4-5b8765a75f01",
   "metadata": {},
   "outputs": [
    {
     "data": {
      "text/plain": [
       "('Will', 60)"
      ]
     },
     "execution_count": 357,
     "metadata": {},
     "output_type": "execute_result"
    }
   ],
   "source": [
    "result"
   ]
  },
  {
   "cell_type": "markdown",
   "id": "d1f7f733-b643-469d-bd89-78df79b09627",
   "metadata": {},
   "source": [
    "#### 47 - INTERACTIONS BETWEEN PYTHON FUNCTIONS"
   ]
  },
  {
   "cell_type": "code",
   "execution_count": 13,
   "id": "e6ab9848-0dd6-4ed5-965d-2e0b8b760b70",
   "metadata": {},
   "outputs": [],
   "source": [
    "from random import shuffle"
   ]
  },
  {
   "cell_type": "code",
   "execution_count": 53,
   "id": "15b67fb2-c15a-42e7-9a3d-baf6a4d1ba4e",
   "metadata": {},
   "outputs": [],
   "source": [
    "mylist = list(range(0,10))"
   ]
  },
  {
   "cell_type": "code",
   "execution_count": 55,
   "id": "9b120d28-0659-4daa-80b0-7d771951f74e",
   "metadata": {},
   "outputs": [
    {
     "data": {
      "text/plain": [
       "[0, 1, 2, 3, 4, 5, 6, 7, 8, 9]"
      ]
     },
     "execution_count": 55,
     "metadata": {},
     "output_type": "execute_result"
    }
   ],
   "source": [
    "mylist"
   ]
  },
  {
   "cell_type": "code",
   "execution_count": 57,
   "id": "fb4b635c-5504-4a2d-856a-66918abb585b",
   "metadata": {},
   "outputs": [],
   "source": [
    "shuffle(mylist) # E UMA FUNÇAO BUILT IN"
   ]
  },
  {
   "cell_type": "code",
   "execution_count": 29,
   "id": "f78e298a-58ca-45bb-98d6-8d3eabcf6f84",
   "metadata": {},
   "outputs": [],
   "source": [
    "def shuffle_list(mylist):\n",
    "    shuffle(mylist)\n",
    "    return mylist"
   ]
  },
  {
   "cell_type": "code",
   "execution_count": 75,
   "id": "78d76381-828a-4783-a967-fa1e2240be42",
   "metadata": {},
   "outputs": [],
   "source": [
    "list_balls = [0,1,0]"
   ]
  },
  {
   "cell_type": "code",
   "execution_count": 85,
   "id": "c11e0743-38ff-4f71-aaa1-01f62e5bc683",
   "metadata": {},
   "outputs": [
    {
     "data": {
      "text/plain": [
       "[1, 0, 0]"
      ]
     },
     "execution_count": 85,
     "metadata": {},
     "output_type": "execute_result"
    }
   ],
   "source": [
    "shuffle_list(list_balls)"
   ]
  },
  {
   "cell_type": "code",
   "execution_count": 105,
   "id": "94659801-c505-4727-b390-1ccff1a44457",
   "metadata": {},
   "outputs": [],
   "source": [
    "def player_guess():\n",
    "\n",
    "    guess = \"\"\n",
    "\n",
    "    while guess not in [\"0\",\"1\",\"2\"]:\n",
    "        guess = input(\"Escolha um número: 0 , 1 ou 2  \")\n",
    "\n",
    "    return int(guess)"
   ]
  },
  {
   "cell_type": "code",
   "execution_count": 107,
   "id": "128d3670-fd78-4548-968e-d1caf1371a07",
   "metadata": {},
   "outputs": [
    {
     "name": "stdin",
     "output_type": "stream",
     "text": [
      "Escolha um número: 0 , 1 ou 2   2\n"
     ]
    },
    {
     "data": {
      "text/plain": [
       "2"
      ]
     },
     "execution_count": 107,
     "metadata": {},
     "output_type": "execute_result"
    }
   ],
   "source": [
    "player_guess()"
   ]
  },
  {
   "cell_type": "code",
   "execution_count": 95,
   "id": "6c5225df-7275-4a9c-8199-5d2e3c868195",
   "metadata": {},
   "outputs": [
    {
     "name": "stdin",
     "output_type": "stream",
     "text": [
      "Escolha um número: 0 , 1 ou 2   8\n",
      "Escolha um número: 0 , 1 ou 2   8\n",
      "Escolha um número: 0 , 1 ou 2   8\n",
      "Escolha um número: 0 , 1 ou 2   8\n",
      "Escolha um número: 0 , 1 ou 2   2\n"
     ]
    }
   ],
   "source": [
    "my_guess = player_guess()"
   ]
  },
  {
   "cell_type": "code",
   "execution_count": 115,
   "id": "acd030ed-bb20-437e-85d5-34307bf48f6d",
   "metadata": {},
   "outputs": [],
   "source": [
    "def check_guess(mylist,myguess):\n",
    "    if mylist[myguess] == 1:\n",
    "        print(\"CORRETO!\")\n",
    "        print(mylist)\n",
    "    else:\n",
    "        print(\"INCORRETO!\")\n",
    "        print(mylist)"
   ]
  },
  {
   "cell_type": "code",
   "execution_count": 117,
   "id": "b995d51c-1d89-4466-93c6-86abcf5c16bb",
   "metadata": {},
   "outputs": [
    {
     "name": "stdin",
     "output_type": "stream",
     "text": [
      "Escolha um número: 0 , 1 ou 2   5\n",
      "Escolha um número: 0 , 1 ou 2   4\n",
      "Escolha um número: 0 , 1 ou 2   3\n",
      "Escolha um número: 0 , 1 ou 2   2\n"
     ]
    },
    {
     "name": "stdout",
     "output_type": "stream",
     "text": [
      "CORRETO!\n",
      "[0, 0, 1]\n"
     ]
    }
   ],
   "source": [
    "# INTIAL LIST\n",
    "mylist = [0,1,0]\n",
    "# SHUFFLE LIST\n",
    "shuffled_list = shuffle_list(mylist)\n",
    "# TAKE GUESS\n",
    "guess = player_guess()\n",
    "# CHECK GUESS\n",
    "check_guess(shuffled_list,guess)"
   ]
  },
  {
   "cell_type": "markdown",
   "id": "12a508b0-eaef-4792-82a1-7ca3d410835f",
   "metadata": {},
   "source": [
    "#### *args **kwargs IN PYTHON"
   ]
  },
  {
   "cell_type": "code",
   "execution_count": 124,
   "id": "0e8d400b-03df-478a-a56a-8ee6a3f79530",
   "metadata": {},
   "outputs": [],
   "source": [
    "def my_func(a,b,c=0): #<------NÚMERO DEFINIDO DE PARAMETROS\n",
    "    return sum((a,b,c))*0.05"
   ]
  },
  {
   "cell_type": "code",
   "execution_count": 128,
   "id": "e5b7f8de-8420-4f4e-af5b-0baca211aacb",
   "metadata": {},
   "outputs": [
    {
     "data": {
      "text/plain": [
       "10.0"
      ]
     },
     "execution_count": 128,
     "metadata": {},
     "output_type": "execute_result"
    }
   ],
   "source": [
    "my_func(50,150)"
   ]
  },
  {
   "cell_type": "code",
   "execution_count": 130,
   "id": "4b219fdb-4d4c-459c-95f0-037200cc1f2e",
   "metadata": {},
   "outputs": [
    {
     "data": {
      "text/plain": [
       "20.0"
      ]
     },
     "execution_count": 130,
     "metadata": {},
     "output_type": "execute_result"
    }
   ],
   "source": [
    "my_func(50,150,200)"
   ]
  },
  {
   "cell_type": "code",
   "execution_count": 132,
   "id": "2b2cab81-0a5d-492c-a0ac-49948275d7e8",
   "metadata": {},
   "outputs": [
    {
     "ename": "TypeError",
     "evalue": "my_func() takes from 2 to 3 positional arguments but 4 were given",
     "output_type": "error",
     "traceback": [
      "\u001b[1;31m---------------------------------------------------------------------------\u001b[0m",
      "\u001b[1;31mTypeError\u001b[0m                                 Traceback (most recent call last)",
      "Cell \u001b[1;32mIn[132], line 1\u001b[0m\n\u001b[1;32m----> 1\u001b[0m my_func(\u001b[38;5;241m50\u001b[39m,\u001b[38;5;241m150\u001b[39m,\u001b[38;5;241m200\u001b[39m,\u001b[38;5;241m200\u001b[39m)\n",
      "\u001b[1;31mTypeError\u001b[0m: my_func() takes from 2 to 3 positional arguments but 4 were given"
     ]
    }
   ],
   "source": [
    "my_func(50,150,200,200)"
   ]
  },
  {
   "cell_type": "code",
   "execution_count": 144,
   "id": "be22ad1a-ee0e-42f3-8d43-462b1029bef2",
   "metadata": {},
   "outputs": [],
   "source": [
    "def my_func_new(*args): #<------*args = *nums MAS *args É A BOA PRÁTICA\n",
    "    return sum((args))*0.05"
   ]
  },
  {
   "cell_type": "code",
   "execution_count": 146,
   "id": "fcef67be-a154-488d-851b-7c3972627726",
   "metadata": {},
   "outputs": [
    {
     "data": {
      "text/plain": [
       "50.0"
      ]
     },
     "execution_count": 146,
     "metadata": {},
     "output_type": "execute_result"
    }
   ],
   "source": [
    "my_func_new(100,200,300,400)"
   ]
  },
  {
   "cell_type": "code",
   "execution_count": 180,
   "id": "6d9bc346-92c1-46bc-9c95-414e40a3417b",
   "metadata": {},
   "outputs": [],
   "source": [
    "def my_func2(**kwargs):\n",
    "    if \"sport\" in kwargs:    \n",
    "        print(f\"Meu esporte favorito é {kwargs['sport']}\")\n",
    "    else:\n",
    "        print(\"Nenhum esporte reportado\")"
   ]
  },
  {
   "cell_type": "code",
   "execution_count": 188,
   "id": "97471c98-6129-4f29-a099-4f9a76890750",
   "metadata": {},
   "outputs": [
    {
     "name": "stdout",
     "output_type": "stream",
     "text": [
      "Meu esporte favorito é futebol\n"
     ]
    }
   ],
   "source": [
    "my_func2(sport= \"futebol\", cerveja=\"Original\")"
   ]
  },
  {
   "cell_type": "code",
   "execution_count": 212,
   "id": "1de3ea6a-b441-41f3-84ff-9311c5518a6d",
   "metadata": {},
   "outputs": [],
   "source": [
    "def myfunc3(*args,**kwargs): #<------ precisa segur a ordem no INPUT\n",
    "    print(args)\n",
    "    print(kwargs)\n",
    "    print(f\"Eu gostaria de {args[2]} {kwargs['produto']} do {kwargs['vendedor']}\")"
   ]
  },
  {
   "cell_type": "code",
   "execution_count": 214,
   "id": "48bc6537-a896-49bd-b532-44396c82dfcd",
   "metadata": {},
   "outputs": [
    {
     "name": "stdout",
     "output_type": "stream",
     "text": [
      "(2, 4, 5, 9)\n",
      "{'produto': 'camisas', 'loja': 'Americanas', 'vendedor': 'Joao'}\n",
      "Eu gostaria de 5 camisas do Joao\n"
     ]
    }
   ],
   "source": [
    "myfunc3(2,4,5,9,produto= \"camisas\", loja= \"Americanas\", vendedor= \"Joao\")"
   ]
  },
  {
   "cell_type": "code",
   "execution_count": 216,
   "id": "72cd8282-a41c-4485-ac0c-107925023cf9",
   "metadata": {},
   "outputs": [],
   "source": [
    "def myfunc(*args):\n",
    "    even_list = []\n",
    "    for num in args:\n",
    "        if num % 2 ==0:\n",
    "            even_list.append(num)\n",
    "        else:\n",
    "            continue\n",
    "        \n",
    "    return even_list"
   ]
  },
  {
   "cell_type": "code",
   "execution_count": 218,
   "id": "f1a8dbe1-0160-4415-9aec-fd0745ba28d0",
   "metadata": {},
   "outputs": [
    {
     "data": {
      "text/plain": [
       "[2, 6, 8]"
      ]
     },
     "execution_count": 218,
     "metadata": {},
     "output_type": "execute_result"
    }
   ],
   "source": [
    "myfunc(1,2,3,5,6,8,9)"
   ]
  },
  {
   "cell_type": "code",
   "execution_count": 234,
   "id": "f25b0627-a73b-4d03-8edd-a2ba8417bee8",
   "metadata": {},
   "outputs": [],
   "source": [
    "def myfunc1(word):\n",
    "    for x in word:\n",
    "         print(x)"
   ]
  },
  {
   "cell_type": "code",
   "execution_count": 236,
   "id": "f754b73f-a915-4b42-8985-dade0bf135d3",
   "metadata": {},
   "outputs": [
    {
     "name": "stdout",
     "output_type": "stream",
     "text": [
      "G\n",
      "u\n",
      "s\n",
      "t\n",
      "a\n",
      "v\n",
      "o\n"
     ]
    }
   ],
   "source": [
    "myfunc1(\"Gustavo\")"
   ]
  },
  {
   "cell_type": "code",
   "execution_count": 238,
   "id": "d66ab3de-8fb8-45c8-8fbd-ab1410f3476d",
   "metadata": {},
   "outputs": [
    {
     "data": {
      "text/plain": [
       "'G'"
      ]
     },
     "execution_count": 238,
     "metadata": {},
     "output_type": "execute_result"
    }
   ],
   "source": [
    "\"Gustavo\"[0]"
   ]
  },
  {
   "cell_type": "code",
   "execution_count": 272,
   "id": "ea1ee6f4-fcb9-42e0-bedd-980fa78b01eb",
   "metadata": {},
   "outputs": [],
   "source": [
    "def myfunc(word):\n",
    "    letter_list = []\n",
    "    for x in range(len(word)):\n",
    "        if x % 2 == 0:\n",
    "            letter_list.append(word[x].upper())\n",
    "        else:\n",
    "            letter_list.append(word[x].lower())\n",
    "            \n",
    "    return ''.join(letter_list)"
   ]
  },
  {
   "cell_type": "code",
   "execution_count": 274,
   "id": "69f47015-fb78-450f-a29e-d9f6032d5e08",
   "metadata": {},
   "outputs": [
    {
     "data": {
      "text/plain": [
       "'GuStAvO'"
      ]
     },
     "execution_count": 274,
     "metadata": {},
     "output_type": "execute_result"
    }
   ],
   "source": [
    "myfunc(\"Gustavo\")"
   ]
  },
  {
   "cell_type": "code",
   "execution_count": 283,
   "id": "76804d2f-513c-469d-bda3-5f287a3c5bad",
   "metadata": {},
   "outputs": [
    {
     "name": "stdout",
     "output_type": "stream",
     "text": [
      "range(0, 9)\n",
      "BoRbOlEtA\n"
     ]
    }
   ],
   "source": [
    "letter_list = []\n",
    "word = \"borboleta\"\n",
    "print(range(len(word)))\n",
    "for x in range(len(word)):\n",
    "        if x % 2 == 0:\n",
    "            letter_list.append(word[x].upper())\n",
    "        else:\n",
    "            letter_list.append(word[x].lower())\n",
    "            \n",
    "result = ''.join(letter_list)\n",
    "print(result)"
   ]
  },
  {
   "cell_type": "code",
   "execution_count": 105,
   "id": "caff68fa-a568-48cb-87eb-eb177dff3db2",
   "metadata": {},
   "outputs": [],
   "source": [
    "word = \"abcabcabc\""
   ]
  },
  {
   "cell_type": "code",
   "execution_count": 107,
   "id": "ff44eaf9-dc87-4399-b4b6-30422f035110",
   "metadata": {},
   "outputs": [],
   "source": [
    "       "
   ]
  },
  {
   "cell_type": "code",
   "execution_count": 109,
   "id": "e1796d58-2cc0-414d-b054-e69423945478",
   "metadata": {},
   "outputs": [
    {
     "data": {
      "text/plain": [
       "'AbCAbCAbC'"
      ]
     },
     "execution_count": 109,
     "metadata": {},
     "output_type": "execute_result"
    }
   ],
   "source": [
    "newfunc(word)"
   ]
  },
  {
   "cell_type": "code",
   "execution_count": 85,
   "id": "300115ff-3d0c-420f-b217-f4bb3cca5dbc",
   "metadata": {},
   "outputs": [
    {
     "data": {
      "text/plain": [
       "26"
      ]
     },
     "execution_count": 85,
     "metadata": {},
     "output_type": "execute_result"
    }
   ],
   "source": [
    "len(word)"
   ]
  },
  {
   "cell_type": "code",
   "execution_count": 51,
   "id": "d497a5f0-e686-415d-94a6-494bc4b32d87",
   "metadata": {},
   "outputs": [
    {
     "data": {
      "text/plain": [
       "'Palmeiras'"
      ]
     },
     "execution_count": 51,
     "metadata": {},
     "output_type": "execute_result"
    }
   ],
   "source": [
    "word.replace(word[3],word[3].upper())\n",
    "word"
   ]
  },
  {
   "cell_type": "code",
   "execution_count": 53,
   "id": "022e783d-c97e-4404-9799-fea5657ff7b7",
   "metadata": {},
   "outputs": [
    {
     "data": {
      "text/plain": [
       "'PalMeiras'"
      ]
     },
     "execution_count": 53,
     "metadata": {},
     "output_type": "execute_result"
    }
   ],
   "source": [
    "word = word.replace(word[3],word[3].upper())\n",
    "word"
   ]
  },
  {
   "cell_type": "markdown",
   "id": "4c34c1ca-bb98-4d23-bc73-4a9e09495b2a",
   "metadata": {},
   "source": [
    "#### LAMBDA EXPRESSIONS, MAP AND FILTER"
   ]
  },
  {
   "cell_type": "code",
   "execution_count": 2,
   "id": "503048ec-6232-475f-9af9-d795adb755bd",
   "metadata": {},
   "outputs": [],
   "source": [
    "def square(num):\n",
    "    return num**2"
   ]
  },
  {
   "cell_type": "code",
   "execution_count": 4,
   "id": "5b9583d1-5aad-4603-84f7-a138d55539b7",
   "metadata": {},
   "outputs": [],
   "source": [
    "my_nums =[1,2,3,4,5]"
   ]
  },
  {
   "cell_type": "code",
   "execution_count": 6,
   "id": "690bfb28-84ef-4977-8d8e-b652c018e7b7",
   "metadata": {},
   "outputs": [
    {
     "data": {
      "text/plain": [
       "<map at 0x1a84437fa90>"
      ]
     },
     "execution_count": 6,
     "metadata": {},
     "output_type": "execute_result"
    }
   ],
   "source": [
    "map(square,my_nums)"
   ]
  },
  {
   "cell_type": "code",
   "execution_count": 8,
   "id": "d304351a-3c2d-44ba-860d-4c44152004cb",
   "metadata": {},
   "outputs": [
    {
     "name": "stdout",
     "output_type": "stream",
     "text": [
      "1\n",
      "4\n",
      "9\n",
      "16\n",
      "25\n"
     ]
    }
   ],
   "source": [
    "for item in map(square,my_nums):\n",
    "    print(item)"
   ]
  },
  {
   "cell_type": "code",
   "execution_count": 10,
   "id": "f5b7a0b7-3258-488a-bc99-e4549d49e4dd",
   "metadata": {},
   "outputs": [
    {
     "data": {
      "text/plain": [
       "[1, 4, 9, 16, 25]"
      ]
     },
     "execution_count": 10,
     "metadata": {},
     "output_type": "execute_result"
    }
   ],
   "source": [
    "list(map(square,my_nums))"
   ]
  },
  {
   "cell_type": "code",
   "execution_count": 12,
   "id": "49fcee69-9bcd-45bb-a809-f9cd2a9556f7",
   "metadata": {},
   "outputs": [],
   "source": [
    "def splicer(mystring):\n",
    "    if len(mystring)%2 == 0:\n",
    "        return \"EVEN\"\n",
    "    else:\n",
    "        return mystring[0]\n",
    "    "
   ]
  },
  {
   "cell_type": "code",
   "execution_count": 16,
   "id": "63876a3e-065f-4c58-82e6-eaabfed40a11",
   "metadata": {},
   "outputs": [],
   "source": [
    "names = [\"Gustavo\",\"Alice\",\"Luan\" ]"
   ]
  },
  {
   "cell_type": "code",
   "execution_count": 20,
   "id": "caaeff9f-a58b-4568-a5b8-8f1280985bce",
   "metadata": {},
   "outputs": [
    {
     "data": {
      "text/plain": [
       "['G', 'A', 'EVEN']"
      ]
     },
     "execution_count": 20,
     "metadata": {},
     "output_type": "execute_result"
    }
   ],
   "source": [
    "list(map(splicer,names)) # NAO EXECUTAR A FUNÇAO DENTRO DO MAP. ex: map(slicer(),names)"
   ]
  },
  {
   "cell_type": "code",
   "execution_count": 22,
   "id": "c7c3aefe-8bce-46a6-a9e0-f9788b4d2644",
   "metadata": {},
   "outputs": [],
   "source": [
    "def check_even(num):\n",
    "    return num%2 == 0"
   ]
  },
  {
   "cell_type": "code",
   "execution_count": 24,
   "id": "eff2a741-f944-4e8a-be7c-8e5f39f30485",
   "metadata": {},
   "outputs": [],
   "source": [
    "mynums = [1,2,3,4,5,6]"
   ]
  },
  {
   "cell_type": "code",
   "execution_count": 30,
   "id": "b0fbea17-9c22-4065-993c-4e0d39b10aae",
   "metadata": {},
   "outputs": [
    {
     "data": {
      "text/plain": [
       "<filter at 0x1a84477d9f0>"
      ]
     },
     "execution_count": 30,
     "metadata": {},
     "output_type": "execute_result"
    }
   ],
   "source": [
    "filter(check_even,mynums) #FILTER RETORNA OS ELEMENTOS DE UMA FUNÇAO, QUE RESULTARAM EM TRUE"
   ]
  },
  {
   "cell_type": "code",
   "execution_count": 28,
   "id": "fcff18b2-9ef8-4939-81c2-38ffaa77a426",
   "metadata": {},
   "outputs": [
    {
     "name": "stdout",
     "output_type": "stream",
     "text": [
      "2\n",
      "4\n",
      "6\n"
     ]
    }
   ],
   "source": [
    "for n in filter(check_even,mynums):\n",
    "    print(n)"
   ]
  },
  {
   "cell_type": "code",
   "execution_count": 32,
   "id": "ddfec8a6-389d-41c5-92a9-e42fb7646b72",
   "metadata": {},
   "outputs": [
    {
     "data": {
      "text/plain": [
       "[2, 4, 6]"
      ]
     },
     "execution_count": 32,
     "metadata": {},
     "output_type": "execute_result"
    }
   ],
   "source": [
    "list(filter(check_even,mynums))"
   ]
  },
  {
   "cell_type": "code",
   "execution_count": 43,
   "id": "992e18fc-6ea2-4bfa-a3c5-9edc684e5025",
   "metadata": {},
   "outputs": [],
   "source": [
    "def square(num):\n",
    "    result = num**2\n",
    "    return result\n",
    "\n",
    "def square(num):\n",
    "    return num**2\n",
    "\n",
    "def square(num): return num**2"
   ]
  },
  {
   "cell_type": "code",
   "execution_count": 45,
   "id": "8aa4f598-3b89-4b52-8a11-3876e8dcb903",
   "metadata": {},
   "outputs": [
    {
     "data": {
      "text/plain": [
       "<function __main__.<lambda>(num)>"
      ]
     },
     "execution_count": 45,
     "metadata": {},
     "output_type": "execute_result"
    }
   ],
   "source": [
    "lambda num: num ** 2"
   ]
  },
  {
   "cell_type": "code",
   "execution_count": 47,
   "id": "bd149443-d2fd-4379-881c-70766fd0d5e5",
   "metadata": {},
   "outputs": [
    {
     "data": {
      "text/plain": [
       "[1, 4, 9, 16, 25]"
      ]
     },
     "execution_count": 47,
     "metadata": {},
     "output_type": "execute_result"
    }
   ],
   "source": [
    "list(map(lambda num: num**2,my_n ums))"
   ]
  },
  {
   "cell_type": "code",
   "execution_count": 51,
   "id": "1e6ec682-013d-4284-8d85-8a44416b8024",
   "metadata": {},
   "outputs": [
    {
     "data": {
      "text/plain": [
       "[2, 4, 6]"
      ]
     },
     "execution_count": 51,
     "metadata": {},
     "output_type": "execute_result"
    }
   ],
   "source": [
    "list(filter(lambda num: num%2 == 0,mynums))\n",
    "\n"
   ]
  },
  {
   "cell_type": "code",
   "execution_count": 55,
   "id": "3ff245f5-55d1-43e3-829f-9eaefbdd4007",
   "metadata": {},
   "outputs": [
    {
     "data": {
      "text/plain": [
       "['G', 'A', 'L']"
      ]
     },
     "execution_count": 55,
     "metadata": {},
     "output_type": "execute_result"
    }
   ],
   "source": [
    "list(map(lambda name: name[0],names))"
   ]
  },
  {
   "cell_type": "code",
   "execution_count": 57,
   "id": "1b8fbb8a-f9ff-4725-ba12-945490649995",
   "metadata": {},
   "outputs": [
    {
     "data": {
      "text/plain": [
       "['ovatsuG', 'ecilA', 'nauL']"
      ]
     },
     "execution_count": 57,
     "metadata": {},
     "output_type": "execute_result"
    }
   ],
   "source": [
    "list(map(lambda name: name[::-1],names))"
   ]
  },
  {
   "cell_type": "markdown",
   "id": "21776901-5954-4706-845e-040874343c24",
   "metadata": {},
   "source": [
    "##### USAR LAMBDAS EM FUNÇOES MAIS FACEIS DE SE LER E QUE SERAO USADAS APENAS UMA VEZ\n",
    "##### SE FICAR NA DUVIDA, USE FUNÇOES NORMALMENTE"
   ]
  },
  {
   "cell_type": "markdown",
   "id": "46f6cd4b-c103-4e7a-b99c-12ab351d7ac8",
   "metadata": {},
   "source": [
    "#### 56 - NESTED STATEMENTS AND SCOPES"
   ]
  },
  {
   "cell_type": "code",
   "execution_count": null,
   "id": "55c2d6fc-1378-4b8a-8a5a-dd4cae1d9de5",
   "metadata": {},
   "outputs": [],
   "source": []
  }
 ],
 "metadata": {
  "kernelspec": {
   "display_name": "Python 3 (ipykernel)",
   "language": "python",
   "name": "python3"
  },
  "language_info": {
   "codemirror_mode": {
    "name": "ipython",
    "version": 3
   },
   "file_extension": ".py",
   "mimetype": "text/x-python",
   "name": "python",
   "nbconvert_exporter": "python",
   "pygments_lexer": "ipython3",
   "version": "3.12.4"
  }
 },
 "nbformat": 4,
 "nbformat_minor": 5
}
