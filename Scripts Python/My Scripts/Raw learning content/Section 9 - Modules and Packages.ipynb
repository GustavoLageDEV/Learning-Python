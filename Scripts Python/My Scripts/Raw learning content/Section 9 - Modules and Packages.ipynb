{
 "cells": [
  {
   "cell_type": "markdown",
   "id": "5edfbaef-7d10-4020-9dce-49347ff00ca4",
   "metadata": {},
   "source": [
    "#### 77. Pip Install and PyPi"
   ]
  },
  {
   "cell_type": "markdown",
   "id": "2558621d-d890-4dd7-8ae8-504cc3f987ca",
   "metadata": {},
   "source": [
    "##### Vai no CMD e digite o comando : pip install (package_name)"
   ]
  },
  {
   "cell_type": "markdown",
   "id": "03e52ab8-815a-43e9-8b09-705c0c5c8006",
   "metadata": {},
   "source": [
    "#### 78. Modules and Packages"
   ]
  },
  {
   "cell_type": "markdown",
   "id": "e92e16c1-7828-40ba-9e17-b1ab3cb097d1",
   "metadata": {},
   "source": [
    "MODULES são apenas outro .py script que vc chama dentro de outro .py script"
   ]
  },
  {
   "cell_type": "markdown",
   "id": "1c691b41-7f84-487f-9ad0-3d3a60e1d203",
   "metadata": {},
   "source": [
    "PACKAGES são coleçoes de MODULES"
   ]
  },
  {
   "cell_type": "markdown",
   "id": "a4b9f2aa-d876-4302-8b5e-8d6677da9418",
   "metadata": {},
   "source": [
    "Criaram-se alguns SCRIPTS e PACKAGES na area de trabalho por meio do Sublime Text"
   ]
  },
  {
   "cell_type": "markdown",
   "id": "4294122f-c6af-4cce-bd96-84f8329188bf",
   "metadata": {},
   "source": [
    "#### 79. __ __name__ __ and \"__ __main__ __\""
   ]
  },
  {
   "cell_type": "markdown",
   "id": "d5f5a92a-c657-46a5-ad33-a0ed5c41486e",
   "metadata": {},
   "source": [
    "Se usa __ name __ = __ main __ para verificar se o SCRIPT esta sendo excutado diretamente ou se esta sendo importado de outro SCRIPT."
   ]
  },
  {
   "cell_type": "markdown",
   "id": "cfc704f2-5b80-4f4d-bd0d-745df3315f5a",
   "metadata": {},
   "source": [
    "Comumente usado para organizar o CÓDIGO."
   ]
  },
  {
   "cell_type": "code",
   "execution_count": 1,
   "id": "f220bd80-28a7-42d6-b003-347585abc973",
   "metadata": {},
   "outputs": [],
   "source": [
    "#EXEMPLO:\n",
    "#FUNÇOES/CLASSES/MODULOS/PACKAGES\n",
    "def fuction1():\n",
    "\n",
    "    pass\n",
    "\n",
    "def fuction2():\n",
    "\n",
    "    pass\n",
    "\n",
    "def fuction3():\n",
    "\n",
    "    pass\n",
    "\n",
    "if __name__ == \"__main__\":\n",
    "#EXECUÇAO CÓDIGO\n",
    "    fuction1()\n",
    "    fuction2()\n",
    "    fuction3()"
   ]
  }
 ],
 "metadata": {
  "kernelspec": {
   "display_name": "Python 3 (ipykernel)",
   "language": "python",
   "name": "python3"
  },
  "language_info": {
   "codemirror_mode": {
    "name": "ipython",
    "version": 3
   },
   "file_extension": ".py",
   "mimetype": "text/x-python",
   "name": "python",
   "nbconvert_exporter": "python",
   "pygments_lexer": "ipython3",
   "version": "3.11.7"
  }
 },
 "nbformat": 4,
 "nbformat_minor": 5
}
