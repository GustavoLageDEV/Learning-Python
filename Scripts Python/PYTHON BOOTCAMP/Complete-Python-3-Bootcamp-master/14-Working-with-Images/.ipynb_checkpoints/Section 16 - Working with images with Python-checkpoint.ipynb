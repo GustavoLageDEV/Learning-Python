{
 "cells": [
  {
   "cell_type": "markdown",
   "id": "db1f9144-096c-4d4d-9f64-4d0669fceef2",
   "metadata": {},
   "source": [
    "#### pip intall pillow (cmd)"
   ]
  },
  {
   "cell_type": "code",
   "execution_count": null,
   "id": "27ec6c7c-e001-4a95-8d02-ce31dfda6f04",
   "metadata": {},
   "outputs": [],
   "source": []
  }
 ],
 "metadata": {
  "kernelspec": {
   "display_name": "Python 3 (ipykernel)",
   "language": "python",
   "name": "python3"
  },
  "language_info": {
   "codemirror_mode": {
    "name": "ipython",
    "version": 3
   },
   "file_extension": ".py",
   "mimetype": "text/x-python",
   "name": "python",
   "nbconvert_exporter": "python",
   "pygments_lexer": "ipython3",
   "version": "3.12.4"
  }
 },
 "nbformat": 4,
 "nbformat_minor": 5
}
