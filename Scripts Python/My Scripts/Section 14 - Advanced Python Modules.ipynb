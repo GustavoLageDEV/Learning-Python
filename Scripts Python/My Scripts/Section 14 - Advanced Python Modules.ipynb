{
 "cells": [
  {
   "cell_type": "markdown",
   "id": "82256bdb-398c-42a7-8c64-fdb3a0859cc4",
   "metadata": {},
   "source": [
    "### MODULES COVERED\n",
    "\n",
    "    COLLECTIONS\n",
    "    OS MODULES AND DATETIME\n",
    "    MATH AND RANDOM\n",
    "    PYTHON DEBUGGER\n",
    "    TIMEIT\n",
    "    REGULAR EXPRESSIONS\n",
    "    UNZIPPING AND ZIPPING MODULES"
   ]
  },
  {
   "cell_type": "markdown",
   "id": "f05f86ac-a371-4652-8854-7a24d0de634d",
   "metadata": {},
   "source": [
    "##### 104 -  COLLECTIONS MODULE"
   ]
  },
  {
   "cell_type": "code",
   "execution_count": 1,
   "id": "3f5b8007-eb10-4fe2-974d-d8fce19d3ddd",
   "metadata": {},
   "outputs": [],
   "source": [
    "from collections import Counter"
   ]
  },
  {
   "cell_type": "code",
   "execution_count": 2,
   "id": "55b71443-0797-402c-b102-262c8fd8dd7b",
   "metadata": {},
   "outputs": [],
   "source": [
    "mylist = [1,1,1,2,5,5,5,8,7,7,6,6,6,3,5,4,2,1,0]"
   ]
  },
  {
   "cell_type": "code",
   "execution_count": 3,
   "id": "f0e6ca08-fd7f-4269-b09a-752a816d63f5",
   "metadata": {},
   "outputs": [],
   "source": [
    "c = Counter(mylist)"
   ]
  },
  {
   "cell_type": "code",
   "execution_count": 4,
   "id": "2e8a33b9-e6bd-4fa5-a6af-3870ed2dd103",
   "metadata": {},
   "outputs": [
    {
     "data": {
      "text/plain": [
       "Counter({1: 4, 5: 4, 6: 3, 2: 2, 7: 2, 8: 1, 3: 1, 4: 1, 0: 1})"
      ]
     },
     "execution_count": 4,
     "metadata": {},
     "output_type": "execute_result"
    }
   ],
   "source": [
    "c"
   ]
  },
  {
   "cell_type": "code",
   "execution_count": 5,
   "id": "7e2e978e-f7db-4961-9641-69f0f190e04e",
   "metadata": {},
   "outputs": [
    {
     "data": {
      "text/plain": [
       "[(1, 4), (5, 4), (6, 3), (2, 2), (7, 2), (8, 1), (3, 1), (4, 1), (0, 1)]"
      ]
     },
     "execution_count": 5,
     "metadata": {},
     "output_type": "execute_result"
    }
   ],
   "source": [
    "c.most_common()"
   ]
  },
  {
   "cell_type": "code",
   "execution_count": 6,
   "id": "690a2eb6-4658-4ca2-8d0f-584d4fbb5290",
   "metadata": {},
   "outputs": [
    {
     "data": {
      "text/plain": [
       "[(1, 4), (5, 4)]"
      ]
     },
     "execution_count": 6,
     "metadata": {},
     "output_type": "execute_result"
    }
   ],
   "source": [
    "c.most_common(2)"
   ]
  },
  {
   "cell_type": "code",
   "execution_count": 7,
   "id": "ba1f05ce-5fd1-460d-98be-03416ca50026",
   "metadata": {},
   "outputs": [],
   "source": [
    "from collections import defaultdict"
   ]
  },
  {
   "cell_type": "code",
   "execution_count": 8,
   "id": "14323217-19cc-45ce-87e9-dfdf010607e3",
   "metadata": {},
   "outputs": [],
   "source": [
    "d = {\"a\":10}"
   ]
  },
  {
   "cell_type": "code",
   "execution_count": 9,
   "id": "42beb6e0-cd23-4e94-a8de-6ac94f13980c",
   "metadata": {},
   "outputs": [
    {
     "data": {
      "text/plain": [
       "10"
      ]
     },
     "execution_count": 9,
     "metadata": {},
     "output_type": "execute_result"
    }
   ],
   "source": [
    "d[\"a\"]"
   ]
  },
  {
   "cell_type": "code",
   "execution_count": 10,
   "id": "1d4d8dfc-8e43-4c7d-83a8-8dd1d922b1d5",
   "metadata": {},
   "outputs": [
    {
     "ename": "KeyError",
     "evalue": "'wrong'",
     "output_type": "error",
     "traceback": [
      "\u001b[1;31m---------------------------------------------------------------------------\u001b[0m",
      "\u001b[1;31mKeyError\u001b[0m                                  Traceback (most recent call last)",
      "Cell \u001b[1;32mIn[10], line 1\u001b[0m\n\u001b[1;32m----> 1\u001b[0m d[\u001b[38;5;124m\"\u001b[39m\u001b[38;5;124mwrong\u001b[39m\u001b[38;5;124m\"\u001b[39m]\n",
      "\u001b[1;31mKeyError\u001b[0m: 'wrong'"
     ]
    }
   ],
   "source": [
    "d[\"wrong\"]"
   ]
  },
  {
   "cell_type": "code",
   "execution_count": 11,
   "id": "fed81ef2-da86-414c-80ca-3c846d821669",
   "metadata": {},
   "outputs": [],
   "source": [
    "d = defaultdict(lambda: 0)"
   ]
  },
  {
   "cell_type": "code",
   "execution_count": 12,
   "id": "3baa9cdd-97a2-4b2f-8748-41611490e5ab",
   "metadata": {},
   "outputs": [],
   "source": [
    "d[\"b\"] = 100"
   ]
  },
  {
   "cell_type": "code",
   "execution_count": 13,
   "id": "c848d9ca-5bb2-40ac-b71a-28d896c53971",
   "metadata": {},
   "outputs": [
    {
     "data": {
      "text/plain": [
       "defaultdict(<function __main__.<lambda>()>, {'b': 100})"
      ]
     },
     "execution_count": 13,
     "metadata": {},
     "output_type": "execute_result"
    }
   ],
   "source": [
    "d"
   ]
  },
  {
   "cell_type": "code",
   "execution_count": 14,
   "id": "027ad4cb-87b0-41c1-8f3d-885c422595d3",
   "metadata": {},
   "outputs": [],
   "source": [
    "d['a'] = 10"
   ]
  },
  {
   "cell_type": "code",
   "execution_count": 15,
   "id": "2bcf3557-175b-455f-a826-43f9bbaa4751",
   "metadata": {},
   "outputs": [
    {
     "data": {
      "text/plain": [
       "defaultdict(<function __main__.<lambda>()>, {'b': 100, 'a': 10})"
      ]
     },
     "execution_count": 15,
     "metadata": {},
     "output_type": "execute_result"
    }
   ],
   "source": [
    "d"
   ]
  },
  {
   "cell_type": "code",
   "execution_count": 16,
   "id": "63e6256a-8ef7-4d07-ba56-89ebdd2f2784",
   "metadata": {},
   "outputs": [
    {
     "data": {
      "text/plain": [
       "10"
      ]
     },
     "execution_count": 16,
     "metadata": {},
     "output_type": "execute_result"
    }
   ],
   "source": [
    "d[\"a\"]"
   ]
  },
  {
   "cell_type": "code",
   "execution_count": 17,
   "id": "8b97986e-d4a0-430e-82b9-c39be4076b57",
   "metadata": {},
   "outputs": [
    {
     "data": {
      "text/plain": [
       "0"
      ]
     },
     "execution_count": 17,
     "metadata": {},
     "output_type": "execute_result"
    }
   ],
   "source": [
    "d[\"ss\"]"
   ]
  },
  {
   "cell_type": "code",
   "execution_count": 18,
   "id": "7607ead0-41af-4fa2-994d-c646e93dc61c",
   "metadata": {},
   "outputs": [
    {
     "data": {
      "text/plain": [
       "defaultdict(<function __main__.<lambda>()>, {'b': 100, 'a': 10, 'ss': 0})"
      ]
     },
     "execution_count": 18,
     "metadata": {},
     "output_type": "execute_result"
    }
   ],
   "source": [
    "d"
   ]
  },
  {
   "cell_type": "code",
   "execution_count": 19,
   "id": "103d529c-5114-47f9-95b4-f9bee3f301ba",
   "metadata": {},
   "outputs": [],
   "source": [
    "mytuple = (10,20,30,40,50)"
   ]
  },
  {
   "cell_type": "code",
   "execution_count": 20,
   "id": "16e8331c-6cd1-448c-95ac-1ffc55654d99",
   "metadata": {},
   "outputs": [],
   "source": [
    "from collections import namedtuple"
   ]
  },
  {
   "cell_type": "code",
   "execution_count": 21,
   "id": "c66cb98d-bd41-44ce-885b-b9d9ec11ac24",
   "metadata": {},
   "outputs": [],
   "source": [
    "Dog = namedtuple(\"Dog\",[\"age\",\"breed\",\"name\"])"
   ]
  },
  {
   "cell_type": "code",
   "execution_count": 22,
   "id": "342fa32e-aa04-4e48-8b12-5c707770085e",
   "metadata": {},
   "outputs": [],
   "source": [
    "bart = Dog(age=\"11\",breed=\"Border\", name= \"Bartolomeu\")"
   ]
  },
  {
   "cell_type": "code",
   "execution_count": 23,
   "id": "6752db81-e710-496c-9220-849e84f5d48b",
   "metadata": {},
   "outputs": [
    {
     "data": {
      "text/plain": [
       "Dog(age='11', breed='Border', name='Bartolomeu')"
      ]
     },
     "execution_count": 23,
     "metadata": {},
     "output_type": "execute_result"
    }
   ],
   "source": [
    "bart"
   ]
  },
  {
   "cell_type": "code",
   "execution_count": 24,
   "id": "85900300-2a2a-484f-bc95-7307642b562e",
   "metadata": {},
   "outputs": [
    {
     "data": {
      "text/plain": [
       "'11'"
      ]
     },
     "execution_count": 24,
     "metadata": {},
     "output_type": "execute_result"
    }
   ],
   "source": [
    "bart.age"
   ]
  },
  {
   "cell_type": "code",
   "execution_count": 25,
   "id": "a42ea6dd-1bdf-4efa-b9b8-7ccdf119b5b9",
   "metadata": {},
   "outputs": [
    {
     "data": {
      "text/plain": [
       "'Border'"
      ]
     },
     "execution_count": 25,
     "metadata": {},
     "output_type": "execute_result"
    }
   ],
   "source": [
    "bart.breed"
   ]
  },
  {
   "cell_type": "code",
   "execution_count": 26,
   "id": "39d356d9-6791-4631-a43c-599781c1c239",
   "metadata": {},
   "outputs": [
    {
     "data": {
      "text/plain": [
       "'Bartolomeu'"
      ]
     },
     "execution_count": 26,
     "metadata": {},
     "output_type": "execute_result"
    }
   ],
   "source": [
    "bart.name"
   ]
  },
  {
   "cell_type": "markdown",
   "id": "f6f9fdec-ab33-4d20-800e-63ba38d5c59c",
   "metadata": {},
   "source": [
    "##### 105. Opening and Reading Files and Folders (Python OS Module)\n",
    "\n",
    "GO TO 12 - ADVANCED PYTHON MODULES FOLDER"
   ]
  },
  {
   "cell_type": "markdown",
   "id": "985c9f95-a869-4778-a6e7-205bfa0ae5b5",
   "metadata": {},
   "source": [
    "##### 106. Python Datetime Module"
   ]
  },
  {
   "cell_type": "code",
   "execution_count": 27,
   "id": "4f45f468-7dbf-44c9-aec4-cdf6889b166b",
   "metadata": {},
   "outputs": [],
   "source": [
    "import datetime"
   ]
  },
  {
   "cell_type": "code",
   "execution_count": 28,
   "id": "71bd20f9-82e3-499b-90cb-9595d8990942",
   "metadata": {},
   "outputs": [],
   "source": [
    "mytime = datetime.time(2,20)"
   ]
  },
  {
   "cell_type": "code",
   "execution_count": 29,
   "id": "e477e25c-1a2c-4147-9a31-81a22c51edae",
   "metadata": {},
   "outputs": [
    {
     "data": {
      "text/plain": [
       "20"
      ]
     },
     "execution_count": 29,
     "metadata": {},
     "output_type": "execute_result"
    }
   ],
   "source": [
    "mytime.minute"
   ]
  },
  {
   "cell_type": "code",
   "execution_count": 30,
   "id": "c737cfcd-6e8e-4df4-a5db-bb1ccac3f631",
   "metadata": {},
   "outputs": [
    {
     "data": {
      "text/plain": [
       "2"
      ]
     },
     "execution_count": 30,
     "metadata": {},
     "output_type": "execute_result"
    }
   ],
   "source": [
    "mytime.hour"
   ]
  },
  {
   "cell_type": "code",
   "execution_count": 31,
   "id": "1c09905c-5c7a-4b31-967a-7b901a8e11a7",
   "metadata": {},
   "outputs": [
    {
     "name": "stdout",
     "output_type": "stream",
     "text": [
      "02:20:00\n"
     ]
    }
   ],
   "source": [
    "print(mytime)"
   ]
  },
  {
   "cell_type": "code",
   "execution_count": 32,
   "id": "a55798aa-7cc7-44c1-8fbb-4fe71a8a92c6",
   "metadata": {},
   "outputs": [
    {
     "data": {
      "text/plain": [
       "datetime.time"
      ]
     },
     "execution_count": 32,
     "metadata": {},
     "output_type": "execute_result"
    }
   ],
   "source": [
    "type(mytime)"
   ]
  },
  {
   "cell_type": "code",
   "execution_count": 33,
   "id": "ad5daf7e-4083-4a91-83e9-22f14cd57fb4",
   "metadata": {},
   "outputs": [],
   "source": [
    "today = datetime.date.today()"
   ]
  },
  {
   "cell_type": "code",
   "execution_count": 34,
   "id": "8d4439b8-d078-4c50-9b32-8cd2330899ec",
   "metadata": {},
   "outputs": [
    {
     "name": "stdout",
     "output_type": "stream",
     "text": [
      "2024-07-17\n"
     ]
    }
   ],
   "source": [
    "print(today)"
   ]
  },
  {
   "cell_type": "code",
   "execution_count": 35,
   "id": "68c1ecda-f7d8-407c-b6d1-1d578e1e3918",
   "metadata": {},
   "outputs": [
    {
     "data": {
      "text/plain": [
       "2024"
      ]
     },
     "execution_count": 35,
     "metadata": {},
     "output_type": "execute_result"
    }
   ],
   "source": [
    "today.year"
   ]
  },
  {
   "cell_type": "code",
   "execution_count": 36,
   "id": "1bf3d948-e2a4-486c-b2d2-7550fb1fd729",
   "metadata": {},
   "outputs": [
    {
     "data": {
      "text/plain": [
       "7"
      ]
     },
     "execution_count": 36,
     "metadata": {},
     "output_type": "execute_result"
    }
   ],
   "source": [
    "today.month"
   ]
  },
  {
   "cell_type": "code",
   "execution_count": 37,
   "id": "c3934a6b-b884-43c7-9b0d-721972cb1c4a",
   "metadata": {},
   "outputs": [
    {
     "data": {
      "text/plain": [
       "17"
      ]
     },
     "execution_count": 37,
     "metadata": {},
     "output_type": "execute_result"
    }
   ],
   "source": [
    "today.day"
   ]
  },
  {
   "cell_type": "code",
   "execution_count": 38,
   "id": "7e4da0ee-8466-4730-a21c-244a4dcf07a5",
   "metadata": {},
   "outputs": [
    {
     "data": {
      "text/plain": [
       "'Wed Jul 17 00:00:00 2024'"
      ]
     },
     "execution_count": 38,
     "metadata": {},
     "output_type": "execute_result"
    }
   ],
   "source": [
    "today.ctime()"
   ]
  },
  {
   "cell_type": "code",
   "execution_count": 39,
   "id": "6db854ca-01e9-4dc4-a00b-b05a16abbc71",
   "metadata": {},
   "outputs": [],
   "source": [
    "from datetime import datetime"
   ]
  },
  {
   "cell_type": "code",
   "execution_count": 40,
   "id": "c39ab0d2-a05d-4dc0-9b26-5d693e925981",
   "metadata": {},
   "outputs": [],
   "source": [
    "mydatetime = datetime(2024,8,8,14,25,12)"
   ]
  },
  {
   "cell_type": "code",
   "execution_count": 41,
   "id": "8f73126b-bdb1-4d52-9e87-add8fa395b62",
   "metadata": {},
   "outputs": [
    {
     "name": "stdout",
     "output_type": "stream",
     "text": [
      "2024-08-08 14:25:12\n"
     ]
    }
   ],
   "source": [
    "print(mydatetime)"
   ]
  },
  {
   "cell_type": "code",
   "execution_count": 42,
   "id": "9737b174-0215-4287-96df-595df62a9a20",
   "metadata": {},
   "outputs": [],
   "source": [
    "mydatetime = mydatetime.replace(year=2023)"
   ]
  },
  {
   "cell_type": "code",
   "execution_count": 43,
   "id": "ffd5326d-149c-4cd9-93ec-f0fdf039bc36",
   "metadata": {},
   "outputs": [
    {
     "name": "stdout",
     "output_type": "stream",
     "text": [
      "2023-08-08 14:25:12\n"
     ]
    }
   ],
   "source": [
    "print(mydatetime)"
   ]
  },
  {
   "cell_type": "code",
   "execution_count": 44,
   "id": "c370805e-0782-4f08-9bc6-c6503e22cb53",
   "metadata": {},
   "outputs": [],
   "source": [
    "from datetime import date"
   ]
  },
  {
   "cell_type": "code",
   "execution_count": 45,
   "id": "4c552b17-5fc6-4618-8a5b-07e3ccf6c1d2",
   "metadata": {},
   "outputs": [],
   "source": [
    "date1 = date(2022,10,10)\n",
    "date2 = date(2023,10,10)"
   ]
  },
  {
   "cell_type": "code",
   "execution_count": 46,
   "id": "3347bc72-f5ed-48cf-ab15-1578083684b8",
   "metadata": {},
   "outputs": [],
   "source": [
    "result = date1 - date2"
   ]
  },
  {
   "cell_type": "code",
   "execution_count": 47,
   "id": "4c427a28-6fa4-46b8-9659-baa342a7569f",
   "metadata": {},
   "outputs": [
    {
     "data": {
      "text/plain": [
       "datetime.timedelta"
      ]
     },
     "execution_count": 47,
     "metadata": {},
     "output_type": "execute_result"
    }
   ],
   "source": [
    "type(result)"
   ]
  },
  {
   "cell_type": "code",
   "execution_count": 48,
   "id": "2b89c9c0-6844-449e-9637-0340fefa640b",
   "metadata": {},
   "outputs": [
    {
     "data": {
      "text/plain": [
       "-365"
      ]
     },
     "execution_count": 48,
     "metadata": {},
     "output_type": "execute_result"
    }
   ],
   "source": [
    "result.days"
   ]
  },
  {
   "cell_type": "code",
   "execution_count": 49,
   "id": "998a28e5-fb18-4681-834d-894b7ca8f3b8",
   "metadata": {},
   "outputs": [],
   "source": [
    "datetime1 = datetime(2022,10,10,22,30)\n",
    "datetime2 = datetime(2023,10,10,10,0)"
   ]
  },
  {
   "cell_type": "code",
   "execution_count": 50,
   "id": "3eeb4ffa-d8ea-4dc4-b13e-9f4d6edfbdb3",
   "metadata": {},
   "outputs": [],
   "source": [
    "result = datetime1 - datetime2"
   ]
  },
  {
   "cell_type": "code",
   "execution_count": 51,
   "id": "ec1373f3-d1f5-48b9-92cc-ae41a3f78e39",
   "metadata": {},
   "outputs": [
    {
     "data": {
      "text/plain": [
       "datetime.timedelta(days=-365, seconds=45000)"
      ]
     },
     "execution_count": 51,
     "metadata": {},
     "output_type": "execute_result"
    }
   ],
   "source": [
    "result"
   ]
  },
  {
   "cell_type": "code",
   "execution_count": 52,
   "id": "dee9e6b6-116e-4dc3-88ce-61d432306318",
   "metadata": {},
   "outputs": [
    {
     "data": {
      "text/plain": [
       "45000"
      ]
     },
     "execution_count": 52,
     "metadata": {},
     "output_type": "execute_result"
    }
   ],
   "source": [
    "result.seconds"
   ]
  },
  {
   "cell_type": "code",
   "execution_count": 53,
   "id": "5af0f840-b7cd-49d1-ae8b-41d28c6ecef7",
   "metadata": {},
   "outputs": [
    {
     "data": {
      "text/plain": [
       "-31491000.0"
      ]
     },
     "execution_count": 53,
     "metadata": {},
     "output_type": "execute_result"
    }
   ],
   "source": [
    "result.total_seconds()"
   ]
  },
  {
   "cell_type": "markdown",
   "id": "d09b00e6-894a-4f02-976b-c7324204b974",
   "metadata": {},
   "source": [
    "#### 107. Python Math and Random Modules\r\n"
   ]
  },
  {
   "cell_type": "code",
   "execution_count": 54,
   "id": "f8420133-7901-4485-a548-3c28bd625b29",
   "metadata": {},
   "outputs": [],
   "source": [
    "import math"
   ]
  },
  {
   "cell_type": "code",
   "execution_count": 55,
   "id": "02a5d3ae-1fb1-4060-883f-42b4c8f499f5",
   "metadata": {},
   "outputs": [
    {
     "name": "stdout",
     "output_type": "stream",
     "text": [
      "Help on built-in module math:\n",
      "\n",
      "NAME\n",
      "    math\n",
      "\n",
      "DESCRIPTION\n",
      "    This module provides access to the mathematical functions\n",
      "    defined by the C standard.\n",
      "\n",
      "FUNCTIONS\n",
      "    acos(x, /)\n",
      "        Return the arc cosine (measured in radians) of x.\n",
      "\n",
      "        The result is between 0 and pi.\n",
      "\n",
      "    acosh(x, /)\n",
      "        Return the inverse hyperbolic cosine of x.\n",
      "\n",
      "    asin(x, /)\n",
      "        Return the arc sine (measured in radians) of x.\n",
      "\n",
      "        The result is between -pi/2 and pi/2.\n",
      "\n",
      "    asinh(x, /)\n",
      "        Return the inverse hyperbolic sine of x.\n",
      "\n",
      "    atan(x, /)\n",
      "        Return the arc tangent (measured in radians) of x.\n",
      "\n",
      "        The result is between -pi/2 and pi/2.\n",
      "\n",
      "    atan2(y, x, /)\n",
      "        Return the arc tangent (measured in radians) of y/x.\n",
      "\n",
      "        Unlike atan(y/x), the signs of both x and y are considered.\n",
      "\n",
      "    atanh(x, /)\n",
      "        Return the inverse hyperbolic tangent of x.\n",
      "\n",
      "    cbrt(x, /)\n",
      "        Return the cube root of x.\n",
      "\n",
      "    ceil(x, /)\n",
      "        Return the ceiling of x as an Integral.\n",
      "\n",
      "        This is the smallest integer >= x.\n",
      "\n",
      "    comb(n, k, /)\n",
      "        Number of ways to choose k items from n items without repetition and without order.\n",
      "\n",
      "        Evaluates to n! / (k! * (n - k)!) when k <= n and evaluates\n",
      "        to zero when k > n.\n",
      "\n",
      "        Also called the binomial coefficient because it is equivalent\n",
      "        to the coefficient of k-th term in polynomial expansion of the\n",
      "        expression (1 + x)**n.\n",
      "\n",
      "        Raises TypeError if either of the arguments are not integers.\n",
      "        Raises ValueError if either of the arguments are negative.\n",
      "\n",
      "    copysign(x, y, /)\n",
      "        Return a float with the magnitude (absolute value) of x but the sign of y.\n",
      "\n",
      "        On platforms that support signed zeros, copysign(1.0, -0.0)\n",
      "        returns -1.0.\n",
      "\n",
      "    cos(x, /)\n",
      "        Return the cosine of x (measured in radians).\n",
      "\n",
      "    cosh(x, /)\n",
      "        Return the hyperbolic cosine of x.\n",
      "\n",
      "    degrees(x, /)\n",
      "        Convert angle x from radians to degrees.\n",
      "\n",
      "    dist(p, q, /)\n",
      "        Return the Euclidean distance between two points p and q.\n",
      "\n",
      "        The points should be specified as sequences (or iterables) of\n",
      "        coordinates.  Both inputs must have the same dimension.\n",
      "\n",
      "        Roughly equivalent to:\n",
      "            sqrt(sum((px - qx) ** 2.0 for px, qx in zip(p, q)))\n",
      "\n",
      "    erf(x, /)\n",
      "        Error function at x.\n",
      "\n",
      "    erfc(x, /)\n",
      "        Complementary error function at x.\n",
      "\n",
      "    exp(x, /)\n",
      "        Return e raised to the power of x.\n",
      "\n",
      "    exp2(x, /)\n",
      "        Return 2 raised to the power of x.\n",
      "\n",
      "    expm1(x, /)\n",
      "        Return exp(x)-1.\n",
      "\n",
      "        This function avoids the loss of precision involved in the direct evaluation of exp(x)-1 for small x.\n",
      "\n",
      "    fabs(x, /)\n",
      "        Return the absolute value of the float x.\n",
      "\n",
      "    factorial(n, /)\n",
      "        Find n!.\n",
      "\n",
      "        Raise a ValueError if x is negative or non-integral.\n",
      "\n",
      "    floor(x, /)\n",
      "        Return the floor of x as an Integral.\n",
      "\n",
      "        This is the largest integer <= x.\n",
      "\n",
      "    fmod(x, y, /)\n",
      "        Return fmod(x, y), according to platform C.\n",
      "\n",
      "        x % y may differ.\n",
      "\n",
      "    frexp(x, /)\n",
      "        Return the mantissa and exponent of x, as pair (m, e).\n",
      "\n",
      "        m is a float and e is an int, such that x = m * 2.**e.\n",
      "        If x is 0, m and e are both 0.  Else 0.5 <= abs(m) < 1.0.\n",
      "\n",
      "    fsum(seq, /)\n",
      "        Return an accurate floating point sum of values in the iterable seq.\n",
      "\n",
      "        Assumes IEEE-754 floating point arithmetic.\n",
      "\n",
      "    gamma(x, /)\n",
      "        Gamma function at x.\n",
      "\n",
      "    gcd(*integers)\n",
      "        Greatest Common Divisor.\n",
      "\n",
      "    hypot(...)\n",
      "        hypot(*coordinates) -> value\n",
      "\n",
      "        Multidimensional Euclidean distance from the origin to a point.\n",
      "\n",
      "        Roughly equivalent to:\n",
      "            sqrt(sum(x**2 for x in coordinates))\n",
      "\n",
      "        For a two dimensional point (x, y), gives the hypotenuse\n",
      "        using the Pythagorean theorem:  sqrt(x*x + y*y).\n",
      "\n",
      "        For example, the hypotenuse of a 3/4/5 right triangle is:\n",
      "\n",
      "            >>> hypot(3.0, 4.0)\n",
      "            5.0\n",
      "\n",
      "    isclose(a, b, *, rel_tol=1e-09, abs_tol=0.0)\n",
      "        Determine whether two floating point numbers are close in value.\n",
      "\n",
      "          rel_tol\n",
      "            maximum difference for being considered \"close\", relative to the\n",
      "            magnitude of the input values\n",
      "          abs_tol\n",
      "            maximum difference for being considered \"close\", regardless of the\n",
      "            magnitude of the input values\n",
      "\n",
      "        Return True if a is close in value to b, and False otherwise.\n",
      "\n",
      "        For the values to be considered close, the difference between them\n",
      "        must be smaller than at least one of the tolerances.\n",
      "\n",
      "        -inf, inf and NaN behave similarly to the IEEE 754 Standard.  That\n",
      "        is, NaN is not close to anything, even itself.  inf and -inf are\n",
      "        only close to themselves.\n",
      "\n",
      "    isfinite(x, /)\n",
      "        Return True if x is neither an infinity nor a NaN, and False otherwise.\n",
      "\n",
      "    isinf(x, /)\n",
      "        Return True if x is a positive or negative infinity, and False otherwise.\n",
      "\n",
      "    isnan(x, /)\n",
      "        Return True if x is a NaN (not a number), and False otherwise.\n",
      "\n",
      "    isqrt(n, /)\n",
      "        Return the integer part of the square root of the input.\n",
      "\n",
      "    lcm(*integers)\n",
      "        Least Common Multiple.\n",
      "\n",
      "    ldexp(x, i, /)\n",
      "        Return x * (2**i).\n",
      "\n",
      "        This is essentially the inverse of frexp().\n",
      "\n",
      "    lgamma(x, /)\n",
      "        Natural logarithm of absolute value of Gamma function at x.\n",
      "\n",
      "    log(...)\n",
      "        log(x, [base=math.e])\n",
      "        Return the logarithm of x to the given base.\n",
      "\n",
      "        If the base is not specified, returns the natural logarithm (base e) of x.\n",
      "\n",
      "    log10(x, /)\n",
      "        Return the base 10 logarithm of x.\n",
      "\n",
      "    log1p(x, /)\n",
      "        Return the natural logarithm of 1+x (base e).\n",
      "\n",
      "        The result is computed in a way which is accurate for x near zero.\n",
      "\n",
      "    log2(x, /)\n",
      "        Return the base 2 logarithm of x.\n",
      "\n",
      "    modf(x, /)\n",
      "        Return the fractional and integer parts of x.\n",
      "\n",
      "        Both results carry the sign of x and are floats.\n",
      "\n",
      "    nextafter(x, y, /, *, steps=None)\n",
      "        Return the floating-point value the given number of steps after x towards y.\n",
      "\n",
      "        If steps is not specified or is None, it defaults to 1.\n",
      "\n",
      "        Raises a TypeError, if x or y is not a double, or if steps is not an integer.\n",
      "        Raises ValueError if steps is negative.\n",
      "\n",
      "    perm(n, k=None, /)\n",
      "        Number of ways to choose k items from n items without repetition and with order.\n",
      "\n",
      "        Evaluates to n! / (n - k)! when k <= n and evaluates\n",
      "        to zero when k > n.\n",
      "\n",
      "        If k is not specified or is None, then k defaults to n\n",
      "        and the function returns n!.\n",
      "\n",
      "        Raises TypeError if either of the arguments are not integers.\n",
      "        Raises ValueError if either of the arguments are negative.\n",
      "\n",
      "    pow(x, y, /)\n",
      "        Return x**y (x to the power of y).\n",
      "\n",
      "    prod(iterable, /, *, start=1)\n",
      "        Calculate the product of all the elements in the input iterable.\n",
      "\n",
      "        The default start value for the product is 1.\n",
      "\n",
      "        When the iterable is empty, return the start value.  This function is\n",
      "        intended specifically for use with numeric values and may reject\n",
      "        non-numeric types.\n",
      "\n",
      "    radians(x, /)\n",
      "        Convert angle x from degrees to radians.\n",
      "\n",
      "    remainder(x, y, /)\n",
      "        Difference between x and the closest integer multiple of y.\n",
      "\n",
      "        Return x - n*y where n*y is the closest integer multiple of y.\n",
      "        In the case where x is exactly halfway between two multiples of\n",
      "        y, the nearest even value of n is used. The result is always exact.\n",
      "\n",
      "    sin(x, /)\n",
      "        Return the sine of x (measured in radians).\n",
      "\n",
      "    sinh(x, /)\n",
      "        Return the hyperbolic sine of x.\n",
      "\n",
      "    sqrt(x, /)\n",
      "        Return the square root of x.\n",
      "\n",
      "    sumprod(p, q, /)\n",
      "        Return the sum of products of values from two iterables p and q.\n",
      "\n",
      "        Roughly equivalent to:\n",
      "\n",
      "            sum(itertools.starmap(operator.mul, zip(p, q, strict=True)))\n",
      "\n",
      "        For float and mixed int/float inputs, the intermediate products\n",
      "        and sums are computed with extended precision.\n",
      "\n",
      "    tan(x, /)\n",
      "        Return the tangent of x (measured in radians).\n",
      "\n",
      "    tanh(x, /)\n",
      "        Return the hyperbolic tangent of x.\n",
      "\n",
      "    trunc(x, /)\n",
      "        Truncates the Real x to the nearest Integral toward 0.\n",
      "\n",
      "        Uses the __trunc__ magic method.\n",
      "\n",
      "    ulp(x, /)\n",
      "        Return the value of the least significant bit of the float x.\n",
      "\n",
      "DATA\n",
      "    e = 2.718281828459045\n",
      "    inf = inf\n",
      "    nan = nan\n",
      "    pi = 3.141592653589793\n",
      "    tau = 6.283185307179586\n",
      "\n",
      "FILE\n",
      "    (built-in)\n",
      "\n",
      "\n"
     ]
    }
   ],
   "source": [
    "help(math)"
   ]
  },
  {
   "cell_type": "code",
   "execution_count": 56,
   "id": "53553f12-c3e8-4638-b4ca-bbaa83836aaa",
   "metadata": {},
   "outputs": [],
   "source": [
    "value = 4.35"
   ]
  },
  {
   "cell_type": "code",
   "execution_count": 57,
   "id": "366c853e-c744-463f-b879-ea2ce3df9ade",
   "metadata": {},
   "outputs": [
    {
     "data": {
      "text/plain": [
       "4"
      ]
     },
     "execution_count": 57,
     "metadata": {},
     "output_type": "execute_result"
    }
   ],
   "source": [
    "math.floor(value)"
   ]
  },
  {
   "cell_type": "code",
   "execution_count": 58,
   "id": "b7dd8cd1-bbc2-44d7-9af0-41d964438914",
   "metadata": {},
   "outputs": [
    {
     "data": {
      "text/plain": [
       "4"
      ]
     },
     "execution_count": 58,
     "metadata": {},
     "output_type": "execute_result"
    }
   ],
   "source": [
    "round(4.5)"
   ]
  },
  {
   "cell_type": "code",
   "execution_count": 59,
   "id": "7358f5d4-0685-4253-a859-2fe10d9ef59a",
   "metadata": {},
   "outputs": [
    {
     "data": {
      "text/plain": [
       "6"
      ]
     },
     "execution_count": 59,
     "metadata": {},
     "output_type": "execute_result"
    }
   ],
   "source": [
    "round(5.5)"
   ]
  },
  {
   "cell_type": "code",
   "execution_count": 60,
   "id": "9cd1db87-9ca9-4012-98e9-15a6b30ccc24",
   "metadata": {},
   "outputs": [
    {
     "data": {
      "text/plain": [
       "5"
      ]
     },
     "execution_count": 60,
     "metadata": {},
     "output_type": "execute_result"
    }
   ],
   "source": [
    "round(4.500010)"
   ]
  },
  {
   "cell_type": "code",
   "execution_count": 61,
   "id": "996efb46-8af8-4442-b6bd-38d85daae6e3",
   "metadata": {},
   "outputs": [],
   "source": [
    "from math import pi"
   ]
  },
  {
   "cell_type": "code",
   "execution_count": 62,
   "id": "db209f01-3167-419d-8e14-cd24d95372bc",
   "metadata": {},
   "outputs": [
    {
     "data": {
      "text/plain": [
       "3.141592653589793"
      ]
     },
     "execution_count": 62,
     "metadata": {},
     "output_type": "execute_result"
    }
   ],
   "source": [
    "pi"
   ]
  },
  {
   "cell_type": "code",
   "execution_count": 63,
   "id": "c9cca720-2e1a-4dcf-997f-4e43ff071baa",
   "metadata": {},
   "outputs": [
    {
     "data": {
      "text/plain": [
       "3.141592653589793"
      ]
     },
     "execution_count": 63,
     "metadata": {},
     "output_type": "execute_result"
    }
   ],
   "source": [
    "math.pi"
   ]
  },
  {
   "cell_type": "code",
   "execution_count": 64,
   "id": "6c542c64-0e61-487b-8313-19dd49a550e6",
   "metadata": {},
   "outputs": [
    {
     "data": {
      "text/plain": [
       "2.718281828459045"
      ]
     },
     "execution_count": 64,
     "metadata": {},
     "output_type": "execute_result"
    }
   ],
   "source": [
    "math.e"
   ]
  },
  {
   "cell_type": "code",
   "execution_count": 65,
   "id": "bd6c67dd-c8e6-4b47-8fd1-c807c6b6472d",
   "metadata": {},
   "outputs": [
    {
     "data": {
      "text/plain": [
       "1.0"
      ]
     },
     "execution_count": 65,
     "metadata": {},
     "output_type": "execute_result"
    }
   ],
   "source": [
    "math.log(math.e)"
   ]
  },
  {
   "cell_type": "code",
   "execution_count": 66,
   "id": "916430e1-84e2-4d0e-bc39-71c6a0895865",
   "metadata": {},
   "outputs": [
    {
     "data": {
      "text/plain": [
       "4.605170185988092"
      ]
     },
     "execution_count": 66,
     "metadata": {},
     "output_type": "execute_result"
    }
   ],
   "source": [
    "math.log(100)\n",
    "\n",
    "# resultado é para descobrir n: 10**n = 100"
   ]
  },
  {
   "cell_type": "code",
   "execution_count": 67,
   "id": "94666828-3253-40cf-9c45-76b636322c8b",
   "metadata": {},
   "outputs": [
    {
     "data": {
      "text/plain": [
       "-0.5440211108893698"
      ]
     },
     "execution_count": 67,
     "metadata": {},
     "output_type": "execute_result"
    }
   ],
   "source": [
    "math.sin(10)"
   ]
  },
  {
   "cell_type": "code",
   "execution_count": 68,
   "id": "f622c0bc-621e-4d82-bd7f-9ecb36a973d2",
   "metadata": {},
   "outputs": [
    {
     "data": {
      "text/plain": [
       "180.0"
      ]
     },
     "execution_count": 68,
     "metadata": {},
     "output_type": "execute_result"
    }
   ],
   "source": [
    "math.degrees(pi)"
   ]
  },
  {
   "cell_type": "code",
   "execution_count": 69,
   "id": "a10deb82-d809-45f8-a4f4-f94b4cf12fcc",
   "metadata": {},
   "outputs": [],
   "source": [
    "import random"
   ]
  },
  {
   "cell_type": "code",
   "execution_count": 70,
   "id": "6b1cd54a-c2b4-49d1-9365-49920b721e40",
   "metadata": {},
   "outputs": [
    {
     "data": {
      "text/plain": [
       "74"
      ]
     },
     "execution_count": 70,
     "metadata": {},
     "output_type": "execute_result"
    }
   ],
   "source": [
    "random.seed(101)\n",
    "\n",
    "random.randint(0,100)"
   ]
  },
  {
   "cell_type": "code",
   "execution_count": 71,
   "id": "444d3aac-e98c-4d7a-9e46-6273d4dbe68a",
   "metadata": {},
   "outputs": [
    {
     "data": {
      "text/plain": [
       "24"
      ]
     },
     "execution_count": 71,
     "metadata": {},
     "output_type": "execute_result"
    }
   ],
   "source": [
    "random.randint(0,100)"
   ]
  },
  {
   "cell_type": "code",
   "execution_count": 72,
   "id": "9d82b776-facf-4fd9-bcab-b46c555dd42e",
   "metadata": {},
   "outputs": [
    {
     "data": {
      "text/plain": [
       "69"
      ]
     },
     "execution_count": 72,
     "metadata": {},
     "output_type": "execute_result"
    }
   ],
   "source": [
    "random.randint(0,100)"
   ]
  },
  {
   "cell_type": "code",
   "execution_count": 73,
   "id": "e45ec1d7-35af-4a0e-a577-a17d8144c15a",
   "metadata": {},
   "outputs": [],
   "source": [
    "mylist = list(range(0,20))"
   ]
  },
  {
   "cell_type": "code",
   "execution_count": 74,
   "id": "e38521fe-c927-4279-96a0-2ee3e4afcbec",
   "metadata": {},
   "outputs": [
    {
     "data": {
      "text/plain": [
       "[0, 1, 2, 3, 4, 5, 6, 7, 8, 9, 10, 11, 12, 13, 14, 15, 16, 17, 18, 19]"
      ]
     },
     "execution_count": 74,
     "metadata": {},
     "output_type": "execute_result"
    }
   ],
   "source": [
    "mylist"
   ]
  },
  {
   "cell_type": "code",
   "execution_count": 75,
   "id": "f423c6f2-071a-402b-82f6-d96f8b33bd37",
   "metadata": {},
   "outputs": [
    {
     "data": {
      "text/plain": [
       "11"
      ]
     },
     "execution_count": 75,
     "metadata": {},
     "output_type": "execute_result"
    }
   ],
   "source": [
    "random.choice(mylist)"
   ]
  },
  {
   "cell_type": "code",
   "execution_count": 76,
   "id": "6f58fcc6-72ec-4c50-a908-552aa591708f",
   "metadata": {},
   "outputs": [
    {
     "data": {
      "text/plain": [
       "[0, 1, 2, 3, 4, 5, 6, 7, 8, 9, 10, 11, 12, 13, 14, 15, 16, 17, 18, 19]"
      ]
     },
     "execution_count": 76,
     "metadata": {},
     "output_type": "execute_result"
    }
   ],
   "source": [
    "mylist"
   ]
  },
  {
   "cell_type": "code",
   "execution_count": 77,
   "id": "a7866b57-7c28-4e65-a18f-0269b3bde41a",
   "metadata": {},
   "outputs": [
    {
     "data": {
      "text/plain": [
       "[9, 13, 4, 4, 5, 13, 4, 19, 1, 3]"
      ]
     },
     "execution_count": 77,
     "metadata": {},
     "output_type": "execute_result"
    }
   ],
   "source": [
    "# SAMPLE WITH REPLACEMENT\n",
    "\n",
    "random.choices(mylist,k = 10)"
   ]
  },
  {
   "cell_type": "code",
   "execution_count": 78,
   "id": "cb0a3c55-dbab-488a-8d80-317381f99586",
   "metadata": {},
   "outputs": [
    {
     "data": {
      "text/plain": [
       "[2, 14, 17, 11, 6, 7, 12, 5, 3, 10]"
      ]
     },
     "execution_count": 78,
     "metadata": {},
     "output_type": "execute_result"
    }
   ],
   "source": [
    "# SAMPLE WITHOUT REPLACEMENT\n",
    "\n",
    "random.sample(mylist,k = 10)"
   ]
  },
  {
   "cell_type": "code",
   "execution_count": 79,
   "id": "2f7aefc9-01ce-48e3-b625-5d6e3b8bd20a",
   "metadata": {},
   "outputs": [
    {
     "data": {
      "text/plain": [
       "[0, 1, 2, 3, 4, 5, 6, 7, 8, 9, 10, 11, 12, 13, 14, 15, 16, 17, 18, 19]"
      ]
     },
     "execution_count": 79,
     "metadata": {},
     "output_type": "execute_result"
    }
   ],
   "source": [
    "mylist"
   ]
  },
  {
   "cell_type": "code",
   "execution_count": 80,
   "id": "dc3187c2-b3d4-4e34-800d-680fc70f4130",
   "metadata": {},
   "outputs": [],
   "source": [
    "random.shuffle(mylist)"
   ]
  },
  {
   "cell_type": "code",
   "execution_count": 81,
   "id": "2019685a-4369-4770-9a65-52e87f879ac2",
   "metadata": {},
   "outputs": [
    {
     "data": {
      "text/plain": [
       "[16, 14, 0, 8, 11, 17, 19, 15, 5, 9, 10, 1, 3, 4, 7, 18, 2, 6, 13, 12]"
      ]
     },
     "execution_count": 81,
     "metadata": {},
     "output_type": "execute_result"
    }
   ],
   "source": [
    "mylist"
   ]
  },
  {
   "cell_type": "code",
   "execution_count": 82,
   "id": "6b219ecd-e518-48a2-be30-8394c64ed7ad",
   "metadata": {},
   "outputs": [
    {
     "data": {
      "text/plain": [
       "74.44690143237648"
      ]
     },
     "execution_count": 82,
     "metadata": {},
     "output_type": "execute_result"
    }
   ],
   "source": [
    "random.uniform(a=0,b=100)"
   ]
  },
  {
   "cell_type": "code",
   "execution_count": 83,
   "id": "66f09040-64bd-40cc-8de2-7fd0ef05d9e9",
   "metadata": {},
   "outputs": [
    {
     "data": {
      "text/plain": [
       "-1.7665992795896235"
      ]
     },
     "execution_count": 83,
     "metadata": {},
     "output_type": "execute_result"
    }
   ],
   "source": [
    "random.gauss(mu=0,sigma=1)"
   ]
  },
  {
   "cell_type": "markdown",
   "id": "40dbb5a7-d5fd-41d7-9bea-713f6e78c327",
   "metadata": {},
   "source": [
    "#### 108. Python Debugger"
   ]
  },
  {
   "cell_type": "code",
   "execution_count": 84,
   "id": "4ab632b6-b5f9-4aa2-91c4-9ea2be75dca6",
   "metadata": {},
   "outputs": [
    {
     "ename": "TypeError",
     "evalue": "can only concatenate list (not \"int\") to list",
     "output_type": "error",
     "traceback": [
      "\u001b[1;31m---------------------------------------------------------------------------\u001b[0m",
      "\u001b[1;31mTypeError\u001b[0m                                 Traceback (most recent call last)",
      "Cell \u001b[1;32mIn[84], line 6\u001b[0m\n\u001b[0;32m      3\u001b[0m z \u001b[38;5;241m=\u001b[39m \u001b[38;5;241m3\u001b[39m\n\u001b[0;32m      5\u001b[0m result \u001b[38;5;241m=\u001b[39m y \u001b[38;5;241m+\u001b[39m z\n\u001b[1;32m----> 6\u001b[0m result2 \u001b[38;5;241m=\u001b[39m x \u001b[38;5;241m+\u001b[39m y\n",
      "\u001b[1;31mTypeError\u001b[0m: can only concatenate list (not \"int\") to list"
     ]
    }
   ],
   "source": [
    "x = [1,2,3]\n",
    "y = 2\n",
    "z = 3\n",
    "\n",
    "result = y + z\n",
    "result2 = x + y"
   ]
  },
  {
   "cell_type": "code",
   "execution_count": 85,
   "id": "8d865cb5-dabe-4c87-89bc-a0d55653d440",
   "metadata": {},
   "outputs": [],
   "source": [
    "import pdb"
   ]
  },
  {
   "cell_type": "code",
   "execution_count": 86,
   "id": "a0948381-0051-4585-8379-a22c89b1c134",
   "metadata": {},
   "outputs": [
    {
     "name": "stdout",
     "output_type": "stream",
     "text": [
      "--Return--\n",
      "None\n",
      "> \u001b[1;32mc:\\users\\gustavo lage\\appdata\\local\\temp\\ipykernel_4420\\1867436936.py\u001b[0m(7)\u001b[0;36m<module>\u001b[1;34m()\u001b[0m\n",
      "\n"
     ]
    },
    {
     "name": "stdin",
     "output_type": "stream",
     "text": [
      "ipdb>  0\n"
     ]
    },
    {
     "name": "stdout",
     "output_type": "stream",
     "text": [
      "0\n"
     ]
    },
    {
     "name": "stdin",
     "output_type": "stream",
     "text": [
      "ipdb>  q\n"
     ]
    }
   ],
   "source": [
    "x = [1,2,3]\n",
    "y = 2\n",
    "z = 3\n",
    "\n",
    "result = y + z\n",
    "\n",
    "pdb.set_trace()\n",
    "\n",
    "result2 = x + y"
   ]
  },
  {
   "cell_type": "markdown",
   "id": "fb45a892-0361-4f30-832f-f4e8a10f331e",
   "metadata": {},
   "source": [
    "#### 109. Python Regular Expressions Part One"
   ]
  },
  {
   "cell_type": "code",
   "execution_count": 87,
   "id": "e5ab2865-1169-48cd-a89a-2192a8811018",
   "metadata": {},
   "outputs": [
    {
     "data": {
      "text/plain": [
       "True"
      ]
     },
     "execution_count": 87,
     "metadata": {},
     "output_type": "execute_result"
    }
   ],
   "source": [
    "\"dog\" in \"Walking dog\""
   ]
  },
  {
   "cell_type": "code",
   "execution_count": 88,
   "id": "7f79a882-b9de-44bd-b872-f312db8f38b4",
   "metadata": {},
   "outputs": [],
   "source": [
    "text = \"Tomorrow i'm going to the beach. if you need to call me, my number is: 408 - 555- 1234. \""
   ]
  },
  {
   "cell_type": "code",
   "execution_count": 89,
   "id": "af22b3d4-7eb1-4058-a4a0-3f97af9083d2",
   "metadata": {},
   "outputs": [],
   "source": [
    "import re"
   ]
  },
  {
   "cell_type": "code",
   "execution_count": 90,
   "id": "f9957d25-ec33-4384-88ab-4d11fc4c7f5d",
   "metadata": {},
   "outputs": [],
   "source": [
    "pattern = \"beach\""
   ]
  },
  {
   "cell_type": "code",
   "execution_count": 163,
   "id": "8127ae76-0dc6-4a27-afb9-5a3d4e20f16b",
   "metadata": {},
   "outputs": [
    {
     "data": {
      "text/plain": [
       "<re.Match object; span=(0, 20), match='My phone number is ('>"
      ]
     },
     "execution_count": 163,
     "metadata": {},
     "output_type": "execute_result"
    }
   ],
   "source": [
    "re.search(pattern,text)"
   ]
  },
  {
   "cell_type": "code",
   "execution_count": 92,
   "id": "6a97bf39-72db-4f8a-9cc3-a9fa6cff3162",
   "metadata": {},
   "outputs": [],
   "source": [
    "pattern2 = \"house\""
   ]
  },
  {
   "cell_type": "code",
   "execution_count": 93,
   "id": "52e2e3fb-7b45-41ab-9889-ce3dc02829e1",
   "metadata": {},
   "outputs": [],
   "source": [
    "re.search(pattern2,text)"
   ]
  },
  {
   "cell_type": "code",
   "execution_count": 94,
   "id": "1d9e36c1-0555-4fcc-af18-33d75621a2fb",
   "metadata": {},
   "outputs": [],
   "source": [
    "match = re.search(pattern,text)"
   ]
  },
  {
   "cell_type": "code",
   "execution_count": 95,
   "id": "0f87a126-11ad-40a4-bdda-48d964d90910",
   "metadata": {},
   "outputs": [
    {
     "data": {
      "text/plain": [
       "(26, 31)"
      ]
     },
     "execution_count": 95,
     "metadata": {},
     "output_type": "execute_result"
    }
   ],
   "source": [
    "match.span()"
   ]
  },
  {
   "cell_type": "code",
   "execution_count": 96,
   "id": "2577b7fa-c554-4029-9a14-7ac54ab4f682",
   "metadata": {},
   "outputs": [
    {
     "data": {
      "text/plain": [
       "26"
      ]
     },
     "execution_count": 96,
     "metadata": {},
     "output_type": "execute_result"
    }
   ],
   "source": [
    "match.start()"
   ]
  },
  {
   "cell_type": "code",
   "execution_count": 97,
   "id": "10830a3d-d61a-47b3-bee9-2be1a790d8d4",
   "metadata": {},
   "outputs": [],
   "source": [
    "text2 = \"I have a dog, my dog is a good boy\""
   ]
  },
  {
   "cell_type": "code",
   "execution_count": 98,
   "id": "78f8956a-3f3d-42d9-88e2-a3d31de9856d",
   "metadata": {},
   "outputs": [
    {
     "data": {
      "text/plain": [
       "['dog', 'dog']"
      ]
     },
     "execution_count": 98,
     "metadata": {},
     "output_type": "execute_result"
    }
   ],
   "source": [
    "re.findall(\"dog\",text2) # RETURNS A LIST, NOT MATCH OBJECT."
   ]
  },
  {
   "cell_type": "code",
   "execution_count": 99,
   "id": "46a34961-c372-4666-b243-a1170faf12c2",
   "metadata": {},
   "outputs": [],
   "source": [
    "matches = re.findall(\"dog\",text2)"
   ]
  },
  {
   "cell_type": "code",
   "execution_count": 100,
   "id": "09ea8293-b086-40a7-b069-1c30dc43d4aa",
   "metadata": {},
   "outputs": [
    {
     "data": {
      "text/plain": [
       "['dog', 'dog']"
      ]
     },
     "execution_count": 100,
     "metadata": {},
     "output_type": "execute_result"
    }
   ],
   "source": [
    "matches"
   ]
  },
  {
   "cell_type": "code",
   "execution_count": 101,
   "id": "1d29b9a6-75ba-4b0b-b731-3e9a0587bdb5",
   "metadata": {},
   "outputs": [
    {
     "name": "stdout",
     "output_type": "stream",
     "text": [
      "<re.Match object; span=(9, 12), match='dog'>\n",
      "<re.Match object; span=(17, 20), match='dog'>\n"
     ]
    }
   ],
   "source": [
    "# THIS WAY YOU HAVE MATCH OBJECTS\n",
    "for match in re.finditer(\"dog\",text2):\n",
    "    print(match)"
   ]
  },
  {
   "cell_type": "markdown",
   "id": "fa4139dd-6337-42eb-acc9-5311e5d47d6c",
   "metadata": {},
   "source": [
    "#### 110. Python Regular Expressions Part Two\r\n"
   ]
  },
  {
   "cell_type": "code",
   "execution_count": 102,
   "id": "ae24ed02-4e5d-43f8-af5a-adf5a8d2400f",
   "metadata": {},
   "outputs": [],
   "source": [
    "text = \"My phone number is (31) 99123-4777\""
   ]
  },
  {
   "cell_type": "code",
   "execution_count": 103,
   "id": "9ac06f9d-e54a-4a93-bfbb-cc1f010f3b35",
   "metadata": {},
   "outputs": [],
   "source": [
    "phone = re.search(r\"\\d\\d\\d\\d\\d-\\d\\d\\d\\d\",text)"
   ]
  },
  {
   "cell_type": "code",
   "execution_count": 104,
   "id": "b0a00def-fb51-4278-8d61-8a232ed1d28c",
   "metadata": {},
   "outputs": [
    {
     "name": "stdout",
     "output_type": "stream",
     "text": [
      "<re.Match object; span=(24, 34), match='99123-4777'>\n"
     ]
    }
   ],
   "source": [
    "print(phone)"
   ]
  },
  {
   "cell_type": "code",
   "execution_count": 105,
   "id": "ccf48fe6-db1e-49d4-8257-d3885b17ac8e",
   "metadata": {},
   "outputs": [
    {
     "data": {
      "text/plain": [
       "'99123-4777'"
      ]
     },
     "execution_count": 105,
     "metadata": {},
     "output_type": "execute_result"
    }
   ],
   "source": [
    "phone.group()"
   ]
  },
  {
   "cell_type": "code",
   "execution_count": 106,
   "id": "58d61f5a-efe7-4061-bee6-6c9939aed31e",
   "metadata": {},
   "outputs": [],
   "source": [
    "phone = re.search(r\"\\d{5}-\\d{4}\",text)"
   ]
  },
  {
   "cell_type": "code",
   "execution_count": 107,
   "id": "566ca774-bd7c-4ee8-b31b-f9f73f81833a",
   "metadata": {},
   "outputs": [
    {
     "data": {
      "text/plain": [
       "'99123-4777'"
      ]
     },
     "execution_count": 107,
     "metadata": {},
     "output_type": "execute_result"
    }
   ],
   "source": [
    "phone.group()"
   ]
  },
  {
   "cell_type": "code",
   "execution_count": 108,
   "id": "86cf29d7-1c46-437a-86f0-5757a50f55ca",
   "metadata": {},
   "outputs": [],
   "source": [
    "phone_pattern = re.compile(r\"(\\d{5})-(\\d{4})\")"
   ]
  },
  {
   "cell_type": "code",
   "execution_count": 109,
   "id": "8f5fd7c4-f99d-4a80-b488-5a7a54c61d22",
   "metadata": {},
   "outputs": [],
   "source": [
    "result = re.search(phone_pattern,text)"
   ]
  },
  {
   "cell_type": "code",
   "execution_count": 110,
   "id": "e1b2009f-2de8-48d0-beab-be6ac8ab737c",
   "metadata": {},
   "outputs": [
    {
     "data": {
      "text/plain": [
       "'99123-4777'"
      ]
     },
     "execution_count": 110,
     "metadata": {},
     "output_type": "execute_result"
    }
   ],
   "source": [
    "result.group()"
   ]
  },
  {
   "cell_type": "code",
   "execution_count": 111,
   "id": "04c9f148-489d-4a7d-bfdc-fe867c091d8e",
   "metadata": {},
   "outputs": [
    {
     "data": {
      "text/plain": [
       "'4777'"
      ]
     },
     "execution_count": 111,
     "metadata": {},
     "output_type": "execute_result"
    }
   ],
   "source": [
    "result.group(2)"
   ]
  },
  {
   "cell_type": "code",
   "execution_count": 112,
   "id": "c3408c3c-38c5-4a04-8569-8bc038b52d70",
   "metadata": {},
   "outputs": [],
   "source": [
    "ddd = re.search(r\"\\W31\\W\",text)"
   ]
  },
  {
   "cell_type": "code",
   "execution_count": 113,
   "id": "cb597ed8-8f8d-437f-8998-6f78777e7dfe",
   "metadata": {},
   "outputs": [
    {
     "data": {
      "text/plain": [
       "<re.Match object; span=(19, 23), match='(31)'>"
      ]
     },
     "execution_count": 113,
     "metadata": {},
     "output_type": "execute_result"
    }
   ],
   "source": [
    "ddd"
   ]
  },
  {
   "cell_type": "markdown",
   "id": "602e0836-36cd-43fd-aa44-716924b66418",
   "metadata": {},
   "source": [
    "#### 111. Python Regular Expressions Part Three"
   ]
  },
  {
   "cell_type": "markdown",
   "id": "ef0a948b-1e47-4cdd-897b-a5e0057adcff",
   "metadata": {},
   "source": [
    "##### ADDITIONAL REGEX SYNTAX"
   ]
  },
  {
   "cell_type": "code",
   "execution_count": 114,
   "id": "2686c196-cd05-49d7-9908-35f5f6a74c4c",
   "metadata": {},
   "outputs": [
    {
     "data": {
      "text/plain": [
       "<re.Match object; span=(4, 7), match='cat'>"
      ]
     },
     "execution_count": 114,
     "metadata": {},
     "output_type": "execute_result"
    }
   ],
   "source": [
    "re.search(r\"cat\",\"The cat is here\")"
   ]
  },
  {
   "cell_type": "code",
   "execution_count": 115,
   "id": "82e76a50-2a13-421b-9b0e-aa8203296c33",
   "metadata": {},
   "outputs": [],
   "source": [
    "re.search(r\"cat\",\"The dog is here\")"
   ]
  },
  {
   "cell_type": "code",
   "execution_count": 116,
   "id": "20486c3f-4571-4d0e-af87-81e4fd59bf66",
   "metadata": {},
   "outputs": [
    {
     "data": {
      "text/plain": [
       "<re.Match object; span=(4, 7), match='dog'>"
      ]
     },
     "execution_count": 116,
     "metadata": {},
     "output_type": "execute_result"
    }
   ],
   "source": [
    "# | = or\n",
    "re.search(r\"cat|dog\",\"The dog is here\")"
   ]
  },
  {
   "cell_type": "code",
   "execution_count": 117,
   "id": "75e56c04-8c3c-4cc7-a8f7-fcdb079be9b1",
   "metadata": {},
   "outputs": [
    {
     "data": {
      "text/plain": [
       "['at', 'at', 'at']"
      ]
     },
     "execution_count": 117,
     "metadata": {},
     "output_type": "execute_result"
    }
   ],
   "source": [
    "re.findall(r\"at\",\"The cat in the hat sat there.\")"
   ]
  },
  {
   "cell_type": "code",
   "execution_count": 118,
   "id": "435e596d-75e6-4f10-95a0-bb7875f5bac8",
   "metadata": {},
   "outputs": [
    {
     "data": {
      "text/plain": [
       "['cat', 'hat', 'sat']"
      ]
     },
     "execution_count": 118,
     "metadata": {},
     "output_type": "execute_result"
    }
   ],
   "source": [
    "# . = como um coringa, wild card\n",
    "re.findall(r\".at\",\"The cat in the hat sat there.\")"
   ]
  },
  {
   "cell_type": "code",
   "execution_count": 119,
   "id": "3fa66e61-6784-426b-9c16-dcc99bf0b204",
   "metadata": {},
   "outputs": [
    {
     "data": {
      "text/plain": [
       "['cat', 'hat', 'lat']"
      ]
     },
     "execution_count": 119,
     "metadata": {},
     "output_type": "execute_result"
    }
   ],
   "source": [
    "re.findall(r\".at\",\"The cat in the hat went splat.\")"
   ]
  },
  {
   "cell_type": "code",
   "execution_count": 120,
   "id": "e7641da8-c78e-45d6-bb18-63b1bedfac79",
   "metadata": {},
   "outputs": [
    {
     "data": {
      "text/plain": [
       "['e cat', 'e hat', 'splat']"
      ]
     },
     "execution_count": 120,
     "metadata": {},
     "output_type": "execute_result"
    }
   ],
   "source": [
    "re.findall(r\"...at\",\"The cat in the hat went splat.\")"
   ]
  },
  {
   "cell_type": "code",
   "execution_count": 121,
   "id": "b8e2d22e-72f0-45a6-ba80-cab9820e047b",
   "metadata": {},
   "outputs": [
    {
     "data": {
      "text/plain": [
       "['2']"
      ]
     },
     "execution_count": 121,
     "metadata": {},
     "output_type": "execute_result"
    }
   ],
   "source": [
    "re.findall(r\"^\\d\", \"2 is a number\")"
   ]
  },
  {
   "cell_type": "code",
   "execution_count": 122,
   "id": "25d7b8ec-175d-40f6-9086-5d3d17d74754",
   "metadata": {},
   "outputs": [
    {
     "data": {
      "text/plain": [
       "[]"
      ]
     },
     "execution_count": 122,
     "metadata": {},
     "output_type": "execute_result"
    }
   ],
   "source": [
    "re.findall(r\"^\\d\", \"The number is 2\")"
   ]
  },
  {
   "cell_type": "code",
   "execution_count": 123,
   "id": "c77d4a04-e92a-4a3f-816b-dd79ffa424a8",
   "metadata": {},
   "outputs": [
    {
     "data": {
      "text/plain": [
       "[]"
      ]
     },
     "execution_count": 123,
     "metadata": {},
     "output_type": "execute_result"
    }
   ],
   "source": [
    "re.findall(r\"\\d$\", \"2 is a number\")"
   ]
  },
  {
   "cell_type": "code",
   "execution_count": 124,
   "id": "22ad3f24-0f48-4ae4-8fc3-59b5e41b3ad6",
   "metadata": {},
   "outputs": [
    {
     "data": {
      "text/plain": [
       "['2']"
      ]
     },
     "execution_count": 124,
     "metadata": {},
     "output_type": "execute_result"
    }
   ],
   "source": [
    "re.findall(r\"\\d$\", \"The number is 2\")"
   ]
  },
  {
   "cell_type": "code",
   "execution_count": 125,
   "id": "f24856f6-be8c-4fa4-82cb-1648b90181f9",
   "metadata": {},
   "outputs": [],
   "source": [
    "frase = \"There are 3 numbers 24 inside 4 this sentence\""
   ]
  },
  {
   "cell_type": "code",
   "execution_count": 126,
   "id": "3d038af8-642a-4dd4-b313-4b3dfe71ca53",
   "metadata": {},
   "outputs": [],
   "source": [
    "pattern = r'[^\\d]+'"
   ]
  },
  {
   "cell_type": "code",
   "execution_count": 127,
   "id": "1fb7d875-962f-416a-8bad-fa03e4801d37",
   "metadata": {},
   "outputs": [
    {
     "data": {
      "text/plain": [
       "['There are ', ' numbers ', ' inside ', ' this sentence']"
      ]
     },
     "execution_count": 127,
     "metadata": {},
     "output_type": "execute_result"
    }
   ],
   "source": [
    "re.findall(pattern,frase)"
   ]
  },
  {
   "cell_type": "code",
   "execution_count": 128,
   "id": "6fad8e62-935b-48c5-a629-26d872df5ab9",
   "metadata": {},
   "outputs": [],
   "source": [
    "frase_teste = \"Sao Paulo campeao! Calleri foi muito bem. Campeoes mundiais?\""
   ]
  },
  {
   "cell_type": "code",
   "execution_count": 129,
   "id": "e7b1ec6a-8efe-4aba-89ee-d27b33441700",
   "metadata": {},
   "outputs": [],
   "source": [
    "clean = re.findall(r\"[^!.? ]+\", frase_teste)"
   ]
  },
  {
   "cell_type": "code",
   "execution_count": 130,
   "id": "0660d88b-61f6-4d88-ab60-e0f762a95982",
   "metadata": {},
   "outputs": [
    {
     "data": {
      "text/plain": [
       "['Sao',\n",
       " 'Paulo',\n",
       " 'campeao',\n",
       " 'Calleri',\n",
       " 'foi',\n",
       " 'muito',\n",
       " 'bem',\n",
       " 'Campeoes',\n",
       " 'mundiais']"
      ]
     },
     "execution_count": 130,
     "metadata": {},
     "output_type": "execute_result"
    }
   ],
   "source": [
    "clean"
   ]
  },
  {
   "cell_type": "code",
   "execution_count": 131,
   "id": "74d2d88c-698c-4c1e-a7ad-4a0f974200f1",
   "metadata": {},
   "outputs": [
    {
     "data": {
      "text/plain": [
       "'Sao Paulo campeao Calleri foi muito bem Campeoes mundiais'"
      ]
     },
     "execution_count": 131,
     "metadata": {},
     "output_type": "execute_result"
    }
   ],
   "source": [
    "\" \".join(clean)"
   ]
  },
  {
   "cell_type": "markdown",
   "id": "2b23744a-4800-4149-ad95-d6d9f6dbce62",
   "metadata": {},
   "source": [
    "#### 112. Timing Your Python Code\r\n"
   ]
  },
  {
   "cell_type": "code",
   "execution_count": 132,
   "id": "2076ffd7-db95-4156-bae4-09560866a3d6",
   "metadata": {},
   "outputs": [],
   "source": [
    "def func_one(num):\n",
    "    return [str(num) for num in range(num+1)]"
   ]
  },
  {
   "cell_type": "code",
   "execution_count": 133,
   "id": "eaa011cc-34b0-4e15-9864-ca90dc2708de",
   "metadata": {},
   "outputs": [
    {
     "data": {
      "text/plain": [
       "['0', '1', '2', '3', '4', '5', '6', '7', '8', '9', '10']"
      ]
     },
     "execution_count": 133,
     "metadata": {},
     "output_type": "execute_result"
    }
   ],
   "source": [
    "func_one(10)"
   ]
  },
  {
   "cell_type": "code",
   "execution_count": 134,
   "id": "83e381ef-703f-4cec-9e43-b4c651de0449",
   "metadata": {},
   "outputs": [],
   "source": [
    "def func_two(num):\n",
    "    return list(map(str,range(num+1)))"
   ]
  },
  {
   "cell_type": "code",
   "execution_count": 135,
   "id": "f2679cd1-9bf1-4552-a49d-4d090fd0b7e9",
   "metadata": {},
   "outputs": [
    {
     "data": {
      "text/plain": [
       "['0', '1', '2', '3', '4', '5', '6', '7', '8', '9', '10']"
      ]
     },
     "execution_count": 135,
     "metadata": {},
     "output_type": "execute_result"
    }
   ],
   "source": [
    "func_two(10)"
   ]
  },
  {
   "cell_type": "code",
   "execution_count": 136,
   "id": "749205a2-ce4e-4227-9e2f-7f86ec5065b1",
   "metadata": {},
   "outputs": [],
   "source": [
    "import time "
   ]
  },
  {
   "cell_type": "code",
   "execution_count": 137,
   "id": "3ccb9628-f2f5-4f7d-af3c-f626e359b7d7",
   "metadata": {},
   "outputs": [
    {
     "name": "stdout",
     "output_type": "stream",
     "text": [
      "0.0\n"
     ]
    }
   ],
   "source": [
    "# GRAB CURRENT TIME BEFORE\n",
    "start_time = time.time()\n",
    "# RUN CODE\n",
    "result = func_one(1000)\n",
    "# GRAB TIME AFTER RUNNING CODE\n",
    "end_time = time.time()\n",
    "# ELAPSED TIME\n",
    "elapsed_time = end_time - start_time\n",
    "\n",
    "print(elapsed_time)"
   ]
  },
  {
   "cell_type": "code",
   "execution_count": 138,
   "id": "3805caaa-0487-4620-a621-dfa308a4a59d",
   "metadata": {},
   "outputs": [
    {
     "name": "stdout",
     "output_type": "stream",
     "text": [
      "0.0014224052429199219\n"
     ]
    }
   ],
   "source": [
    "# GRAB CURRENT TIME BEFORE\n",
    "start_time = time.time()\n",
    "# RUN CODE\n",
    "result = func_two(1000)\n",
    "# GRAB TIME AFTER RUNNING CODE\n",
    "end_time = time.time()\n",
    "# ELAPSED TIME\n",
    "elapsed_time = end_time - start_time\n",
    "\n",
    "print(elapsed_time)"
   ]
  },
  {
   "cell_type": "code",
   "execution_count": 139,
   "id": "fea3e74d-4be6-438e-a7ee-468552080447",
   "metadata": {},
   "outputs": [],
   "source": [
    "import timeit"
   ]
  },
  {
   "cell_type": "code",
   "execution_count": 140,
   "id": "c6cb1e9a-7a78-4f31-9cf3-c0461214fc70",
   "metadata": {},
   "outputs": [],
   "source": [
    "stmt = '''\n",
    "func_one(100)\n",
    "'''"
   ]
  },
  {
   "cell_type": "code",
   "execution_count": 141,
   "id": "367809e7-0ee7-4eb8-a642-91eed8f1d55c",
   "metadata": {},
   "outputs": [],
   "source": [
    "setup = '''\n",
    "def func_one(num):\n",
    "    return [str(num) for num in range(num)]\n",
    "'''"
   ]
  },
  {
   "cell_type": "code",
   "execution_count": 142,
   "id": "fc7a4187-1052-4f30-9749-ade40a2b12e0",
   "metadata": {},
   "outputs": [
    {
     "data": {
      "text/plain": [
       "7.272757200000342"
      ]
     },
     "execution_count": 142,
     "metadata": {},
     "output_type": "execute_result"
    }
   ],
   "source": [
    "timeit.timeit(stmt,setup,number=10000)"
   ]
  },
  {
   "cell_type": "code",
   "execution_count": 143,
   "id": "018b12ce-a551-461a-a2e3-21a9efc7bfce",
   "metadata": {},
   "outputs": [],
   "source": [
    "stmt2 = '''\n",
    "func_two(100)\n",
    "'''"
   ]
  },
  {
   "cell_type": "code",
   "execution_count": 144,
   "id": "8769a4b2-9de7-4687-aad9-6c76e652da9d",
   "metadata": {},
   "outputs": [],
   "source": [
    "setup2 = '''\n",
    "def func_two(num):\n",
    "    return list(map(str,range(num)))\n",
    "'''"
   ]
  },
  {
   "cell_type": "code",
   "execution_count": 145,
   "id": "535f68d4-4e0d-4606-8329-458ae1333f80",
   "metadata": {},
   "outputs": [
    {
     "data": {
      "text/plain": [
       "9.088710099982563"
      ]
     },
     "execution_count": 145,
     "metadata": {},
     "output_type": "execute_result"
    }
   ],
   "source": [
    "timeit.timeit(stmt2,setup2,number=1000)"
   ]
  },
  {
   "cell_type": "code",
   "execution_count": 146,
   "id": "d3cc66d9-201a-4454-9d0d-5fab42589f83",
   "metadata": {},
   "outputs": [
    {
     "name": "stdout",
     "output_type": "stream",
     "text": [
      "7.18 μs ± 56.2 ns per loop (mean ± std. dev. of 7 runs, 100,000 loops each)\n"
     ]
    }
   ],
   "source": [
    "%%timeit\n",
    "\n",
    "func_one(100)"
   ]
  },
  {
   "cell_type": "code",
   "execution_count": 147,
   "id": "42bd2ad8-c674-4940-8f50-3e89b3ef875b",
   "metadata": {},
   "outputs": [
    {
     "name": "stdout",
     "output_type": "stream",
     "text": [
      "9.07 μs ± 40.7 ns per loop (mean ± std. dev. of 7 runs, 100,000 loops each)\n"
     ]
    }
   ],
   "source": [
    "%%timeit\n",
    "\n",
    "func_two(100)"
   ]
  },
  {
   "cell_type": "markdown",
   "id": "7da07169-06cf-42e0-9ade-759c830317e1",
   "metadata": {},
   "source": [
    "#### 113. Zipping and Unzipping files with Python\r\n"
   ]
  },
  {
   "cell_type": "code",
   "execution_count": 148,
   "id": "c650ae98-5b36-4662-9fb3-850870e4929f",
   "metadata": {},
   "outputs": [],
   "source": [
    "f = open(\"fileone.txt\", \"w+\")\n",
    "f.write(\"FILE ONE\")\n",
    "f.close()"
   ]
  },
  {
   "cell_type": "code",
   "execution_count": 149,
   "id": "79fa5141-33fc-46b0-96e3-55b5ee9e1e70",
   "metadata": {},
   "outputs": [],
   "source": [
    "f = open(\"filetwo.txt\", \"w+\")\n",
    "f.write(\"FILE TWO\")\n",
    "f.close()"
   ]
  },
  {
   "cell_type": "code",
   "execution_count": 150,
   "id": "f97ec06f-ef8a-4f32-bc31-a429e2648959",
   "metadata": {},
   "outputs": [],
   "source": [
    "import zipfile"
   ]
  },
  {
   "cell_type": "code",
   "execution_count": 151,
   "id": "273c4e89-0068-47ec-8b9f-639c60ed9f0c",
   "metadata": {},
   "outputs": [],
   "source": [
    "comp_file = zipfile.ZipFile(\"comp_file.zip\",\"w\")\n"
   ]
  },
  {
   "cell_type": "code",
   "execution_count": 152,
   "id": "8a995c98-cdae-4c94-9d2c-eae952670a86",
   "metadata": {},
   "outputs": [],
   "source": [
    "comp_file.write(\"fileone.txt\",compress_type=zipfile.ZIP_DEFLATED)"
   ]
  },
  {
   "cell_type": "code",
   "execution_count": 153,
   "id": "44916d22-2a94-4f81-94fe-5def1e077281",
   "metadata": {},
   "outputs": [],
   "source": [
    "comp_file.write(\"filetwo.txt\",compress_type=zipfile.ZIP_DEFLATED)"
   ]
  },
  {
   "cell_type": "code",
   "execution_count": 154,
   "id": "77f4b761-a881-4b2f-b8d2-0c8b7ac49d0b",
   "metadata": {},
   "outputs": [],
   "source": [
    "comp_file.close()"
   ]
  },
  {
   "cell_type": "code",
   "execution_count": 155,
   "id": "7ddc0658-8279-4df5-a60e-e7e40bafe028",
   "metadata": {},
   "outputs": [],
   "source": [
    "zip_obj = zipfile.ZipFile('comp_file.zip', \"r\")"
   ]
  },
  {
   "cell_type": "code",
   "execution_count": 156,
   "id": "3d4ef8eb-62b6-4175-9ebf-7905727d8c28",
   "metadata": {},
   "outputs": [],
   "source": [
    "zip_obj.extractall(\"Extracted content\")"
   ]
  },
  {
   "cell_type": "code",
   "execution_count": 157,
   "id": "90c210ba-741a-4804-aa31-10363be21f63",
   "metadata": {},
   "outputs": [
    {
     "data": {
      "text/plain": [
       "'C:\\\\Users\\\\Gustavo Lage\\\\Desktop\\\\Scripts Python'"
      ]
     },
     "execution_count": 157,
     "metadata": {},
     "output_type": "execute_result"
    }
   ],
   "source": [
    "pwd"
   ]
  },
  {
   "cell_type": "code",
   "execution_count": 158,
   "id": "c7d11a82-9a35-41de-aabb-e86dcc9882b8",
   "metadata": {},
   "outputs": [],
   "source": [
    "import shutil"
   ]
  },
  {
   "cell_type": "code",
   "execution_count": 159,
   "id": "67f97ead-abcb-4c88-932c-5f73fb87c1cc",
   "metadata": {},
   "outputs": [],
   "source": [
    "dir_to_zip = 'C:\\\\Users\\\\Gustavo Lage\\\\Desktop\\\\Scripts Python\\\\Extracted content'"
   ]
  },
  {
   "cell_type": "code",
   "execution_count": 160,
   "id": "134e96bd-8cde-4df1-af05-221d2ab7e6e9",
   "metadata": {},
   "outputs": [],
   "source": [
    "output_filename = \"Example\""
   ]
  },
  {
   "cell_type": "code",
   "execution_count": 161,
   "id": "e5456801-65dd-40ac-b096-0b080a3ecf99",
   "metadata": {},
   "outputs": [
    {
     "data": {
      "text/plain": [
       "'C:\\\\Users\\\\Gustavo Lage\\\\Desktop\\\\Scripts Python\\\\Example.zip'"
      ]
     },
     "execution_count": 161,
     "metadata": {},
     "output_type": "execute_result"
    }
   ],
   "source": [
    "shutil.make_archive(output_filename,\"zip\",dir_to_zip)"
   ]
  },
  {
   "cell_type": "code",
   "execution_count": 162,
   "id": "c809537a-9b9d-4b61-b8ef-690b47875374",
   "metadata": {},
   "outputs": [],
   "source": [
    "shutil.unpack_archive(\"Example.zip\", \"Final_unzip\", 'zip')"
   ]
  },
  {
   "cell_type": "code",
   "execution_count": null,
   "id": "910b10b6-03a7-481d-aa64-a3aec2d142f5",
   "metadata": {},
   "outputs": [],
   "source": []
  }
 ],
 "metadata": {
  "kernelspec": {
   "display_name": "Python 3 (ipykernel)",
   "language": "python",
   "name": "python3"
  },
  "language_info": {
   "codemirror_mode": {
    "name": "ipython",
    "version": 3
   },
   "file_extension": ".py",
   "mimetype": "text/x-python",
   "name": "python",
   "nbconvert_exporter": "python",
   "pygments_lexer": "ipython3",
   "version": "3.12.4"
  }
 },
 "nbformat": 4,
 "nbformat_minor": 5
}
