{
 "cells": [
  {
   "cell_type": "markdown",
   "id": "d8c338e8-c83a-43ac-a537-81ff9cc16606",
   "metadata": {},
   "source": [
    "#### 80. Errors and Exception Handling"
   ]
  },
  {
   "cell_type": "code",
   "execution_count": 8,
   "id": "dd5e2e38-c275-42fe-88a8-1170a915c406",
   "metadata": {},
   "outputs": [
    {
     "name": "stdout",
     "output_type": "stream",
     "text": [
      "Soma feita!\n",
      "40\n"
     ]
    }
   ],
   "source": [
    "num1 = 20\n",
    "num2 = 20\n",
    "\n",
    "try:\n",
    "    # QUERO TENTAR UM CÓDIGO\n",
    "    # PODE TER UM ERRO\n",
    "    result = num1 + num2\n",
    "except:\n",
    "    # EM CASO DE ERRO\n",
    "    print(\"Erro, você não está somando corretamente.\")\n",
    "\n",
    "else:\n",
    "    # SE NÃO TIVER ERRO\n",
    "    print(\"Soma feita!\")\n",
    "    print(result)\n",
    "\n",
    "finally:\n",
    "    pass\n",
    "    # INDEPENDENTE DE ERRO"
   ]
  },
  {
   "cell_type": "code",
   "execution_count": 10,
   "id": "fe9116d0-6459-4a76-a8f9-78978c707bd1",
   "metadata": {},
   "outputs": [
    {
     "name": "stdout",
     "output_type": "stream",
     "text": [
      "Oi, voce teve um OS Erro\n",
      "Eu sempre executo\n"
     ]
    }
   ],
   "source": [
    "try:\n",
    "    f = open('testfile','r')\n",
    "    f.write(\"Write a test line\")\n",
    "except TypeError:\n",
    "    print(\"Ocorreu um Type Erro (erro de digitaçao)\")\n",
    "except OSError:\n",
    "    print(\"Oi, voce teve um OS Erro\")\n",
    "finally:\n",
    "    print(\"Eu sempre executo\")"
   ]
  },
  {
   "cell_type": "code",
   "execution_count": 12,
   "id": "6d608b10-30f2-4257-8140-533c9f9e1bcd",
   "metadata": {},
   "outputs": [],
   "source": [
    "def ask_for_int():\n",
    "    try:\n",
    "        result = int(input(\"Digite um número inteiro: \"))\n",
    "    except:\n",
    "        print(\"Opa! Isso não é um número inteiro\")\n",
    "    finally:\n",
    "        print(\"Termino do try/except/finally\")"
   ]
  },
  {
   "cell_type": "code",
   "execution_count": 22,
   "id": "d826161f-c135-4419-8ad0-ab3c651291d5",
   "metadata": {},
   "outputs": [],
   "source": [
    "def ask_for_int():\n",
    "    num = 0\n",
    "    while True:\n",
    "        num += 1\n",
    "        try:\n",
    "            result = int(input(\"Digite um número inteiro: \"))\n",
    "        except:\n",
    "            print(\"Opa! Isso não é um número inteiro\")\n",
    "        else:\n",
    "            print(\"Obrigado\")\n",
    "            break\n",
    "        finally:\n",
    "            print(f\"No de tentativas {num}\")\n",
    "            print(\"Eu sempre executo\")\n",
    "                    "
   ]
  },
  {
   "cell_type": "code",
   "execution_count": 24,
   "id": "d5d65ad9-05cd-4dc2-ad93-fec1bdf69dc0",
   "metadata": {},
   "outputs": [
    {
     "name": "stdin",
     "output_type": "stream",
     "text": [
      "Digite um número inteiro:  a\n"
     ]
    },
    {
     "name": "stdout",
     "output_type": "stream",
     "text": [
      "Opa! Isso não é um número inteiro\n",
      "No de tentativas 1\n",
      "Eu sempre executo\n"
     ]
    },
    {
     "name": "stdin",
     "output_type": "stream",
     "text": [
      "Digite um número inteiro:  1\n"
     ]
    },
    {
     "name": "stdout",
     "output_type": "stream",
     "text": [
      "Obrigado\n",
      "No de tentativas 2\n",
      "Eu sempre executo\n"
     ]
    }
   ],
   "source": [
    "ask_for_int()"
   ]
  },
  {
   "cell_type": "markdown",
   "id": "2c5ac717-8723-4855-8e3e-b93e78542428",
   "metadata": {},
   "source": [
    "#### 84 - Pylint Overview\n",
    "\n",
    "##### Pylint: Looks at your code to check and report back possible issues\n",
    "\n",
    "##### Unittest: Tests your programs to check for desired outputs\n",
    "\n",
    "##### CONVENTION RULES \"PEP 8\""
   ]
  },
  {
   "cell_type": "markdown",
   "id": "e85e944d-5b9e-41f8-a7f8-cb5d7ff06f83",
   "metadata": {},
   "source": [
    "pylint myexample.py -r y"
   ]
  },
  {
   "cell_type": "markdown",
   "id": "12ee2a5a-2a20-4db1-b142-adbef61c5894",
   "metadata": {},
   "source": [
    "#### 85. Running tests with the Unittest Library"
   ]
  },
  {
   "cell_type": "code",
   "execution_count": 3,
   "id": "78f3ed24-bc68-464c-9c22-19b92bdfe330",
   "metadata": {},
   "outputs": [
    {
     "ename": "ModuleNotFoundError",
     "evalue": "No module named 'cap'",
     "output_type": "error",
     "traceback": [
      "\u001b[1;31m---------------------------------------------------------------------------\u001b[0m",
      "\u001b[1;31mModuleNotFoundError\u001b[0m                       Traceback (most recent call last)",
      "Cell \u001b[1;32mIn[3], line 2\u001b[0m\n\u001b[0;32m      1\u001b[0m \u001b[38;5;28;01mimport\u001b[39;00m \u001b[38;5;21;01munittest\u001b[39;00m\n\u001b[1;32m----> 2\u001b[0m \u001b[38;5;28;01mimport\u001b[39;00m \u001b[38;5;21;01mcap\u001b[39;00m\n\u001b[0;32m      4\u001b[0m \u001b[38;5;28;01mclass\u001b[39;00m \u001b[38;5;21;01mTestCap\u001b[39;00m(unittest\u001b[38;5;241m.\u001b[39mTestCase):\n\u001b[0;32m      6\u001b[0m \t\u001b[38;5;28;01mdef\u001b[39;00m \u001b[38;5;21mtest_one_word\u001b[39m(\u001b[38;5;28mself\u001b[39m):\n",
      "\u001b[1;31mModuleNotFoundError\u001b[0m: No module named 'cap'"
     ]
    }
   ],
   "source": [
    "import unittest\n",
    "import cap\n",
    "\n",
    "class TestCap(unittest.TestCase):\n",
    "\n",
    "\tdef test_one_word(self):\n",
    "\t\ttext = \"gustavo\"\n",
    "\t\tresult = cap.cap_text(text)\n",
    "\t\tself.assertEqual(result,\"Gustavo\")\n",
    "\n",
    "\tdef test_multiple_words(self):\n",
    "\t\ttext = \"gustavo lage\"\n",
    "\t\tresult = cap.cap_text(text)\n",
    "\t\tself.assertEqual(result,\"Gustavo Lage\")\n",
    "\n",
    "if __name__ == '__main__':\n",
    "\tunittest.main()"
   ]
  },
  {
   "cell_type": "code",
   "execution_count": null,
   "id": "81da35f8-fc56-4447-a2dd-163a66d84a63",
   "metadata": {},
   "outputs": [],
   "source": []
  }
 ],
 "metadata": {
  "kernelspec": {
   "display_name": "Python 3 (ipykernel)",
   "language": "python",
   "name": "python3"
  },
  "language_info": {
   "codemirror_mode": {
    "name": "ipython",
    "version": 3
   },
   "file_extension": ".py",
   "mimetype": "text/x-python",
   "name": "python",
   "nbconvert_exporter": "python",
   "pygments_lexer": "ipython3",
   "version": "3.11.7"
  }
 },
 "nbformat": 4,
 "nbformat_minor": 5
}
