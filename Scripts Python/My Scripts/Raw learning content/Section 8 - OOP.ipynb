{
 "cells": [
  {
   "cell_type": "markdown",
   "id": "1cda044d-dea2-4b54-8a51-45c9e8b47b70",
   "metadata": {},
   "source": [
    "#### 69. Object Oriented Programming - Attributes and Class Keyword"
   ]
  },
  {
   "cell_type": "code",
   "execution_count": 13,
   "id": "96994e0b-3990-4d50-a2c7-b8fe75cd4894",
   "metadata": {},
   "outputs": [],
   "source": [
    "# Capitalização e caixa alta para CLASSES (BOA PRÁTICA)\n",
    "class NameOfClass():\n",
    "    \n",
    "    def __init__(self, param1, param2):\n",
    "        self.param1 = param1\n",
    "        self.param2 = param2"
   ]
  },
  {
   "cell_type": "code",
   "execution_count": 15,
   "id": "56a74ce4-f73d-40b9-8062-9fb63cff0971",
   "metadata": {},
   "outputs": [],
   "source": [
    "mylist = [1,2,3]"
   ]
  },
  {
   "cell_type": "code",
   "execution_count": 16,
   "id": "c9419e3f-b0c2-4b47-aa29-7e015cd3b6d7",
   "metadata": {},
   "outputs": [],
   "source": [
    "myset = set()"
   ]
  },
  {
   "cell_type": "code",
   "execution_count": 17,
   "id": "41882eb4-8a4a-4957-bfeb-1db3389a0167",
   "metadata": {},
   "outputs": [
    {
     "data": {
      "text/plain": [
       "set"
      ]
     },
     "execution_count": 17,
     "metadata": {},
     "output_type": "execute_result"
    }
   ],
   "source": [
    "type(myset)"
   ]
  },
  {
   "cell_type": "code",
   "execution_count": 18,
   "id": "0c97c0b2-22e2-4a09-bf1e-c732f52263ee",
   "metadata": {},
   "outputs": [
    {
     "data": {
      "text/plain": [
       "list"
      ]
     },
     "execution_count": 18,
     "metadata": {},
     "output_type": "execute_result"
    }
   ],
   "source": [
    "type(mylist)"
   ]
  },
  {
   "cell_type": "code",
   "execution_count": 65,
   "id": "61a1a3e4-048b-4451-ae3f-f5b525142bad",
   "metadata": {},
   "outputs": [],
   "source": [
    "#CRIA-SE UMA CLASSE\n",
    "class Dog():\n",
    "    #CRIAM-SE MÉTODOS E ATRIBUTOS PARA A CLASSE\n",
    "    def __init__(self,breed,name,spots):\n",
    "    # self = INSTANCIA DO OBJETO, OU SEJA, É COMO UMA VARIAVEL CRIADA    \n",
    "\n",
    "        # ATRIBUTOS (CARACTERISTICAS DO OBJETO)\n",
    "        # PEGAMOS O ARGUMENTO, NESSE CASO = breed\n",
    "        # Designa usando self.nome_atributo\n",
    "\n",
    "        # ESPERA-SE STRING\n",
    "        self.breed = breed\n",
    "        self.name = name\n",
    "        \n",
    "        # ESPERA-SE BOOLEAN (TRUE/FALSE)\n",
    "        self.spots = spots"
   ]
  },
  {
   "cell_type": "markdown",
   "id": "c262c14d-abb4-4187-8b91-73ae3746f7c0",
   "metadata": {},
   "source": [
    "    def __init__(self,breed,name,spots):\n",
    "                 (|var|,|argumentos|)\n",
    "        \n",
    "        self.breed = breed\n",
    "        |var|.|atributo| = |valor designado para o argumento|\n",
    "        \n",
    "        self.name = name"
   ]
  },
  {
   "cell_type": "code",
   "execution_count": 69,
   "id": "2c643cac-0540-434f-ab41-a62706e15a70",
   "metadata": {},
   "outputs": [],
   "source": [
    "#CRIANDO UMA INSTANCIA DA CLASSE\n",
    "my_dog = Dog(breed = \"Border\", name = \"Bartolomeu\", spots = False)"
   ]
  },
  {
   "cell_type": "code",
   "execution_count": 71,
   "id": "016006fa-1827-4801-a32b-056c3f1189f4",
   "metadata": {},
   "outputs": [
    {
     "name": "stdout",
     "output_type": "stream",
     "text": [
      "Border\n",
      "Bartolomeu\n",
      "False\n"
     ]
    }
   ],
   "source": [
    "print(my_dog.breed)\n",
    "print(my_dog.name)\n",
    "print(my_dog.spots)"
   ]
  },
  {
   "cell_type": "markdown",
   "id": "8083374a-d1d1-43fb-8b59-2034980e491b",
   "metadata": {},
   "source": [
    "#### 70. Object Oriented Programming - Class Object Attributes and Methods"
   ]
  },
  {
   "cell_type": "code",
   "execution_count": 125,
   "id": "92562531-5993-4ff5-b4de-43e0a12f2c78",
   "metadata": {},
   "outputs": [],
   "source": [
    "class Dog():\n",
    "\n",
    "    # ATRIBUTO DA CLASSE DO OBJETO\n",
    "    # O MESMO PARA TODAS INSTANCIAS(VARIAVEIS) DA CLASSE\n",
    "    species = \"Mamifero\"\n",
    "    \n",
    "    def __init__(self,breed,name,spots):\n",
    "        \n",
    "        self.breed = breed\n",
    "        self.name = name\n",
    "        self.spots = spots\n",
    "\n",
    "    # OPERAÇOES/AÇOES -----> MÉTODOs\n",
    "    def bark(self,number):\n",
    "        print(f\"Woof woof!!! My name is {self.name} and I'm {number} years old\")"
   ]
  },
  {
   "cell_type": "code",
   "execution_count": 127,
   "id": "d989153b-4c54-4f84-bad4-ec884b915bd7",
   "metadata": {},
   "outputs": [],
   "source": [
    "my_dog = Dog(breed = \"Border\", name = \"Bartolomeu\", spots = False)"
   ]
  },
  {
   "cell_type": "code",
   "execution_count": 129,
   "id": "256cd706-ce4d-4343-8bcd-fb4d2fe08a34",
   "metadata": {},
   "outputs": [
    {
     "data": {
      "text/plain": [
       "'Mamifero'"
      ]
     },
     "execution_count": 129,
     "metadata": {},
     "output_type": "execute_result"
    }
   ],
   "source": [
    "my_dog.species"
   ]
  },
  {
   "cell_type": "code",
   "execution_count": 131,
   "id": "1aa459af-3439-46e8-8a93-b50d3dc67879",
   "metadata": {},
   "outputs": [],
   "source": [
    "doggie = Dog(\"ViraLata\",\"Tigrao\", False)"
   ]
  },
  {
   "cell_type": "code",
   "execution_count": 133,
   "id": "846eef32-e84f-453c-aec9-5d97a23a023a",
   "metadata": {},
   "outputs": [
    {
     "data": {
      "text/plain": [
       "'ViraLata'"
      ]
     },
     "execution_count": 133,
     "metadata": {},
     "output_type": "execute_result"
    }
   ],
   "source": [
    "doggie.breed "
   ]
  },
  {
   "cell_type": "code",
   "execution_count": 135,
   "id": "fdba165d-a1a9-4bf7-a285-cdf975b10858",
   "metadata": {},
   "outputs": [
    {
     "name": "stdout",
     "output_type": "stream",
     "text": [
      "Woof woof!!! My name is Bartolomeu and I'm 11 years old\n"
     ]
    }
   ],
   "source": [
    "my_dog.bark(11)"
   ]
  },
  {
   "cell_type": "code",
   "execution_count": 204,
   "id": "fcd65f35-3c51-4aca-b5f0-4063132cea63",
   "metadata": {},
   "outputs": [],
   "source": [
    "class Circle():\n",
    "\n",
    "    # CLASS OBJECT ATTRIBUTE\n",
    "    # SHOULD BE TRUE TO ALL INSTANCES OF THE CLASS\n",
    "    pi = 3.14\n",
    "    def __init__(self,radius=1):\n",
    "\n",
    "        self.radius = radius\n",
    "\n",
    "        \n",
    "        self.area = self.pi * radius**2\n",
    "        # IF IT'S A CLASS OBJECT ATTRIBUTE: self.pi = Circle.pi\n",
    "        self.area = Circle.pi * radius**2\n",
    "        # BETTER FOR READABILITY \n",
    "    # METHOD \n",
    "    def get_circumference(self):\n",
    "\n",
    "        return self.radius * self.pi * 2"
   ]
  },
  {
   "cell_type": "code",
   "execution_count": 196,
   "id": "3afecee8-e990-48f0-a234-4579aced926a",
   "metadata": {},
   "outputs": [],
   "source": [
    "my_circle = Circle(30)"
   ]
  },
  {
   "cell_type": "code",
   "execution_count": 198,
   "id": "fc9e5af8-3d1d-4a87-bf99-001c2e1da8e2",
   "metadata": {},
   "outputs": [
    {
     "data": {
      "text/plain": [
       "188.4"
      ]
     },
     "execution_count": 198,
     "metadata": {},
     "output_type": "execute_result"
    }
   ],
   "source": [
    "my_circle.get_circumference()"
   ]
  },
  {
   "cell_type": "code",
   "execution_count": 200,
   "id": "cc1090d1-c192-4e8f-9b1d-97c3f87d617f",
   "metadata": {},
   "outputs": [
    {
     "data": {
      "text/plain": [
       "2826.0"
      ]
     },
     "execution_count": 200,
     "metadata": {},
     "output_type": "execute_result"
    }
   ],
   "source": [
    "my_circle.area"
   ]
  },
  {
   "cell_type": "markdown",
   "id": "da3cbef2-7097-4d7e-a3c3-d82412195ca4",
   "metadata": {},
   "source": [
    "#### 71. Object Oriented Programming - Inheritance and Polymorphism\r\n"
   ]
  },
  {
   "cell_type": "code",
   "execution_count": 235,
   "id": "e19e3ee6-7a21-41da-bad2-df79a38cd90e",
   "metadata": {},
   "outputs": [],
   "source": [
    "class Animal():\n",
    "    \n",
    "    def __init__(self):\n",
    "        print(\"Animal created!\")\n",
    "    def who_am_i(self):\n",
    "        print(\"I'm an animal\")\n",
    "    def eat(self):\n",
    "        print(\"I'm eating\")"
   ]
  },
  {
   "cell_type": "code",
   "execution_count": 237,
   "id": "a04a5ee1-8cf6-4c36-ac4b-b4e4f8f3c095",
   "metadata": {},
   "outputs": [
    {
     "name": "stdout",
     "output_type": "stream",
     "text": [
      "Animal created!\n"
     ]
    }
   ],
   "source": [
    "myanimal = Animal()"
   ]
  },
  {
   "cell_type": "code",
   "execution_count": 239,
   "id": "d759da39-ea37-4eb3-ad05-d0178734a268",
   "metadata": {},
   "outputs": [
    {
     "name": "stdout",
     "output_type": "stream",
     "text": [
      "I'm eating\n",
      "I'm an animal\n"
     ]
    }
   ],
   "source": [
    "myanimal.eat()\n",
    "myanimal.who_am_i()"
   ]
  },
  {
   "cell_type": "code",
   "execution_count": 253,
   "id": "9c7a51c5-5e26-4e9e-8357-d392a208f517",
   "metadata": {},
   "outputs": [],
   "source": [
    "#INHERITING Animal CLASS\n",
    "class Dog(Animal):\n",
    "    \n",
    "    def __init__(self):\n",
    "        Animal.__init__(self)\n",
    "        print(\"Dog created!\")\n",
    "\n",
    "    #OVERWRITTING A METHOD/ATTRIBUTE\n",
    "    def who_am_i(self):\n",
    "        print(\"I'm a dog\")\n",
    "\n",
    "    def bark(self):\n",
    "        print(\"WOOF WOOF\")"
   ]
  },
  {
   "cell_type": "code",
   "execution_count": 255,
   "id": "333cae73-7328-43bc-ba47-ab6504cb401c",
   "metadata": {},
   "outputs": [
    {
     "name": "stdout",
     "output_type": "stream",
     "text": [
      "Animal created!\n",
      "Dog created!\n"
     ]
    }
   ],
   "source": [
    "new_dog = Dog()"
   ]
  },
  {
   "cell_type": "code",
   "execution_count": 257,
   "id": "ff5d719c-ca34-4e2c-8823-4e741e7d6ab9",
   "metadata": {},
   "outputs": [
    {
     "name": "stdout",
     "output_type": "stream",
     "text": [
      "I'm eating\n"
     ]
    }
   ],
   "source": [
    "new_dog.eat()"
   ]
  },
  {
   "cell_type": "code",
   "execution_count": 259,
   "id": "aea319bc-fbdd-44a3-ba16-04373ff979ad",
   "metadata": {},
   "outputs": [
    {
     "name": "stdout",
     "output_type": "stream",
     "text": [
      "I'm a dog\n"
     ]
    }
   ],
   "source": [
    "new_dog.who_am_i()"
   ]
  },
  {
   "cell_type": "code",
   "execution_count": 261,
   "id": "1ead58a3-2b4a-4e03-b9a7-b6dfe4ef12f4",
   "metadata": {},
   "outputs": [
    {
     "name": "stdout",
     "output_type": "stream",
     "text": [
      "I'm an animal\n"
     ]
    }
   ],
   "source": [
    "myanimal.who_am_i()"
   ]
  },
  {
   "cell_type": "code",
   "execution_count": 265,
   "id": "7a6c1898-b1f0-48e0-a5cd-ce40f1b93173",
   "metadata": {},
   "outputs": [
    {
     "name": "stdout",
     "output_type": "stream",
     "text": [
      "WOOF WOOF\n"
     ]
    }
   ],
   "source": [
    "new_dog.bark()"
   ]
  },
  {
   "cell_type": "markdown",
   "id": "b38c0703-a903-4e33-a8b5-63da2fcff18f",
   "metadata": {},
   "source": [
    "##### POLYMORPHISM\n",
    "###### Later to use"
   ]
  },
  {
   "cell_type": "code",
   "execution_count": 288,
   "id": "8fe92294-22f1-48d4-adbd-47936b3a33c2",
   "metadata": {},
   "outputs": [],
   "source": [
    "class Dog():\n",
    "\n",
    "    def __init__(self,name):\n",
    "        self.name = name\n",
    "\n",
    "    def speak(self):\n",
    "        return self.name + \" says WOOF WOOF\""
   ]
  },
  {
   "cell_type": "code",
   "execution_count": 290,
   "id": "46cfc1b7-affd-4e21-8576-bf10718a195a",
   "metadata": {},
   "outputs": [],
   "source": [
    "class Cat():\n",
    "\n",
    "    def __init__(self,name):\n",
    "        self.name = name\n",
    "\n",
    "    def speak(self):\n",
    "        return self.name + \" says MEOW MEOW\""
   ]
  },
  {
   "cell_type": "code",
   "execution_count": 292,
   "id": "38e0fbe6-fcd2-4b4e-ae6f-02f1db4c2797",
   "metadata": {},
   "outputs": [],
   "source": [
    "niko = Dog(\"Niko\")\n",
    "felix = Cat(\"Felix\")"
   ]
  },
  {
   "cell_type": "code",
   "execution_count": 300,
   "id": "f35add48-8122-4b4f-9415-669dad5b597d",
   "metadata": {},
   "outputs": [
    {
     "data": {
      "text/plain": [
       "'Niko says WOOF WOOF'"
      ]
     },
     "execution_count": 300,
     "metadata": {},
     "output_type": "execute_result"
    }
   ],
   "source": [
    "niko.speak()"
   ]
  },
  {
   "cell_type": "code",
   "execution_count": 298,
   "id": "fd6e3674-e0a3-4a8f-80a0-3edca5627b53",
   "metadata": {},
   "outputs": [
    {
     "data": {
      "text/plain": [
       "'Felix says MEOW MEOW'"
      ]
     },
     "execution_count": 298,
     "metadata": {},
     "output_type": "execute_result"
    }
   ],
   "source": [
    "felix.speak()"
   ]
  },
  {
   "cell_type": "code",
   "execution_count": 304,
   "id": "a314ed2c-0b04-4297-aac6-0b7720a85bde",
   "metadata": {},
   "outputs": [
    {
     "name": "stdout",
     "output_type": "stream",
     "text": [
      "<class '__main__.Dog'>\n",
      "Niko says WOOF WOOF\n",
      "<class '__main__.Cat'>\n",
      "Felix says MEOW MEOW\n"
     ]
    }
   ],
   "source": [
    "for pet in [niko,felix]:\n",
    "    print(type(pet))\n",
    "    print(pet.speak())"
   ]
  },
  {
   "cell_type": "code",
   "execution_count": 306,
   "id": "a6c4b93c-8723-45e0-a685-461ff3584696",
   "metadata": {},
   "outputs": [],
   "source": [
    "def pet_speak(pet):\n",
    "    print(pet.speak())"
   ]
  },
  {
   "cell_type": "code",
   "execution_count": 308,
   "id": "95874fc8-d137-4bbb-86a0-1d4479c99a55",
   "metadata": {},
   "outputs": [
    {
     "name": "stdout",
     "output_type": "stream",
     "text": [
      "Niko says WOOF WOOF\n"
     ]
    }
   ],
   "source": [
    "pet_speak(niko)"
   ]
  },
  {
   "cell_type": "code",
   "execution_count": 310,
   "id": "f0d4d66b-5a39-4de6-8e74-1515ead4a41f",
   "metadata": {},
   "outputs": [
    {
     "name": "stdout",
     "output_type": "stream",
     "text": [
      "Felix says MEOW MEOW\n"
     ]
    }
   ],
   "source": [
    "pet_speak(felix)"
   ]
  },
  {
   "cell_type": "code",
   "execution_count": 338,
   "id": "c19015b5-5b12-458a-a3c8-f2c5d67eefe8",
   "metadata": {},
   "outputs": [],
   "source": [
    "class Animal():\n",
    "\n",
    "    def __init__(self,name):\n",
    "        self.name = name\n",
    "    \n",
    "    def speak(self):\n",
    "        raise NotImplementedError(\"Subclass MUST implement this abstract method\")"
   ]
  },
  {
   "cell_type": "code",
   "execution_count": 340,
   "id": "d65632e1-b2d7-4547-84e5-0eb25640e750",
   "metadata": {},
   "outputs": [],
   "source": [
    "myanimal = Animal(\"Leao\")"
   ]
  },
  {
   "cell_type": "code",
   "execution_count": 342,
   "id": "12145b82-29d3-44ce-850a-b37140cbdb7a",
   "metadata": {},
   "outputs": [
    {
     "ename": "NotImplementedError",
     "evalue": "Subclass MUST implement this abstract method",
     "output_type": "error",
     "traceback": [
      "\u001b[1;31m---------------------------------------------------------------------------\u001b[0m",
      "\u001b[1;31mNotImplementedError\u001b[0m                       Traceback (most recent call last)",
      "Cell \u001b[1;32mIn[342], line 1\u001b[0m\n\u001b[1;32m----> 1\u001b[0m myanimal\u001b[38;5;241m.\u001b[39mspeak()\n",
      "Cell \u001b[1;32mIn[338], line 7\u001b[0m, in \u001b[0;36mAnimal.speak\u001b[1;34m(self)\u001b[0m\n\u001b[0;32m      6\u001b[0m \u001b[38;5;28;01mdef\u001b[39;00m \u001b[38;5;21mspeak\u001b[39m(\u001b[38;5;28mself\u001b[39m):\n\u001b[1;32m----> 7\u001b[0m     \u001b[38;5;28;01mraise\u001b[39;00m \u001b[38;5;167;01mNotImplementedError\u001b[39;00m(\u001b[38;5;124m\"\u001b[39m\u001b[38;5;124mSubclass MUST implement this abstract method\u001b[39m\u001b[38;5;124m\"\u001b[39m)\n",
      "\u001b[1;31mNotImplementedError\u001b[0m: Subclass MUST implement this abstract method"
     ]
    }
   ],
   "source": [
    "myanimal.speak()"
   ]
  },
  {
   "cell_type": "code",
   "execution_count": 344,
   "id": "3d0fc18a-aa42-4446-8a3d-7c5f08dab189",
   "metadata": {},
   "outputs": [],
   "source": [
    "class Dog(Animal):\n",
    "\n",
    "    def speak(self):\n",
    "        return self.name + \" says WOOF WOOF\""
   ]
  },
  {
   "cell_type": "code",
   "execution_count": 346,
   "id": "d0c18aa8-a0a4-41db-8aed-8958f60fe326",
   "metadata": {},
   "outputs": [],
   "source": [
    "class Cat(Animal):\n",
    "\n",
    "    def speak(self):\n",
    "        return self.name + \" says MEOW MEOW\""
   ]
  },
  {
   "cell_type": "code",
   "execution_count": 348,
   "id": "a56bb4dd-a845-408f-99bb-320268e3e8a0",
   "metadata": {},
   "outputs": [],
   "source": [
    "fido = Dog(\"Fido\")"
   ]
  },
  {
   "cell_type": "code",
   "execution_count": 350,
   "id": "97608c31-cde2-4fe5-956c-43a1fb5ecf92",
   "metadata": {},
   "outputs": [],
   "source": [
    "isis = Cat(\"Isis\")"
   ]
  },
  {
   "cell_type": "code",
   "execution_count": 354,
   "id": "0742218d-d9ea-40c7-b985-2a1fec4bb725",
   "metadata": {},
   "outputs": [
    {
     "data": {
      "text/plain": [
       "'Fido says WOOF WOOF'"
      ]
     },
     "execution_count": 354,
     "metadata": {},
     "output_type": "execute_result"
    }
   ],
   "source": [
    "fido.speak()"
   ]
  },
  {
   "cell_type": "code",
   "execution_count": 356,
   "id": "3ad14cef-f81d-4294-97ed-2ba464d87009",
   "metadata": {},
   "outputs": [
    {
     "data": {
      "text/plain": [
       "'Isis says MEOW MEOW'"
      ]
     },
     "execution_count": 356,
     "metadata": {},
     "output_type": "execute_result"
    }
   ],
   "source": [
    "isis.speak()"
   ]
  },
  {
   "cell_type": "markdown",
   "id": "1ba661a7-ea5f-429c-a2b1-9c728dd9ae32",
   "metadata": {},
   "source": [
    "#### 72. Object Oriented Programming - Special (Magic/Dunder) Methods\r\n"
   ]
  },
  {
   "cell_type": "code",
   "execution_count": 445,
   "id": "e7ed937b-3b6f-46d5-8326-3fe1a1f03324",
   "metadata": {},
   "outputs": [],
   "source": [
    "# MAIN SPECIAL METHODS\n",
    "class Book():\n",
    "    \n",
    "    def __init__(self,title,author,pages):\n",
    "        self.title = title\n",
    "        self.author = author\n",
    "        self.pages = pages\n",
    "\n",
    "    def __str__(self):\n",
    "        return f\"{self.title} by {self.author}\"\n",
    "\n",
    "    def __len__(self):\n",
    "        return self.pages\n",
    "\n",
    "    def __del__(self):\n",
    "        print(\"A book object has been deleted!\")"
   ]
  },
  {
   "cell_type": "code",
   "execution_count": 436,
   "id": "2f198f17-419c-447f-88f5-c0be65aed352",
   "metadata": {},
   "outputs": [],
   "source": [
    "b = Book(\"A Casa Caiu\",\"Gustavo Lage\", 150)"
   ]
  },
  {
   "cell_type": "code",
   "execution_count": 438,
   "id": "fde0483d-412d-4947-b07c-f97f1bacea87",
   "metadata": {},
   "outputs": [
    {
     "name": "stdout",
     "output_type": "stream",
     "text": [
      "A Casa Caiu by Gustavo Lage\n"
     ]
    }
   ],
   "source": [
    "print(b)"
   ]
  },
  {
   "cell_type": "code",
   "execution_count": 440,
   "id": "df0f63e6-0030-4a11-a209-246a62c41c9a",
   "metadata": {},
   "outputs": [
    {
     "data": {
      "text/plain": [
       "150"
      ]
     },
     "execution_count": 440,
     "metadata": {},
     "output_type": "execute_result"
    }
   ],
   "source": [
    "len(b)"
   ]
  },
  {
   "cell_type": "code",
   "execution_count": 442,
   "id": "14431ff8-3065-4fad-958a-64b5158bb665",
   "metadata": {},
   "outputs": [
    {
     "name": "stdout",
     "output_type": "stream",
     "text": [
      "A book object has been deleted!\n"
     ]
    }
   ],
   "source": [
    "# DELETA UMA VARIAVEL \n",
    "del b"
   ]
  }
 ],
 "metadata": {
  "kernelspec": {
   "display_name": "Python 3 (ipykernel)",
   "language": "python",
   "name": "python3"
  },
  "language_info": {
   "codemirror_mode": {
    "name": "ipython",
    "version": 3
   },
   "file_extension": ".py",
   "mimetype": "text/x-python",
   "name": "python",
   "nbconvert_exporter": "python",
   "pygments_lexer": "ipython3",
   "version": "3.11.7"
  }
 },
 "nbformat": 4,
 "nbformat_minor": 5
}
