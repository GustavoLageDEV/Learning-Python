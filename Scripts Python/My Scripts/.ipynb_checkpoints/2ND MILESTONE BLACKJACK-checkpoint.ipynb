{
 "cells": [
  {
   "cell_type": "markdown",
   "id": "ffe311e9-11cb-4dde-bda6-bfe90f175924",
   "metadata": {},
   "source": [
    "SIMPLE VERSION OF BLACKJACK\n",
    "1 HUMAM PLAYER \n",
    "1 PC DEALER\n",
    "HUMAM BANKROLL\n",
    "\n",
    "WINS WHO GETS CLOSER TO A TOTAL VALUE OF 21\n",
    "\n",
    "BASIC CONCEPT\n",
    "\n",
    " DECK 52 CARDS\n",
    " PLACE BETS\n",
    " DEALER 2 CARDS: 1 FACE UP - 1 FACE DOWN\n",
    " PLAYER 2 CARDS FACE UP\n",
    "\n",
    "A - PLAYER GOES FIRST\n",
    "\n",
    " 2 POSSIBLE ACTIONS: 1 - HIT (RECEIVE ANOTHER CARD)\n",
    "                     2 - STAY (STOP RECEIVING CARDS)\n",
    "\n",
    " GOING TO IGNORE ACTIONS LIKE INSURANCE, SPLIT OR DOUBLE-DOWN\n",
    "\n",
    "B - AFTER PLAYER'S TURN, IF PLAYER IS UNDER 21, DEALER HITS UNTIL HE BEAT THE PLAYER OR BUSTS.\n",
    "\n",
    "C - PLAYER > 21 = BUSTS\n",
    "    21 > DEALER > PLAYER = DEALER WINS\n",
    "    21 > PLAYER > DEALER = PLAYER WINS (DEALER IS GONNA BUST > 21)\n",
    "\n",
    "SPECIAL RULES TO IMPLEMENT: FACE CARDS (K, Q AND J) VALUES = 10\n",
    "ACES (A) VALUE 1 OR 11, WHICHEVER IS BEST"
   ]
  },
  {
   "cell_type": "code",
   "execution_count": 1,
   "id": "742ce0cf-387a-4fb9-a121-d7864aa5ecaf",
   "metadata": {},
   "outputs": [],
   "source": [
    "import random\n",
    "from IPython.display import clear_output\n",
    "\n",
    "\n",
    "suits = ('Hearts', 'Diamonds', 'Spades', 'Clubs')\n",
    "ranks = ('Two', 'Three', 'Four', 'Five', 'Six', 'Seven', 'Eight', 'Nine', 'Ten', 'Jack', 'Queen', 'King', 'Ace')\n",
    "values = {'Two':2, 'Three':3, 'Four':4, 'Five':5, 'Six':6, 'Seven':7, 'Eight':8, \n",
    "            'Nine':9, 'Ten':10, 'Jack':10, 'Queen':10, 'King':10, 'Ace':11}"
   ]
  },
  {
   "cell_type": "code",
   "execution_count": 2,
   "id": "2b057298-020e-4616-80cb-41c30aa94785",
   "metadata": {},
   "outputs": [],
   "source": [
    "class Card():\n",
    "    \n",
    "    \n",
    "    def __init__(self,suit,rank):\n",
    "        self.suit = suit\n",
    "        self.rank = rank\n",
    "        self.value = values[rank]\n",
    "\n",
    "    \n",
    "    def __str__(self):\n",
    "        return f\"{self.rank} of {self.suit}\"\n",
    "\n",
    "    \n",
    "    def __int__(self):\n",
    "        return self.value"
   ]
  },
  {
   "cell_type": "code",
   "execution_count": 3,
   "id": "1cb4a561-44ef-4124-b890-237573c3a1e2",
   "metadata": {},
   "outputs": [],
   "source": [
    "class Deck():\n",
    "    \n",
    "    \n",
    "    def __init__(self):\n",
    "        \n",
    "        self.all_cards = []\n",
    "        \n",
    "        for suit in suits:\n",
    "            for rank in ranks:\n",
    "                self.all_cards.append(Card(suit,rank))\n",
    "                \n",
    "\n",
    "    def shuffle_deck(self):\n",
    "        \n",
    "        random.shuffle(self.all_cards)\n",
    "        \n",
    "\n",
    "    def deal_one(self):\n",
    "        return self.all_cards.pop()"
   ]
  },
  {
   "cell_type": "code",
   "execution_count": 4,
   "id": "bf81cf74-7976-48cf-b75d-9c5ca51d979b",
   "metadata": {},
   "outputs": [],
   "source": [
    "class Player():\n",
    "    \n",
    "\n",
    "    def __init__(self,name):\n",
    "        self.name = name\n",
    "        self.all_cards = []\n",
    "        \n",
    "\n",
    "    def add_cards(self,new_cards):\n",
    "        if type(new_cards) == type([]):\n",
    "            # add multiple card objects\n",
    "            return self.all_cards.extend(new_cards)\n",
    "        else:\n",
    "            # add a single card object\n",
    "            return self.all_cards.append(new_cards)\n",
    "            \n",
    "\n",
    "    def __str__(self):\n",
    "        print(f\"\\n{self.name}'s cards:\")\n",
    "        for card in self.all_cards:\n",
    "            print(card)\n",
    "        return f\"Hand's Value: {self.hand_value}\"\n",
    "        \n",
    " \n",
    "    def calc_hand_value(self):\n",
    "        self.hand_value = 0\n",
    "        for card in self.all_cards:\n",
    "            self.hand_value += card.value\n",
    "\n",
    "        return self.hand_value"
   ]
  },
  {
   "cell_type": "code",
   "execution_count": 5,
   "id": "04469130-1506-432b-868d-6be4f960c649",
   "metadata": {},
   "outputs": [],
   "source": [
    "def check_bust(player):\n",
    "    if player.hand_value <= 21:\n",
    "        return False\n",
    "    else:\n",
    "        for card in player.all_cards:\n",
    "            if card.rank == \"Ace\":\n",
    "                player.hand_value -= 10\n",
    "                \n",
    "            if player.hand_value <= 21:\n",
    "                return False\n",
    "        else:\n",
    "            print(f\"\\n{player.name} has BUSTED.\")\n",
    "            return True\n",
    "     "
   ]
  },
  {
   "cell_type": "code",
   "execution_count": 18,
   "id": "7f8e8e01-4750-4239-ae0b-4fe4c3f4dd21",
   "metadata": {},
   "outputs": [],
   "source": [
    "def gameon_choice():\n",
    "    choice = \"Wrong!\"\n",
    "    choice_list = [\"Y\",\"N\"]\n",
    "\n",
    "    while choice not in choice_list:\n",
    "        choice = input(\"\\nWould you like to keep playing? Y ou N\")\n",
    "        choice = choice.upper()\n",
    "        if choice not in choice_list:\n",
    "            print(\"Need a valid entry: y/n\")\n",
    "\n",
    "    if choice == \"Y\":\n",
    "        return True\n",
    "    else:\n",
    "        return False "
   ]
  },
  {
   "cell_type": "code",
   "execution_count": 22,
   "id": "5da7d157-8c5e-4be2-bc32-50fe4d21339b",
   "metadata": {},
   "outputs": [
    {
     "name": "stdin",
     "output_type": "stream",
     "text": [
      "Add an amount to your bankroll:  100\n"
     ]
    },
    {
     "name": "stdout",
     "output_type": "stream",
     "text": [
      "Bankroll = 100\n",
      "\n"
     ]
    },
    {
     "name": "stdin",
     "output_type": "stream",
     "text": [
      "How much do you wish to bet? 500\n"
     ]
    },
    {
     "name": "stdout",
     "output_type": "stream",
     "text": [
      "Insufficient funds for bet. Bankroll = 100\n"
     ]
    },
    {
     "name": "stdin",
     "output_type": "stream",
     "text": [
      "How much do you wish to bet? 5\n"
     ]
    },
    {
     "name": "stdout",
     "output_type": "stream",
     "text": [
      "Your Bet: 5\n",
      "\n",
      "Dealer's cards:\n",
      "Ten of Spades\n",
      "???????????????\n",
      "\n",
      "Player's cards:\n",
      "Queen of Spades\n",
      "King of Hearts\n",
      "Hand's Value: 20\n"
     ]
    },
    {
     "name": "stdin",
     "output_type": "stream",
     "text": [
      "\n",
      "Do you wish to HIT one more? y/n \n",
      " n\n"
     ]
    },
    {
     "name": "stdout",
     "output_type": "stream",
     "text": [
      "\n",
      "Player's cards:\n",
      "Queen of Spades\n",
      "King of Hearts\n",
      "\n",
      "You stopped.\n",
      "Hand's Value: 20\n",
      "\n",
      "Dealer's cards:\n",
      "Ten of Spades\n",
      "Queen of Clubs\n",
      "Hand's Value: 20\n",
      "\n",
      "Dealer's cards:\n",
      "Ten of Spades\n",
      "Queen of Clubs\n",
      "Seven of Clubs\n",
      "Hand's Value: 27\n",
      "\n",
      "Dealer has BUSTED.\n",
      "Player has WON! + 10 to bankroll.\n"
     ]
    },
    {
     "name": "stdin",
     "output_type": "stream",
     "text": [
      "\n",
      "Would you like to keep playing? Y ou N n\n"
     ]
    },
    {
     "name": "stdout",
     "output_type": "stream",
     "text": [
      "End of game.\n"
     ]
    }
   ],
   "source": [
    "# MY ORIGINAL SOLUTION FROM SCRECTH\n",
    "\n",
    "# BANKROLL FUNDS\n",
    "bankroll = 0\n",
    "while bankroll == 0:\n",
    "    try:\n",
    "        bankroll = int(input(\"Add an amount to your bankroll: \"))\n",
    "    except:\n",
    "        print(\"Error, an integer value is needed\")\n",
    "    finally:\n",
    "        print(f\"Bankroll = {bankroll}\\n\")\n",
    "\n",
    "game_on = True\n",
    "while game_on:\n",
    "    # BET\n",
    "    bet = 0\n",
    "    while  bet == 0:\n",
    "        try:    \n",
    "            bet = int(input(\"How much do you wish to bet?\"))\n",
    "            if bet > bankroll:\n",
    "                print(f\"Insufficient funds for bet. Bankroll = {bankroll}\") \n",
    "                bet = 0\n",
    "            else:\n",
    "                bankroll -= bet\n",
    "                print(f\"Your Bet: {bet}\\n\")\n",
    "        except:  \n",
    "            print(\"Error, an integer value is needed\")\n",
    "            \n",
    "    # DECK SHUFFLE\n",
    "    bjack_deck = Deck()\n",
    "    bjack_deck.shuffle_deck()\n",
    "    \n",
    "    # DEALER CARDS\n",
    "    dealer = Player(\"Dealer\")\n",
    "    player = Player(\"Player\")\n",
    "    \n",
    "    for number in range(2):\n",
    "        dealer.add_cards(bjack_deck.deal_one())\n",
    "        player.add_cards(bjack_deck.deal_one())\n",
    "    # SEE VALUE OF HANDS\n",
    "    dealer.calc_hand_value()\n",
    "    player.calc_hand_value()\n",
    "    \n",
    "    # DISPLAY CARDS\n",
    "    print(\"Dealer's cards:\")\n",
    "    for card in dealer.all_cards[:-1]:\n",
    "        print(card)\n",
    "    print(\"?\"*15)\n",
    "    \n",
    "    print(player)\n",
    "    \n",
    "    bust = False\n",
    "    \n",
    "    play = \"Wrong\"\n",
    "    while play != 'n' and not bust:\n",
    "        # PLAYER'S TURN    \n",
    "        play = input(\"\\nDo you wish to HIT one more? y/n \\n\")\n",
    "        play = play.lower()\n",
    "            \n",
    "        if play == \"y\":\n",
    "            player.add_cards(bjack_deck.deal_one())\n",
    "            player.calc_hand_value()\n",
    "            print(player)\n",
    "            bust = check_bust(player)\n",
    "        elif play == \"n\":\n",
    "            print(f\"\\nYou stopped.\\n{player}\")\n",
    "        else:\n",
    "            print(\"Need a valid entry: y/n\")\n",
    "    \n",
    "    # DEALER'S TURN\n",
    "    print(dealer)\n",
    "    while not bust:\n",
    "        if dealer.hand_value <= player.hand_value:\n",
    "            dealer.add_cards(bjack_deck.deal_one())\n",
    "            dealer.calc_hand_value()\n",
    "            print(dealer)\n",
    "            bust = check_bust(dealer)\n",
    "        elif player.hand_value < dealer.hand_value <= 21:\n",
    "            print(\"\\nDealer has WON!\")\n",
    "            print(f\"Bankroll = {bankroll}\\n\")\n",
    "            break\n",
    "\n",
    "    if 21 >= player.hand_value > dealer.hand_value or dealer.hand_value > 21:\n",
    "        print(f\"Player has WON! + {bet*2} to bankroll.\")\n",
    "        bankroll += bet*2\n",
    "\n",
    "    game_on = gameon_choice()\n",
    "\n",
    "    while bankroll == 0:\n",
    "        try:\n",
    "            bankroll = int(input(\"Bankroll out of funds, if you wants to keep playing, add more: \"))\n",
    "            if bankroll == 0:\n",
    "                game_on = False\n",
    "                break\n",
    "        except:\n",
    "            print(\"Error, an integer value is needed\")\n",
    "        finally:\n",
    "            print(f\"Bankroll = {bankroll}\\n\")\n",
    "        \n",
    "\n",
    "\n",
    "print(\"End of game.\")\n",
    "            "
   ]
  },
  {
   "cell_type": "code",
   "execution_count": 21,
   "id": "ee8a52ef-079d-4afb-913e-73fe7793cb55",
   "metadata": {},
   "outputs": [
    {
     "name": "stdout",
     "output_type": "stream",
     "text": [
      "90\n"
     ]
    }
   ],
   "source": [
    "print(bankroll)"
   ]
  },
  {
   "cell_type": "code",
   "execution_count": 8,
   "id": "e5307737-9641-4417-9ca4-5daa6ffe46c5",
   "metadata": {},
   "outputs": [
    {
     "name": "stdout",
     "output_type": "stream",
     "text": [
      "\n",
      "Dealer's cards:\n",
      "King of Diamonds\n",
      "Nine of Clubs\n",
      "Hand's Value: 19\n"
     ]
    }
   ],
   "source": [
    "print(dealer)"
   ]
  },
  {
   "cell_type": "code",
   "execution_count": null,
   "id": "678b2f9c-cd8e-4387-95aa-4789c512c56c",
   "metadata": {},
   "outputs": [],
   "source": []
  },
  {
   "cell_type": "code",
   "execution_count": null,
   "id": "58cc4a95-4bca-4e5d-9a5b-6a0e5854cf25",
   "metadata": {},
   "outputs": [],
   "source": []
  }
 ],
 "metadata": {
  "kernelspec": {
   "display_name": "Python 3 (ipykernel)",
   "language": "python",
   "name": "python3"
  },
  "language_info": {
   "codemirror_mode": {
    "name": "ipython",
    "version": 3
   },
   "file_extension": ".py",
   "mimetype": "text/x-python",
   "name": "python",
   "nbconvert_exporter": "python",
   "pygments_lexer": "ipython3",
   "version": "3.12.4"
  }
 },
 "nbformat": 4,
 "nbformat_minor": 5
}
