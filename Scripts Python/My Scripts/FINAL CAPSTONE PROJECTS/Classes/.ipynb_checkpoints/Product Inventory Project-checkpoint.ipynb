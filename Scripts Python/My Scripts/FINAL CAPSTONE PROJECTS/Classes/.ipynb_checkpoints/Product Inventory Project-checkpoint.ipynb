{
 "cells": [
  {
   "cell_type": "markdown",
   "id": "c445e282-242d-4b13-8a9a-1904a755dc30",
   "metadata": {},
   "source": [
    "**Product Inventory Project** - Create an application which manages an inventory of products. Create a product class which has a price, id, and quantity on hand. Then create an *inventory* class which keeps track of various products and can sum up the inventory value. [[Drhealsgood (Python)]](https://github.com/Drhealsgood/miniprojects/blob/master/class_projects/product_inventory/product_inventory.py) "
   ]
  },
  {
   "cell_type": "code",
   "execution_count": 32,
   "id": "421899ae-4e2e-420e-a566-4b657ed1824e",
   "metadata": {},
   "outputs": [],
   "source": [
    "class Product():\n",
    "\n",
    "    def __init__(self,name,price,quantity=0):\n",
    "\n",
    "        self.name = name.capitalize()\n",
    "        self.price = price\n",
    "        self.quantity = quantity\n",
    "        self.value = round(quantity*price,2)\n",
    "        self.id = 0\n",
    "\n",
    "    def change_price(self,new_price):\n",
    "        self.price = new_price\n",
    "        self.value = round(self.quantity*self.price,2)\n",
    "\n",
    "    def add_quantity(self,qtd):\n",
    "        self.quantity += qtd\n",
    "        self.value = round(self.quantity*self.price,2)\n",
    "\n",
    "    def remove_quantity(self,qtd):\n",
    "        self.quantity -= qtd\n",
    "        self.value = round(self.quantity*self.price,2)\n",
    "\n",
    "    def __str__(self):\n",
    "        \n",
    "        return self.name.capitalize()\n",
    "\n",
    "        \n",
    "\n",
    "class Inventory():\n",
    "\n",
    "    def __init__(self):\n",
    "\n",
    "        self.all_products = set() # PRODUCTS OBJECTS \n",
    "\n",
    "    def find_product(self,id): # FUNCTION TO FIND A PRODUCT BY ID.\n",
    "\n",
    "        for product in self.all_products:\n",
    "            if product.id == id:\n",
    "                print(product)\n",
    "                return product\n",
    "\n",
    "    def add_product(self,input):\n",
    "\n",
    "        if type(input) == Product: # CHECK IF INPUT IS A PRODUCT OBJECT\n",
    "            \n",
    "            for product in self.all_products: # PASSING THROUGH ALL PRODUCTS IN STOCK\n",
    "                if input.name == product.name:# CHECK IF PRODUCT IS ALREADY REGISTERED IN\n",
    "                    product.add_quantity(input.quantity)# IF YES ADD QUANTITY\n",
    "                    print(f\"+ {input.quantity} {input.name} to stock.\")\n",
    "                    break\n",
    "                    \n",
    "            else: # IF NO, ADDS PRODUCT TO IT\n",
    "                self.all_products.add(input)\n",
    "                input.id = len(self.all_products)\n",
    "                print(f\"Product added to stock: ID: {input.id} Name: {input.name} Price: {input.price} Quantity: {input.quantity}\")\n",
    "                \n",
    "        elif type(input) == set or type(input) == list:\n",
    "            for new_product in input:\n",
    "                if type(new_product) == Product: # CHECK IF INPUT IS A PRODUCT OBJECT\n",
    "            \n",
    "                    for inv_product in self.all_products: # PASSING THROUGH ALL PRODUCTS IN STOCK\n",
    "                        if new_product.name == inv_product.name:# CHECK IF PRODUCT IS ALREADY REGISTERED IN\n",
    "                            inv_product.add_quantity(new_product.quantity) # IF YES ADD QUANTITY\n",
    "                            print(f\"+ {new_product.quantity} {new_product.name} to stock.\")\n",
    "                            break\n",
    "                        else:\n",
    "                            continue\n",
    "                    \n",
    "                    else: # IF NO, ADDS PRODUCT TO IT\n",
    "                        self.all_products.add(new_product)\n",
    "                        new_product.id = len(self.all_products)\n",
    "                        print(f\"Product added to stock: ID: {new_product.id} Name: {new_product.name} Price: {new_product.price} Quantity: {new_product.quantity}\")\n",
    "                else:  \n",
    "                    print(\"The input did not contain Products Objects. \")\n",
    "\n",
    "    def total_value(self):\n",
    "        sum = 0\n",
    "        for product in self.all_products:\n",
    "\n",
    "            sum += product.value\n",
    "        \n",
    "        return sum\n",
    "\n",
    "    def __str__(self):\n",
    "\n",
    "        for item in self.all_products:\n",
    "            print(f\"ID:{item.id} Product: {item.name} Price: {item.price} Quantity: {item.quantity} Value: {item.value}\")\n",
    "\n",
    "        return f\"\\nIventory's total value: {self.total_value()}\"\n",
    "\n",
    "if __name__ == \"__main__\":\n",
    "    "
   ]
  },
  {
   "cell_type": "code",
   "execution_count": 33,
   "id": "341adcf0-74dc-4c44-8aed-924a984db0c2",
   "metadata": {},
   "outputs": [],
   "source": [
    "myinventory = Inventory()"
   ]
  },
  {
   "cell_type": "code",
   "execution_count": 34,
   "id": "9414d56f-2103-46bc-a2ab-351845ef512c",
   "metadata": {},
   "outputs": [],
   "source": [
    "arroz = Product(\"Arroz\",7.99,350)\n",
    "feijao = Product(\"feijao\",9.99,120)\n",
    "farinha = Product(\"farinha\",6.99,300)\n",
    "\n",
    "carne = Product(\"carne\",24.99,200)\n",
    "alface = Product(\"alface\",5.99,500)\n",
    "arroz1 = Product(\"Arroz\",7.99,30)\n",
    "\n",
    "novos_produtos1 = [arroz,feijao,farinha]\n",
    "novos_produtos2 = [carne,alface,arroz1]"
   ]
  },
  {
   "cell_type": "code",
   "execution_count": 35,
   "id": "89c2f705-0378-450b-8e2c-b073678a68bb",
   "metadata": {},
   "outputs": [
    {
     "data": {
      "text/plain": [
       "set()"
      ]
     },
     "execution_count": 35,
     "metadata": {},
     "output_type": "execute_result"
    }
   ],
   "source": [
    "myinventory.all_products"
   ]
  },
  {
   "cell_type": "code",
   "execution_count": 36,
   "id": "fd3ee52c-b443-4a8b-a41c-d74bc87cb021",
   "metadata": {},
   "outputs": [
    {
     "name": "stdout",
     "output_type": "stream",
     "text": [
      "Product added to stock: ID: 1 Name: Arroz Price: 7.99 Quantity: 350\n",
      "Product added to stock: ID: 2 Name: Feijao Price: 9.99 Quantity: 120\n",
      "Product added to stock: ID: 3 Name: Farinha Price: 6.99 Quantity: 300\n"
     ]
    }
   ],
   "source": [
    "myinventory.add_product(novos_produtos1)"
   ]
  },
  {
   "cell_type": "code",
   "execution_count": 39,
   "id": "d792b322-9cba-401a-a66f-6b5d3572c4df",
   "metadata": {},
   "outputs": [
    {
     "name": "stdout",
     "output_type": "stream",
     "text": [
      "Arroz\n",
      "ID: 1\n",
      "Feijao\n",
      "ID: 2\n",
      "Farinha\n",
      "ID: 3\n"
     ]
    }
   ],
   "source": [
    "for id in range(1,len(myinventory.all_products)+1):\n",
    "    p = myinventory.find_product(id)\n",
    "    print( \"ID:\", p.id)\n",
    "    # ,p.id,p.price,p.quantity, p.total_value"
   ]
  },
  {
   "cell_type": "code",
   "execution_count": 38,
   "id": "55652855-25ab-45fd-8889-b977a01df37f",
   "metadata": {},
   "outputs": [
    {
     "name": "stdout",
     "output_type": "stream",
     "text": [
      "ID:1 Product: Arroz Price: 7.99 Quantity: 350 Value: 2796.5\n",
      "ID:2 Product: Feijao Price: 9.99 Quantity: 120 Value: 1198.8\n",
      "ID:3 Product: Farinha Price: 6.99 Quantity: 300 Value: 2097.0\n",
      "\n",
      "Iventory's total value: 6092.3\n"
     ]
    }
   ],
   "source": [
    "print(myinventory)\n"
   ]
  },
  {
   "cell_type": "code",
   "execution_count": 41,
   "id": "57fc440a-f424-4087-9d51-629a42861f37",
   "metadata": {},
   "outputs": [
    {
     "name": "stdout",
     "output_type": "stream",
     "text": [
      "Arroz\n"
     ]
    },
    {
     "data": {
      "text/plain": [
       "2796.5"
      ]
     },
     "execution_count": 41,
     "metadata": {},
     "output_type": "execute_result"
    }
   ],
   "source": [
    "myinventory.find_product(1).value"
   ]
  },
  {
   "cell_type": "code",
   "execution_count": null,
   "id": "ca3b5e04-daf8-4a86-b447-1e6cd1fc0632",
   "metadata": {},
   "outputs": [],
   "source": []
  }
 ],
 "metadata": {
  "kernelspec": {
   "display_name": "Python 3 (ipykernel)",
   "language": "python",
   "name": "python3"
  },
  "language_info": {
   "codemirror_mode": {
    "name": "ipython",
    "version": 3
   },
   "file_extension": ".py",
   "mimetype": "text/x-python",
   "name": "python",
   "nbconvert_exporter": "python",
   "pygments_lexer": "ipython3",
   "version": "3.12.4"
  }
 },
 "nbformat": 4,
 "nbformat_minor": 5
}
