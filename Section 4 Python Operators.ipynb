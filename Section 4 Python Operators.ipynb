{
 "cells": [
  {
   "cell_type": "code",
   "execution_count": 3,
   "id": "2afca64b-9194-4aac-b3ae-3be55f9744ce",
   "metadata": {},
   "outputs": [
    {
     "data": {
      "text/plain": [
       "True"
      ]
     },
     "execution_count": 3,
     "metadata": {},
     "output_type": "execute_result"
    }
   ],
   "source": [
    "1 == 1"
   ]
  },
  {
   "cell_type": "code",
   "execution_count": 5,
   "id": "5504c495-70c1-4be4-b050-854a87bec742",
   "metadata": {},
   "outputs": [
    {
     "data": {
      "text/plain": [
       "False"
      ]
     },
     "execution_count": 5,
     "metadata": {},
     "output_type": "execute_result"
    }
   ],
   "source": [
    "1 == 2"
   ]
  },
  {
   "cell_type": "code",
   "execution_count": 7,
   "id": "862b7152-1d70-47da-aa74-5c26e71db19c",
   "metadata": {},
   "outputs": [
    {
     "data": {
      "text/plain": [
       "False"
      ]
     },
     "execution_count": 7,
     "metadata": {},
     "output_type": "execute_result"
    }
   ],
   "source": [
    "1 != 1"
   ]
  },
  {
   "cell_type": "code",
   "execution_count": 9,
   "id": "3dba5714-a476-4d02-8853-dd722d5671cd",
   "metadata": {},
   "outputs": [
    {
     "data": {
      "text/plain": [
       "True"
      ]
     },
     "execution_count": 9,
     "metadata": {},
     "output_type": "execute_result"
    }
   ],
   "source": [
    "1 != 2"
   ]
  },
  {
   "cell_type": "code",
   "execution_count": 11,
   "id": "1bbaf3af-2b7c-4fc2-8dc6-a3e863d029f1",
   "metadata": {},
   "outputs": [
    {
     "data": {
      "text/plain": [
       "False"
      ]
     },
     "execution_count": 11,
     "metadata": {},
     "output_type": "execute_result"
    }
   ],
   "source": [
    "1+1 >= 2+2"
   ]
  },
  {
   "cell_type": "code",
   "execution_count": 13,
   "id": "e9d683de-ec6e-4f7f-bb78-9f65e3158a35",
   "metadata": {},
   "outputs": [
    {
     "data": {
      "text/plain": [
       "True"
      ]
     },
     "execution_count": 13,
     "metadata": {},
     "output_type": "execute_result"
    }
   ],
   "source": [
    "2 < 3"
   ]
  },
  {
   "cell_type": "code",
   "execution_count": 29,
   "id": "3561f266-2c12-40e3-882a-0d1f44d321cf",
   "metadata": {},
   "outputs": [
    {
     "data": {
      "text/plain": [
       "True"
      ]
     },
     "execution_count": 29,
     "metadata": {},
     "output_type": "execute_result"
    }
   ],
   "source": [
    "1 < 2"
   ]
  },
  {
   "cell_type": "code",
   "execution_count": 31,
   "id": "71ae8f74-3d2b-4a54-8e6c-f882c146d69d",
   "metadata": {},
   "outputs": [
    {
     "data": {
      "text/plain": [
       "True"
      ]
     },
     "execution_count": 31,
     "metadata": {},
     "output_type": "execute_result"
    }
   ],
   "source": [
    "1 < 2 < 3 \n",
    "#Mesma operaçao\n",
    "1 < 2 and 2 < 3"
   ]
  },
  {
   "cell_type": "code",
   "execution_count": 33,
   "id": "c810769f-1ca6-4495-9d06-0151ad729ce3",
   "metadata": {},
   "outputs": [
    {
     "data": {
      "text/plain": [
       "False"
      ]
     },
     "execution_count": 33,
     "metadata": {},
     "output_type": "execute_result"
    }
   ],
   "source": [
    "1 < 2 > 3\n",
    "1 < 2 and 2 > 3"
   ]
  },
  {
   "cell_type": "code",
   "execution_count": 35,
   "id": "1950d953-3c54-434f-b09c-0059a69eeead",
   "metadata": {},
   "outputs": [
    {
     "data": {
      "text/plain": [
       "True"
      ]
     },
     "execution_count": 35,
     "metadata": {},
     "output_type": "execute_result"
    }
   ],
   "source": [
    "1 == 1 != 2\n",
    "1 == 1 and 1 != 2"
   ]
  },
  {
   "cell_type": "code",
   "execution_count": 37,
   "id": "4e72d51b-ae78-44f5-b6bc-f38029738244",
   "metadata": {},
   "outputs": [
    {
     "data": {
      "text/plain": [
       "True"
      ]
     },
     "execution_count": 37,
     "metadata": {},
     "output_type": "execute_result"
    }
   ],
   "source": [
    "2 + 2 != 3 == 2 + 1\n",
    "2 + 2 != 3 and 3 == 2 + 1"
   ]
  },
  {
   "cell_type": "code",
   "execution_count": 41,
   "id": "e57ce156-4532-41e4-9fd0-f011aabc5fe6",
   "metadata": {},
   "outputs": [
    {
     "data": {
      "text/plain": [
       "True"
      ]
     },
     "execution_count": 41,
     "metadata": {},
     "output_type": "execute_result"
    }
   ],
   "source": [
    "1 < 2 or 2 > 3"
   ]
  },
  {
   "cell_type": "code",
   "execution_count": 43,
   "id": "36f5e2d0-9596-4cb7-bec4-0de5fb30fc7f",
   "metadata": {},
   "outputs": [
    {
     "data": {
      "text/plain": [
       "False"
      ]
     },
     "execution_count": 43,
     "metadata": {},
     "output_type": "execute_result"
    }
   ],
   "source": [
    "not (1==1)"
   ]
  },
  {
   "cell_type": "code",
   "execution_count": 45,
   "id": "19fabf9f-0694-4455-86bb-ed700d1f8cb0",
   "metadata": {},
   "outputs": [
    {
     "data": {
      "text/plain": [
       "True"
      ]
     },
     "execution_count": 45,
     "metadata": {},
     "output_type": "execute_result"
    }
   ],
   "source": [
    "not (2>3)"
   ]
  },
  {
   "cell_type": "code",
   "execution_count": null,
   "id": "fa261504-3bf5-4519-82de-a91e8ad8f58a",
   "metadata": {},
   "outputs": [],
   "source": []
  }
 ],
 "metadata": {
  "kernelspec": {
   "display_name": "Python 3 (ipykernel)",
   "language": "python",
   "name": "python3"
  },
  "language_info": {
   "codemirror_mode": {
    "name": "ipython",
    "version": 3
   },
   "file_extension": ".py",
   "mimetype": "text/x-python",
   "name": "python",
   "nbconvert_exporter": "python",
   "pygments_lexer": "ipython3",
   "version": "3.11.7"
  }
 },
 "nbformat": 4,
 "nbformat_minor": 5
}
