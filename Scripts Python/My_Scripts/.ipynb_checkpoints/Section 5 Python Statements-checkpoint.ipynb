{
 "cells": [
  {
   "cell_type": "code",
   "execution_count": 69,
   "id": "4bfd13eb-8e47-4d52-a67b-4d9feaff126c",
   "metadata": {},
   "outputs": [
    {
     "name": "stdout",
     "output_type": "stream",
     "text": [
      "400 é maior que 40\n"
     ]
    }
   ],
   "source": [
    "x = 400\n",
    "y = 40\n",
    "if x > y:\n",
    "    print(f\"{x} é maior que {y}\")\n",
    "elif x == y:\n",
    "    print(f\"{x} é igual a {y}\")\n",
    "else:\n",
    "    print(f\"{x} é menor que {y}\")"
   ]
  },
  {
   "cell_type": "code",
   "execution_count": 79,
   "id": "ef165b44-0ea1-43d1-b8a1-e595b6ae4d7d",
   "metadata": {},
   "outputs": [
    {
     "name": "stdout",
     "output_type": "stream",
     "text": [
      "Im okay\n"
     ]
    }
   ],
   "source": [
    "tired = False\n",
    "\n",
    "if tired:\n",
    "    print(\"Im going to sleep\")\n",
    "else:\n",
    "    print(\"Im okay\")\n",
    "    "
   ]
  },
  {
   "cell_type": "code",
   "execution_count": 89,
   "id": "21948dbd-4cbe-4f79-a168-be1f9ffd5322",
   "metadata": {},
   "outputs": [
    {
     "name": "stdout",
     "output_type": "stream",
     "text": [
      "Bem vindo\n"
     ]
    }
   ],
   "source": [
    "lang = \"pt-br\"\n",
    "if lang == \"en-us\":\n",
    "    print(\"Welcome\")\n",
    "elif lang == \"pt-br\":\n",
    "    print(\"Bem vindo\")\n",
    "else:\n",
    "    print(\"Error\")"
   ]
  },
  {
   "cell_type": "markdown",
   "id": "a0aaa4ce-579c-4c87-bcb9-7fc1ee1e84a8",
   "metadata": {},
   "source": [
    "#### FOR LOOPS"
   ]
  },
  {
   "cell_type": "code",
   "execution_count": 99,
   "id": "487fb6d6-19d6-48fa-916d-05991f4eb745",
   "metadata": {},
   "outputs": [],
   "source": [
    "mylist = [1,2,3,4,5,6,7,8,9,10]"
   ]
  },
  {
   "cell_type": "code",
   "execution_count": 101,
   "id": "e1ec4464-25d8-4d3d-8abd-7cc8d2845061",
   "metadata": {},
   "outputs": [
    {
     "name": "stdout",
     "output_type": "stream",
     "text": [
      "1\n",
      "2\n",
      "3\n",
      "4\n",
      "5\n",
      "6\n",
      "7\n",
      "8\n",
      "9\n",
      "10\n"
     ]
    }
   ],
   "source": [
    "for num in mylist:\n",
    "    print(num)"
   ]
  },
  {
   "cell_type": "code",
   "execution_count": 103,
   "id": "b1dd20ef-768c-42d0-9c3d-65e560482044",
   "metadata": {},
   "outputs": [
    {
     "name": "stdout",
     "output_type": "stream",
     "text": [
      "Hello\n",
      "Hello\n",
      "Hello\n",
      "Hello\n",
      "Hello\n",
      "Hello\n",
      "Hello\n",
      "Hello\n",
      "Hello\n",
      "Hello\n"
     ]
    }
   ],
   "source": [
    "for num in mylist:\n",
    "    print(\"Hello\")"
   ]
  },
  {
   "cell_type": "code",
   "execution_count": 107,
   "id": "e412df30-cf76-4776-bb06-a7e5b7e50bd5",
   "metadata": {},
   "outputs": [
    {
     "name": "stdout",
     "output_type": "stream",
     "text": [
      "1\n",
      "Odd value: 2\n",
      "3\n",
      "Odd value: 4\n",
      "5\n",
      "Odd value: 6\n",
      "7\n",
      "Odd value: 8\n",
      "9\n",
      "Odd value: 10\n"
     ]
    }
   ],
   "source": [
    "for num in mylist:\n",
    "    if num % 2 != 0:\n",
    "        print(num)\n",
    "    else:\n",
    "        print(f\"Odd value: {num}\")"
   ]
  },
  {
   "cell_type": "code",
   "execution_count": 112,
   "id": "fdaa5045-8c95-4124-bfe8-29a2a0b56ec0",
   "metadata": {},
   "outputs": [
    {
     "name": "stdout",
     "output_type": "stream",
     "text": [
      "55\n"
     ]
    }
   ],
   "source": [
    "list_sum = 0\n",
    "\n",
    "for num in mylist:\n",
    "    list_sum = list_sum + num \n",
    "print(list_sum)"
   ]
  },
  {
   "cell_type": "code",
   "execution_count": 114,
   "id": "d102f929-193d-4671-a95a-0c868b7e5124",
   "metadata": {},
   "outputs": [
    {
     "name": "stdout",
     "output_type": "stream",
     "text": [
      "1\n",
      "3\n",
      "6\n",
      "10\n",
      "15\n",
      "21\n",
      "28\n",
      "36\n",
      "45\n",
      "55\n"
     ]
    }
   ],
   "source": [
    "list_sum = 0\n",
    "\n",
    "for num in mylist:\n",
    "    list_sum = list_sum + num \n",
    "    print(list_sum)"
   ]
  },
  {
   "cell_type": "code",
   "execution_count": 116,
   "id": "8996ce0c-d088-46a7-bc5c-6e6ba2f3f508",
   "metadata": {},
   "outputs": [
    {
     "name": "stdout",
     "output_type": "stream",
     "text": [
      "H\n",
      "e\n",
      "l\n",
      "l\n",
      "o\n",
      " \n",
      "W\n",
      "o\n",
      "r\n",
      "l\n",
      "d\n"
     ]
    }
   ],
   "source": [
    "my_string = \"Hello World\"\n",
    "for letter in my_string:\n",
    "    print(letter)"
   ]
  },
  {
   "cell_type": "code",
   "execution_count": null,
   "id": "12293037-3d57-4956-b3a4-d06c69394681",
   "metadata": {},
   "outputs": [],
   "source": []
  },
  {
   "cell_type": "raw",
   "id": "de1b022e-c73e-4464-814d-f19d291d18ec",
   "metadata": {},
   "source": [
    "tup = (1,2,3)\n",
    "for item in tup:\n",
    "    print(item)"
   ]
  },
  {
   "cell_type": "code",
   "execution_count": 120,
   "id": "229b419a-cb2c-4f86-9dfe-92026ec46e96",
   "metadata": {},
   "outputs": [],
   "source": [
    "tup_list = [(1,2),(3,4),(5,6),(7,8)]"
   ]
  },
  {
   "cell_type": "code",
   "execution_count": 122,
   "id": "1d8d18cf-b7d5-46c0-9b93-07de4cdda2a6",
   "metadata": {},
   "outputs": [
    {
     "data": {
      "text/plain": [
       "4"
      ]
     },
     "execution_count": 122,
     "metadata": {},
     "output_type": "execute_result"
    }
   ],
   "source": [
    "len(tup_list)"
   ]
  },
  {
   "cell_type": "code",
   "execution_count": 124,
   "id": "4cf97cc6-4e35-4fb5-b731-9ab0edfca03c",
   "metadata": {},
   "outputs": [
    {
     "name": "stdout",
     "output_type": "stream",
     "text": [
      "(1, 2)\n",
      "(3, 4)\n",
      "(5, 6)\n",
      "(7, 8)\n"
     ]
    }
   ],
   "source": [
    "for i in tup_list:\n",
    "    print(i)"
   ]
  },
  {
   "cell_type": "markdown",
   "id": "401d1736-6bfc-45d9-9af6-527acb1d3a57",
   "metadata": {},
   "source": [
    "##### Tuple unpacking"
   ]
  },
  {
   "cell_type": "code",
   "execution_count": 144,
   "id": "262a722d-bc98-4700-8ae4-83291e4055d5",
   "metadata": {},
   "outputs": [
    {
     "name": "stdout",
     "output_type": "stream",
     "text": [
      "1\n",
      "2\n",
      "3\n",
      "4\n",
      "5\n",
      "6\n",
      "7\n",
      "8\n"
     ]
    }
   ],
   "source": [
    "for (a,b) in tup_list:\n",
    "    print(a)\n",
    "    print(b)"
   ]
  },
  {
   "cell_type": "code",
   "execution_count": 146,
   "id": "bfa32d38-ead4-4d0f-9044-52fe18bc355e",
   "metadata": {},
   "outputs": [
    {
     "name": "stdout",
     "output_type": "stream",
     "text": [
      "k1\n",
      "k2\n",
      "k3\n"
     ]
    }
   ],
   "source": [
    "d = {\"k1\":1,\"k2\":2,\"k3\":3}\n",
    "\n",
    "for item in d:\n",
    "    print(item)"
   ]
  },
  {
   "cell_type": "code",
   "execution_count": 162,
   "id": "e21c5b0b-2137-4bf2-a434-550743e2df5f",
   "metadata": {},
   "outputs": [
    {
     "name": "stdout",
     "output_type": "stream",
     "text": [
      "1\n",
      "2\n",
      "3\n"
     ]
    }
   ],
   "source": [
    "d = {\"k1\":1,\"k2\":2,\"k3\":3}\n",
    "# d.items FAZ COM QUE OS PARES SE TORNEM PARES EM TUPLES\n",
    "for key,value in d.items():\n",
    "    print(value)"
   ]
  },
  {
   "cell_type": "code",
   "execution_count": 166,
   "id": "f5e49087-0d7a-411a-8632-48575ae043cf",
   "metadata": {},
   "outputs": [
    {
     "name": "stdout",
     "output_type": "stream",
     "text": [
      "1\n",
      "2\n",
      "3\n"
     ]
    }
   ],
   "source": [
    "d = {\"k1\":1,\"k2\":2,\"k3\":3}\n",
    "\n",
    "for x in d.values():\n",
    "    print(x)"
   ]
  },
  {
   "cell_type": "markdown",
   "id": "24b0193b-8deb-49a2-acfe-c9779e641026",
   "metadata": {},
   "source": [
    "#### WHILE LOOPS"
   ]
  },
  {
   "cell_type": "code",
   "execution_count": 177,
   "id": "f717bf00-0873-445d-b561-1e04493b3932",
   "metadata": {},
   "outputs": [
    {
     "name": "stdout",
     "output_type": "stream",
     "text": [
      "O número é 0\n",
      "O número é 1\n",
      "O número é 2\n",
      "O número é 3\n",
      "O número é 4\n",
      "O número é 5\n",
      "FIM\n"
     ]
    }
   ],
   "source": [
    "num = 0\n",
    "while num <= 5:\n",
    "    print(f\"O número é {num}\")\n",
    "    num= num + 1\n",
    "    # num += 1 Executa o mesmo comando\n",
    "else:\n",
    "    print(\"FIM\")"
   ]
  },
  {
   "cell_type": "markdown",
   "id": "b537c2b0-c0c2-43d7-8162-a4b70c831cfd",
   "metadata": {},
   "source": [
    "##### BREAK, CONTINUE AND PASS"
   ]
  },
  {
   "cell_type": "code",
   "execution_count": 192,
   "id": "c386c9fc-406e-4297-bd9c-6dbb81d023ec",
   "metadata": {},
   "outputs": [
    {
     "name": "stdout",
     "output_type": "stream",
     "text": [
      "Final do código\n"
     ]
    }
   ],
   "source": [
    "x = [1,2,3]\n",
    "\n",
    "for item in x:\n",
    "    pass\n",
    "print(\"Final do código\") "
   ]
  },
  {
   "cell_type": "code",
   "execution_count": 194,
   "id": "2a884bf2-0bab-45e0-b7ce-1744ef8456f4",
   "metadata": {},
   "outputs": [],
   "source": [
    "mystring = \"Gustavo\""
   ]
  },
  {
   "cell_type": "code",
   "execution_count": 202,
   "id": "543270e8-1bf6-4398-ae7b-0d0e6724af0e",
   "metadata": {},
   "outputs": [
    {
     "name": "stdout",
     "output_type": "stream",
     "text": [
      "G\n",
      "u\n",
      "s\n",
      "t\n",
      "v\n",
      "o\n"
     ]
    }
   ],
   "source": [
    "for letter in mystring:\n",
    "    if letter == \"a\":\n",
    "        continue #<----retorna ao topo do LOOP\n",
    "    print(letter)"
   ]
  },
  {
   "cell_type": "code",
   "execution_count": 204,
   "id": "8d27e0df-6453-44c0-8a76-dc90b94e1dff",
   "metadata": {},
   "outputs": [
    {
     "name": "stdout",
     "output_type": "stream",
     "text": [
      "G\n",
      "u\n",
      "s\n",
      "t\n"
     ]
    }
   ],
   "source": [
    "for letter in mystring:\n",
    "    if letter == \"a\":\n",
    "        break #<----Quebra o lOOP no momento que a condição é atendida\n",
    "    print(letter)"
   ]
  },
  {
   "cell_type": "code",
   "execution_count": 208,
   "id": "a29d4c3d-d420-40f0-b098-1034373ed8ba",
   "metadata": {},
   "outputs": [
    {
     "name": "stdout",
     "output_type": "stream",
     "text": [
      "0\n",
      "1\n"
     ]
    }
   ],
   "source": [
    "x = 0\n",
    "\n",
    "while x < 5:\n",
    "    if x == 2:\n",
    "        break\n",
    "    print(x)\n",
    "    x += 1\n",
    "    "
   ]
  },
  {
   "cell_type": "markdown",
   "id": "2b3ad35a-27f2-4f07-8a61-5339675e9907",
   "metadata": {},
   "source": [
    "#### USEFUL OPERATORS"
   ]
  },
  {
   "cell_type": "code",
   "execution_count": 8,
   "id": "c59ec5e3-347d-42eb-84c7-964d2c37a163",
   "metadata": {},
   "outputs": [
    {
     "name": "stdout",
     "output_type": "stream",
     "text": [
      "3\n",
      "4\n",
      "5\n",
      "6\n",
      "7\n",
      "8\n",
      "9\n"
     ]
    }
   ],
   "source": [
    "for num in range(3,10): #usa (start,stop,step)\n",
    "    print(num)"
   ]
  },
  {
   "cell_type": "code",
   "execution_count": 87,
   "id": "e89bdf7f-5e92-487b-9e76-1423c2d3159d",
   "metadata": {},
   "outputs": [
    {
     "data": {
      "text/plain": [
       "[0, 1, 2, 3, 4, 5, 6, 7, 8, 9, 10, 11, 12, 13, 14, 15, 16, 17, 18]"
      ]
     },
     "execution_count": 87,
     "metadata": {},
     "output_type": "execute_result"
    }
   ],
   "source": [
    "list(range(0,19))"
   ]
  },
  {
   "cell_type": "code",
   "execution_count": 16,
   "id": "198b51d9-77a2-4d8c-a43f-46e377d6f1e8",
   "metadata": {},
   "outputs": [
    {
     "name": "stdout",
     "output_type": "stream",
     "text": [
      "At index 0 the letter is q\n",
      "At index 1 the letter is w\n",
      "At index 2 the letter is e\n",
      "At index 3 the letter is r\n",
      "At index 4 the letter is t\n",
      "At index 5 the letter is y\n"
     ]
    }
   ],
   "source": [
    "index_count = 0\n",
    "\n",
    "for letter in \"qwerty\":\n",
    "    print(f\"At index {index_count} the letter is {letter}\")\n",
    "    index_count += 1\n"
   ]
  },
  {
   "cell_type": "code",
   "execution_count": 20,
   "id": "21fb1b66-5566-4cb4-8d82-0292563ace64",
   "metadata": {},
   "outputs": [
    {
     "name": "stdout",
     "output_type": "stream",
     "text": [
      "(0, 'q')\n",
      "(1, 'w')\n",
      "(2, 'e')\n",
      "(3, 'r')\n",
      "(4, 't')\n",
      "(5, 'y')\n"
     ]
    }
   ],
   "source": [
    "word = \"qwerty\"\n",
    "\n",
    "for item in enumerate(word):\n",
    "    print(item)"
   ]
  },
  {
   "cell_type": "code",
   "execution_count": 24,
   "id": "3c8b3dc6-97ae-44ef-8b64-bb53fcf94f02",
   "metadata": {},
   "outputs": [
    {
     "name": "stdout",
     "output_type": "stream",
     "text": [
      "0\n",
      "q\n",
      "\n",
      "\n",
      "1\n",
      "w\n",
      "\n",
      "\n",
      "2\n",
      "e\n",
      "\n",
      "\n",
      "3\n",
      "r\n",
      "\n",
      "\n",
      "4\n",
      "t\n",
      "\n",
      "\n",
      "5\n",
      "y\n",
      "\n",
      "\n"
     ]
    }
   ],
   "source": [
    "word = \"qwerty\"\n",
    "\n",
    "for index,letter in enumerate(word):\n",
    "    print(index)\n",
    "    print(letter)\n",
    "    print(\"\\n\")"
   ]
  },
  {
   "cell_type": "code",
   "execution_count": 32,
   "id": "d3a07b4c-cd80-4e2d-a217-7297dde544df",
   "metadata": {},
   "outputs": [
    {
     "name": "stdout",
     "output_type": "stream",
     "text": [
      "(1, 'a', 100)\n",
      "(2, 'b', 200)\n",
      "(3, 'c', 300)\n"
     ]
    }
   ],
   "source": [
    "mylist1 = [1,2,3,4,5,6] #<---- ZIP vai ignorar o excedente, ou seja, \n",
    "mylist2 = [\"a\",\"b\",\"c\"] #<---- vai levar em conta apenas a menor lista\n",
    "mylist3 = [100,200,300]\n",
    "\n",
    "for x in zip(mylist1,mylist2,mylist3):\n",
    "    print(x)"
   ]
  },
  {
   "cell_type": "code",
   "execution_count": 40,
   "id": "8a27c1f3-97f8-4fd3-a9b0-636348fa7a2d",
   "metadata": {},
   "outputs": [
    {
     "name": "stdout",
     "output_type": "stream",
     "text": [
      "1 a 100\n",
      "2 b 200\n",
      "3 c 300\n"
     ]
    }
   ],
   "source": [
    "for a,b,c in zip(mylist1,mylist2,mylist3):\n",
    "    print(a,b,c)"
   ]
  },
  {
   "cell_type": "code",
   "execution_count": 34,
   "id": "f2f3edf7-2e05-47d2-ac1f-460403109043",
   "metadata": {},
   "outputs": [
    {
     "data": {
      "text/plain": [
       "[(1, 'a'), (2, 'b'), (3, 'c')]"
      ]
     },
     "execution_count": 34,
     "metadata": {},
     "output_type": "execute_result"
    }
   ],
   "source": [
    "list(zip(mylist1,mylist2))"
   ]
  },
  {
   "cell_type": "code",
   "execution_count": 42,
   "id": "69376de0-9823-41be-ba18-7fc85b47844c",
   "metadata": {},
   "outputs": [
    {
     "data": {
      "text/plain": [
       "True"
      ]
     },
     "execution_count": 42,
     "metadata": {},
     "output_type": "execute_result"
    }
   ],
   "source": [
    "1 in mylist1"
   ]
  },
  {
   "cell_type": "code",
   "execution_count": 44,
   "id": "03b28509-ba72-498c-a5fc-d8c722a18e7f",
   "metadata": {},
   "outputs": [
    {
     "data": {
      "text/plain": [
       "False"
      ]
     },
     "execution_count": 44,
     "metadata": {},
     "output_type": "execute_result"
    }
   ],
   "source": [
    "1 in mylist2"
   ]
  },
  {
   "cell_type": "code",
   "execution_count": 78,
   "id": "dae23e52-9a73-4b19-bc40-7713c0659059",
   "metadata": {},
   "outputs": [
    {
     "data": {
      "text/plain": [
       "True"
      ]
     },
     "execution_count": 78,
     "metadata": {},
     "output_type": "execute_result"
    }
   ],
   "source": [
    "dict = {\"k1\":1,\"k2\":2,\"k3\":3}\n",
    "\n",
    "\"k1\" in dict.keys()"
   ]
  },
  {
   "cell_type": "markdown",
   "id": "ab0833ae-2ae1-4714-b912-5584a9730f6b",
   "metadata": {},
   "source": [
    "##### MAX, MIN E RANDOM"
   ]
  },
  {
   "cell_type": "code",
   "execution_count": 80,
   "id": "d8e6235c-b9ab-4883-8d1e-5faa1eb182d9",
   "metadata": {},
   "outputs": [
    {
     "data": {
      "text/plain": [
       "[1, 2, 3, 4, 5, 6]"
      ]
     },
     "execution_count": 80,
     "metadata": {},
     "output_type": "execute_result"
    }
   ],
   "source": [
    "mylist1"
   ]
  },
  {
   "cell_type": "code",
   "execution_count": 82,
   "id": "fe3cabc8-f662-438b-8fcf-83d50d20e9dd",
   "metadata": {},
   "outputs": [
    {
     "data": {
      "text/plain": [
       "1"
      ]
     },
     "execution_count": 82,
     "metadata": {},
     "output_type": "execute_result"
    }
   ],
   "source": [
    " min(mylist1)"
   ]
  },
  {
   "cell_type": "code",
   "execution_count": 86,
   "id": "b8a96fd0-013f-4a7a-8977-45582c929aaf",
   "metadata": {},
   "outputs": [
    {
     "data": {
      "text/plain": [
       "6"
      ]
     },
     "execution_count": 86,
     "metadata": {},
     "output_type": "execute_result"
    }
   ],
   "source": [
    "max(mylist1)"
   ]
  },
  {
   "cell_type": "code",
   "execution_count": 89,
   "id": "e49371b3-3c98-410b-b0e6-727fe0c07874",
   "metadata": {},
   "outputs": [],
   "source": [
    "from random import shuffle"
   ]
  },
  {
   "cell_type": "code",
   "execution_count": 95,
   "id": "61e62a37-87bc-4b73-9f6c-e763055cfd0f",
   "metadata": {},
   "outputs": [],
   "source": [
    "shuffle(mylist1) #<---- IN PLACE FUNCTION"
   ]
  },
  {
   "cell_type": "code",
   "execution_count": 97,
   "id": "682244bf-2691-4f50-b0f3-a25a10e3da4d",
   "metadata": {},
   "outputs": [
    {
     "data": {
      "text/plain": [
       "[5, 4, 1, 2, 3, 6]"
      ]
     },
     "execution_count": 97,
     "metadata": {},
     "output_type": "execute_result"
    }
   ],
   "source": [
    "mylist1"
   ]
  },
  {
   "cell_type": "code",
   "execution_count": 99,
   "id": "435c2d54-0d31-4ca8-a44a-5b5ec1f5c468",
   "metadata": {},
   "outputs": [],
   "source": [
    "from random import randint"
   ]
  },
  {
   "cell_type": "code",
   "execution_count": 103,
   "id": "6ffbc2a1-c08b-4e60-8780-a287f7280e01",
   "metadata": {},
   "outputs": [],
   "source": [
    "randint(0,100)\n",
    "\n",
    "mynum = randint(0,100)"
   ]
  },
  {
   "cell_type": "code",
   "execution_count": 105,
   "id": "39b2a439-cb10-4038-bc5a-5fd78fb40843",
   "metadata": {},
   "outputs": [
    {
     "data": {
      "text/plain": [
       "49"
      ]
     },
     "execution_count": 105,
     "metadata": {},
     "output_type": "execute_result"
    }
   ],
   "source": [
    "mynum"
   ]
  },
  {
   "cell_type": "code",
   "execution_count": 109,
   "id": "cb56399b-65af-4e17-8181-c5756224d976",
   "metadata": {},
   "outputs": [
    {
     "name": "stdin",
     "output_type": "stream",
     "text": [
      "Digite sua idade: 26\n"
     ]
    }
   ],
   "source": [
    "idade = input(\"Digite sua idade:\")"
   ]
  },
  {
   "cell_type": "code",
   "execution_count": 111,
   "id": "7ed4b4c3-fac2-420d-91ed-3236edc1ae14",
   "metadata": {},
   "outputs": [
    {
     "data": {
      "text/plain": [
       "'26'"
      ]
     },
     "execution_count": 111,
     "metadata": {},
     "output_type": "execute_result"
    }
   ],
   "source": [
    "idade"
   ]
  },
  {
   "cell_type": "code",
   "execution_count": 113,
   "id": "bc0f8b13-63d7-4796-94ac-6f80cecfd71f",
   "metadata": {},
   "outputs": [
    {
     "data": {
      "text/plain": [
       "str"
      ]
     },
     "execution_count": 113,
     "metadata": {},
     "output_type": "execute_result"
    }
   ],
   "source": [
    " type(idade)"
   ]
  },
  {
   "cell_type": "code",
   "execution_count": 117,
   "id": "c4d5d5a7-cb72-442e-94ce-2c7c4cc3e37a",
   "metadata": {},
   "outputs": [
    {
     "data": {
      "text/plain": [
       "26"
      ]
     },
     "execution_count": 117,
     "metadata": {},
     "output_type": "execute_result"
    }
   ],
   "source": [
    "int(idade)"
   ]
  },
  {
   "cell_type": "code",
   "execution_count": 127,
   "id": "6b59a89f-3c99-416d-9739-6dcd382fe2f0",
   "metadata": {},
   "outputs": [
    {
     "name": "stdin",
     "output_type": "stream",
     "text": [
      "Digite o valor do produto: 29.99\n"
     ]
    }
   ],
   "source": [
    "preco = float(input(\"Digite o valor do produto:\"))"
   ]
  },
  {
   "cell_type": "code",
   "execution_count": 131,
   "id": "a5569c11-6f45-4b3f-83f9-c836507ad1b1",
   "metadata": {},
   "outputs": [
    {
     "data": {
      "text/plain": [
       "29.99"
      ]
     },
     "execution_count": 131,
     "metadata": {},
     "output_type": "execute_result"
    }
   ],
   "source": [
    "preco"
   ]
  },
  {
   "cell_type": "markdown",
   "id": "77f5954b-eeaf-460c-9e39-ff3d0770e94e",
   "metadata": {},
   "source": [
    "#### LIST COMPREHENSION"
   ]
  },
  {
   "cell_type": "code",
   "execution_count": 8,
   "id": "a82ba4a1-9634-4f9a-b172-2c798879c36a",
   "metadata": {},
   "outputs": [],
   "source": [
    "mystring = \"Hello\""
   ]
  },
  {
   "cell_type": "code",
   "execution_count": 16,
   "id": "a52aed45-63c2-4c91-811f-5e0b3620f269",
   "metadata": {},
   "outputs": [],
   "source": [
    "mylist = []\n",
    "mylist1 = []\n",
    "\n",
    "for let in mystring:\n",
    "    mylist.append(let)"
   ]
  },
  {
   "cell_type": "code",
   "execution_count": 14,
   "id": "8992fa89-9394-44ff-a217-1ea85ed01f69",
   "metadata": {},
   "outputs": [
    {
     "data": {
      "text/plain": [
       "['H', 'e', 'l', 'l', 'o']"
      ]
     },
     "execution_count": 14,
     "metadata": {},
     "output_type": "execute_result"
    }
   ],
   "source": [
    "mylist"
   ]
  },
  {
   "cell_type": "code",
   "execution_count": 20,
   "id": "378b4484-5fa5-4a09-83c7-525a5ef3e969",
   "metadata": {},
   "outputs": [
    {
     "name": "stdout",
     "output_type": "stream",
     "text": [
      "['H', 'e', 'l', 'l', 'o']\n"
     ]
    }
   ],
   "source": [
    "# EM PYTHON ISSO PODE SER FEITO EM APENAS UMA LINHA\n",
    "\n",
    "mylist1 = [letter for letter in mystring]\n",
    "\n",
    "print(mylist1)"
   ]
  },
  {
   "cell_type": "code",
   "execution_count": 28,
   "id": "73d582c5-c1eb-4b1c-8af9-217df69580b9",
   "metadata": {},
   "outputs": [],
   "source": [
    " mylist = [num for num in range(0,11)]\n",
    " mylist1 = [num**2 for num in range(0,11)]"
   ]
  },
  {
   "cell_type": "code",
   "execution_count": 30,
   "id": "c98352f4-9ce6-4c23-8bde-6c3966321e2a",
   "metadata": {},
   "outputs": [
    {
     "name": "stdout",
     "output_type": "stream",
     "text": [
      "[0, 1, 2, 3, 4, 5, 6, 7, 8, 9, 10]\n",
      "[0, 1, 4, 9, 16, 25, 36, 49, 64, 81, 100]\n"
     ]
    }
   ],
   "source": [
    "print(mylist)\n",
    "print(mylist1)"
   ]
  },
  {
   "cell_type": "code",
   "execution_count": 40,
   "id": "4f5687b6-40c7-4bf1-8339-37206438ba1a",
   "metadata": {},
   "outputs": [
    {
     "name": "stdout",
     "output_type": "stream",
     "text": [
      "[1, 3, 5, 7, 9]\n"
     ]
    }
   ],
   "source": [
    "#POSSIVEL COLOCAR OPERADOR CONDICIONAL\n",
    "\n",
    "mylist = [num for num in range(0,11) if num%2 == 1]\n",
    "\n",
    "print(mylist)"
   ]
  },
  {
   "cell_type": "code",
   "execution_count": 48,
   "id": "2d903a56-4f32-47ef-a45d-1698eb290a70",
   "metadata": {},
   "outputs": [],
   "source": [
    "celcius = [0,10,20,34.5]\n",
    "# CONVERSOR DE UMA LISTA DE ELEMENTOS DE CELSIUS PARA FAHRENHEIT\n",
    "fahrenheit = [((9/5)*temp + 32) for temp in celcius]"
   ]
  },
  {
   "cell_type": "code",
   "execution_count": 50,
   "id": "ea423c2e-857f-4c18-8db7-f7547ce25729",
   "metadata": {},
   "outputs": [
    {
     "data": {
      "text/plain": [
       "[32.0, 50.0, 68.0, 94.1]"
      ]
     },
     "execution_count": 50,
     "metadata": {},
     "output_type": "execute_result"
    }
   ],
   "source": [
    "fahrenheit"
   ]
  },
  {
   "cell_type": "code",
   "execution_count": null,
   "id": "253c2eba-f071-4e52-98c0-61144edd2421",
   "metadata": {},
   "outputs": [],
   "source": [
    "# IF ELSE É FEITO DE FORMA INVERTIDA (COMO BOA PRÁTICA, NAO SE RECOMENDA FAZER ISSO"
   ]
  },
  {
   "cell_type": "code",
   "execution_count": 53,
   "id": "88227805-ab26-494b-b33f-89a11809f4ca",
   "metadata": {},
   "outputs": [],
   "source": [
    "results = [ x if x%2 == 0 else \"ODD\" for x in range (0,11)]"
   ]
  },
  {
   "cell_type": "code",
   "execution_count": 55,
   "id": "25d4475b-aaeb-45b5-a9f2-2b4c1e48cf28",
   "metadata": {},
   "outputs": [
    {
     "data": {
      "text/plain": [
       "[0, 'ODD', 2, 'ODD', 4, 'ODD', 6, 'ODD', 8, 'ODD', 10]"
      ]
     },
     "execution_count": 55,
     "metadata": {},
     "output_type": "execute_result"
    }
   ],
   "source": [
    "results"
   ]
  },
  {
   "cell_type": "code",
   "execution_count": 83,
   "id": "34ba0cd4-28fc-4a53-9d88-dd8988ee56ed",
   "metadata": {},
   "outputs": [],
   "source": [
    "# NESTED LOOP DENTRO DE LIST COMPREHENSION\n",
    "# \"NORMAL\"\n",
    "mylist = []\n",
    "\n",
    "for x in [1,3,5]:\n",
    "    for y in [100,300,500]:\n",
    "        mylist.append(x*y)\n",
    "# USANDO LIST COMPREHENSION\n",
    "mylist1 = [x*y for x in [1,3,5] for y in [1,10,100]]\n",
    "\n"
   ]
  },
  {
   "cell_type": "code",
   "execution_count": 85,
   "id": "1c966002-4535-4955-9c82-7dc1176fa3cc",
   "metadata": {},
   "outputs": [
    {
     "name": "stdout",
     "output_type": "stream",
     "text": [
      "[100, 300, 500, 300, 900, 1500, 500, 1500, 2500]\n",
      "[1, 10, 100, 3, 30, 300, 5, 50, 500]\n"
     ]
    }
   ],
   "source": [
    "print(mylist)\n",
    "print(mylist1)"
   ]
  },
  {
   "cell_type": "code",
   "execution_count": null,
   "id": "60903380-a990-4e51-b11a-a4047a8f0ffa",
   "metadata": {},
   "outputs": [],
   "source": []
  }
 ],
 "metadata": {
  "kernelspec": {
   "display_name": "Python 3 (ipykernel)",
   "language": "python",
   "name": "python3"
  },
  "language_info": {
   "codemirror_mode": {
    "name": "ipython",
    "version": 3
   },
   "file_extension": ".py",
   "mimetype": "text/x-python",
   "name": "python",
   "nbconvert_exporter": "python",
   "pygments_lexer": "ipython3",
   "version": "3.11.7"
  }
 },
 "nbformat": 4,
 "nbformat_minor": 5
}
